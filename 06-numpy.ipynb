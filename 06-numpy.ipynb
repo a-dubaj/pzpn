{
 "cells": [
  {
   "cell_type": "markdown",
   "metadata": {},
   "source": [
    "## NumPy\n",
    "\n",
    "NumPy to podstawowy pakiet do obliczeń naukowych w Pythonie. Zawiera między innymi:\n",
    "- wydajny n-wymiarowy obiekt tablicy\n",
    "- funkcje upraszczające operacje na tablicach\n",
    "- narzędzia do integracji z C/C ++ i Fortran\n",
    "- operacje algebry liniowej, transformatę Fouriera i generator liczb losowych"
   ]
  },
  {
   "cell_type": "code",
   "execution_count": 1,
   "metadata": {},
   "outputs": [],
   "source": [
    "import numpy as np"
   ]
  },
  {
   "cell_type": "markdown",
   "metadata": {},
   "source": [
    "### Tablica\n",
    "\n",
    "Podstawowym obiektem w NumPy jest tablica `ndarray`. Tablicę można stworzyć z kolekcji za pomocą funkcji `ndarray` lub jej aliasu `array`."
   ]
  },
  {
   "cell_type": "code",
   "execution_count": 2,
   "metadata": {},
   "outputs": [
    {
     "name": "stdout",
     "output_type": "stream",
     "text": [
      "narr1 = [1 2 3]\n",
      "narr2 =\n",
      "[[1 2]\n",
      " [3 4]\n",
      " [5 5]]\n"
     ]
    }
   ],
   "source": [
    "narr1 = np.array([1,2,3])\n",
    "print(f'narr1 = {narr1}')\n",
    "narr2 = np.array([[1,2],[3,4],[5,5]])\n",
    "print(f'narr2 =\\n{narr2}')"
   ]
  },
  {
   "cell_type": "code",
   "execution_count": 3,
   "metadata": {},
   "outputs": [
    {
     "name": "stdout",
     "output_type": "stream",
     "text": [
      "[1 2 3]\n",
      "\tndim = 1\n",
      "\tshape = (3,)\n",
      "\tsize = 3\n",
      "\tdtype = int64\n",
      "\titemsize = 8\n",
      "\tdata = <memory at 0x7e3fb7fe3b80>\n",
      "[[1 2]\n",
      " [3 4]\n",
      " [5 5]]\n",
      "\tndim = 2\n",
      "\tshape = (3, 2)\n",
      "\tsize = 6\n",
      "\tdtype = int64\n",
      "\titemsize = 8\n",
      "\tdata = <memory at 0x7e3fb417d080>\n"
     ]
    }
   ],
   "source": [
    "for n in [narr1, narr2]:\n",
    "    print(n)\n",
    "    print(f'\\tndim = {n.ndim}')\n",
    "    print(f'\\tshape = {n.shape}')\n",
    "    print(f'\\tsize = {n.size}')\n",
    "    print(f'\\tdtype = {n.dtype}')\n",
    "    print(f'\\titemsize = {n.itemsize}')\n",
    "    print(f'\\tdata = {n.data}')"
   ]
  },
  {
   "cell_type": "markdown",
   "metadata": {},
   "source": [
    "W przeciwieństwie do kolekcji, tablice mogą mieć tylko jeden typ elementu."
   ]
  },
  {
   "cell_type": "code",
   "execution_count": 4,
   "metadata": {},
   "outputs": [
    {
     "name": "stdout",
     "output_type": "stream",
     "text": [
      "tablica: [1], typ: int64\n",
      "tablica: [1.], typ: float64\n",
      "tablica: [0.+1.j], typ: complex128\n",
      "tablica: ['123' '1'], typ: <U3\n"
     ]
    }
   ],
   "source": [
    "for val in [1, 1., 1j]:\n",
    "    arr = np.array([val])\n",
    "    print(f'tablica: {arr}, typ: {arr.dtype}')\n",
    "# można wymusić typ przy tworzeniu tablicy\n",
    "arr = np.array([123, 1], dtype=str)\n",
    "print(f'tablica: {arr}, typ: {arr.dtype}')"
   ]
  },
  {
   "cell_type": "markdown",
   "metadata": {},
   "source": [
    "Ogólne metody tworzenia tablic o specyficznych właściwościach."
   ]
  },
  {
   "cell_type": "code",
   "execution_count": 5,
   "metadata": {},
   "outputs": [
    {
     "name": "stdout",
     "output_type": "stream",
     "text": [
      "arange\n",
      "[1 2 3 4 5 6 7 8 9]\n",
      "zeros\n",
      "[[0. 0. 0.]\n",
      " [0. 0. 0.]]\n",
      "ones\n",
      "[[1. 1.]\n",
      " [1. 1.]\n",
      " [1. 1.]]\n",
      "empty\n",
      "[[5.1680549e-310 0.0000000e+000 0.0000000e+000 0.0000000e+000\n",
      "  0.0000000e+000 0.0000000e+000 0.0000000e+000]\n",
      " [0.0000000e+000 0.0000000e+000 0.0000000e+000 0.0000000e+000\n",
      "  0.0000000e+000 0.0000000e+000 0.0000000e+000]]\n",
      "random\n",
      "[[0.42498876 0.75463685]\n",
      " [0.42342506 0.0306849 ]]\n",
      "diag\n",
      "[[1 0 0 0 0]\n",
      " [0 2 0 0 0]\n",
      " [0 0 3 0 0]\n",
      " [0 0 0 4 0]\n",
      " [0 0 0 0 5]]\n"
     ]
    }
   ],
   "source": [
    "print(f'arange\\n{np.arange(1,10)}')\n",
    "print(f'zeros\\n{np.zeros((2,3))}')\n",
    "print(f'ones\\n{np.ones((3,2))}')\n",
    "print(f'empty\\n{np.empty((2,7))}') # bez inicjalizacji\n",
    "print(f'random\\n{np.random.rand(2,2)}')\n",
    "print(f'diag\\n{np.diag([1, 2, 3, 4, 5])}')"
   ]
  },
  {
   "cell_type": "markdown",
   "metadata": {},
   "source": [
    "Pobieranie wartości z tablic."
   ]
  },
  {
   "cell_type": "code",
   "execution_count": null,
   "metadata": {},
   "outputs": [],
   "source": [
    "print(narr1)\n",
    "print(narr2)\n",
    "# jak w kolekcjach\n",
    "print(f'narr1[1] = {narr1[1]}')\n",
    "print(f'narr2[1][1] = {narr2[1][1]}')\n",
    "# lub krócej\n",
    "print(f'narr2[1,1] = {narr2[1,1]}')\n",
    "# przecięcia podobnie w kolekcjach\n",
    "print(f'narr2[1,:] = {narr2[1,:]}')\n",
    "print(f'narr2[:,1] = {narr2[:,1]}')\n",
    "print(f'narr2[1,:1] = {narr2[1,:1]}')"
   ]
  },
  {
   "cell_type": "markdown",
   "metadata": {},
   "source": [
    "Operacje w tablicach wykonywane są na poszczególnych elementach, np. jak pomnożymy dwie tablice pomnożone zostaną tylko elementy na tych samych pozycjach przez siebie."
   ]
  },
  {
   "cell_type": "code",
   "execution_count": null,
   "metadata": {},
   "outputs": [],
   "source": [
    "a = np.random.randint(10,size=(2,3))\n",
    "print(f'a =\\n{a}')\n",
    "print(f'a+2 =\\n{a+2}')\n",
    "print(f'a**2 =\\n{a**2}')\n",
    "print(f'a*a =\\n{a*a}')"
   ]
  },
  {
   "cell_type": "markdown",
   "metadata": {},
   "source": [
    "### Macierze\n",
    "\n",
    "Numpy ma również typ macierzy `matrix`. Jest on podobny do tablicy ale podstawowe operacje wykonywane są w sposób macierzowy a nie tablicowy."
   ]
  },
  {
   "cell_type": "code",
   "execution_count": null,
   "metadata": {},
   "outputs": [],
   "source": [
    "m1 = np.matrix([[1,2], [3,4]])\n",
    "m2 = np.matrix([[5,6], [7,8]])\n",
    "\n",
    "print(f'm1*m2 =\\n{format(m1*m2)}')\n",
    "print(f'm1**2 =\\n{format(m1**2)}')\n",
    "print(f'm1*2 =\\n{format(m1*2)}')"
   ]
  },
  {
   "cell_type": "markdown",
   "metadata": {},
   "source": [
    "Tablic można używać podobnie wykorzystując odpowiednie funkcje (np. `dot`)."
   ]
  },
  {
   "cell_type": "code",
   "execution_count": null,
   "metadata": {},
   "outputs": [],
   "source": [
    "a1 = np.array([[1,2], [3,4]])\n",
    "a2 = np.array([[5,6], [7,8]])\n",
    "\n",
    "print(f'a1.dot(a2) = \\n{format(a1.dot(a2))}')\n",
    "print(f'a1*a2 = \\n{format(a1*a2)}')\n",
    "print(f'a1**2 = \\n {format(a1**2)}')\n",
    "print(f'a1*2 = \\n{format(a1*2)}')"
   ]
  },
  {
   "cell_type": "markdown",
   "metadata": {},
   "source": [
    "Operacje algebry liniowej można wykonywać zarówno na tablicach jak i macierzach"
   ]
  },
  {
   "cell_type": "code",
   "execution_count": null,
   "metadata": {},
   "outputs": [],
   "source": [
    "print(f'det(m1) = {np.linalg.det(m1):.02f}')\n",
    "print(f'det(a1) = {np.linalg.det(a1):.02f}')"
   ]
  },
  {
   "cell_type": "markdown",
   "metadata": {},
   "source": [
    "## Zadanie\n",
    "Mamy liczbę trzycyfrową. Jeżeli od liczby dziesiątek odejmiemy liczbę jedności otrzymamy 6. Jeżeli do liczby dziesiątek dodamy liczbę jedności otrzymamy 10.\n",
    "\n",
    "* znajdź wszystkie liczby trzycyfrowe spełniające ten warunek\n",
    "* znajdź liczby trzycyfrowe podzielne przez 3\n",
    "\n",
    "[Podpowiedź](https://pl.wikipedia.org/wiki/Uk%C5%82ad_r%C3%B3wna%C5%84_liniowych):\n",
    "$$ Ax=B $$\n",
    "$$ x = A^{-1}B $$"
   ]
  },
  {
   "cell_type": "code",
   "execution_count": 9,
   "metadata": {},
   "outputs": [],
   "source": [
    "A = np.matrix([[1, -1], [1,1]])\n",
    "B = np.matrix([[6], [10]])"
   ]
  },
  {
   "cell_type": "code",
   "execution_count": 10,
   "metadata": {},
   "outputs": [
    {
     "data": {
      "text/plain": [
       "matrix([[8.],\n",
       "        [2.]])"
      ]
     },
     "execution_count": 10,
     "metadata": {},
     "output_type": "execute_result"
    }
   ],
   "source": [
    "A ** -1 * B"
   ]
  },
  {
   "cell_type": "code",
   "execution_count": 13,
   "metadata": {},
   "outputs": [],
   "source": [
    "A = np.array([[1, -1],[1,1]])\n",
    "B = np.array([[6], [10]])\n",
    "x = np.linalg.inv(A).dot(B)"
   ]
  },
  {
   "cell_type": "code",
   "execution_count": 14,
   "metadata": {},
   "outputs": [
    {
     "data": {
      "text/plain": [
       "array([[8.],\n",
       "       [2.]])"
      ]
     },
     "execution_count": 14,
     "metadata": {},
     "output_type": "execute_result"
    }
   ],
   "source": [
    "x"
   ]
  },
  {
   "cell_type": "code",
   "execution_count": null,
   "metadata": {},
   "outputs": [],
   "source": []
  }
 ],
 "metadata": {
  "kernelspec": {
   "display_name": "Python 3 (ipykernel)",
   "language": "python",
   "name": "python3"
  },
  "language_info": {
   "codemirror_mode": {
    "name": "ipython",
    "version": 3
   },
   "file_extension": ".py",
   "mimetype": "text/x-python",
   "name": "python",
   "nbconvert_exporter": "python",
   "pygments_lexer": "ipython3",
   "version": "3.10.12"
  }
 },
 "nbformat": 4,
 "nbformat_minor": 4
}
