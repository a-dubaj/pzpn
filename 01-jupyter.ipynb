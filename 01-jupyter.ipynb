{
 "cells": [
  {
   "cell_type": "markdown",
   "metadata": {
    "slideshow": {
     "slide_type": "slide"
    }
   },
   "source": [
    "# Jupyter Notebook"
   ]
  },
  {
   "cell_type": "markdown",
   "metadata": {
    "slideshow": {
     "slide_type": "subslide"
    }
   },
   "source": [
    "[Jupyter Notebook](http://jupyter.org/) to narzędzie pozwalające na interaktywną pracę z wieloma językami programowania np. z Python, Julia lub R. Wtyczki obsługujące wybrane języki i inne narzędzia nazywane są [kernelami](https://github.com/jupyter/jupyter/wiki/Jupyter-kernels). Jupyter Notebook jest częścią większego środowiska [JupyterLab](http://jupyter.org/)."
   ]
  },
  {
   "cell_type": "markdown",
   "metadata": {
    "slideshow": {
     "slide_type": "fragment"
    }
   },
   "source": [
    "Notatnik podzielony jest na komórki pomiędzy którymi można się poruszać za pomocą klawiszy strzałek góra/dół. \n",
    "\n",
    "Notatnik działa w dwóch trybach:\n",
    "- edycji (po wciśnięciu `Enter`, zielona ramka komórki),\n",
    "- wydawania komend (po wciśnięciu `Esc`, niebieska ramka wokół komórki).\n",
    "\n",
    "Skróty klawiszowe dostępne są w trybie wydawania komend po wciśnięciu `h`. Korzystanie ze skrótów znacząco przyspiesza pracę."
   ]
  },
  {
   "cell_type": "markdown",
   "metadata": {
    "slideshow": {
     "slide_type": "subslide"
    }
   },
   "source": [
    "Komórki mają różne formaty np. mogą zawierać tekst lub kod źródłowy. Można go zmieniać za pomocą górnego paska (`Markdown`, `Code`), używając menu (`Cell` → `Cell Type`) lub skrótów klawiaturowych np. `m` lub `y`."
   ]
  },
  {
   "cell_type": "markdown",
   "metadata": {
    "slideshow": {
     "slide_type": "subslide"
    }
   },
   "source": [
    "Komórki można uruchamiać, efekt będzie zależny od typu komórki (kod zostanie uruchomiony, tekst zostanie sformatowany)\n",
    "- `Ctrl + Enter` - wykonuje komórkę\n",
    "- `Shift + Enter` - wykonuje komórkę i przechodzi do następnej\n",
    "- `Alt + Enter` - wykonuje komórkę i tworzy nową poniżej\n"
   ]
  },
  {
   "cell_type": "markdown",
   "metadata": {
    "slideshow": {
     "slide_type": "slide"
    }
   },
   "source": [
    "## Markdown\n",
    "\n",
    "Komórki z opisami można edytować używając [języka znaczników **Markdown**](https://en.wikipedia.org/wiki/Markdown).\n",
    "\n",
    "![Logo Markdown](https://upload.wikimedia.org/wikipedia/commons/thumb/4/48/Markdown-mark.svg/320px-Markdown-mark.svg.png)"
   ]
  },
  {
   "cell_type": "markdown",
   "metadata": {
    "slideshow": {
     "slide_type": "subslide"
    }
   },
   "source": [
    "### Formatowanie tekstu\n",
    "\n",
    "Tekst może być:\n",
    "* *pochyły*, _pochyły_\n",
    "* **pogrubiony**, __pogrubiony__\n",
    "* ~skreślony~\n",
    "* `o stałej szerokości`\n",
    "\n",
    "Można stosować również wyliczenia:\n",
    "1. Punkt pierwszy\n",
    "1. Punkt drugi\n",
    "\n",
    "Cytowanie\n",
    "> To jest cytat\n",
    "\n",
    "Kod źródłowy\n",
    "\n",
    "```python\n",
    "# kawałek kodu w Python\n",
    "print(\"Big Data\".upper())\n",
    "```"
   ]
  },
  {
   "cell_type": "markdown",
   "metadata": {
    "slideshow": {
     "slide_type": "subslide"
    }
   },
   "source": [
    "#### Matematyka\n",
    "\n",
    "Możliwe jest użycie znaczników $\\LaTeX$ zarówno w tekście $\\sqrt{2} = 1.41\\ldots$ jak i jako odrębne wzory\n",
    "\n",
    "$$x = \\frac{-b \\pm \\sqrt{b^2 - 4ac}}{2a}$$\n",
    "\n",
    "$$\\sum_{k=1}^\\infty \\frac{(-1)^k}{2k-1} = 1 - \\tfrac{1}{3} + \\tfrac{1}{5} + \\ldots = \\frac{\\pi}{4} $$"
   ]
  },
  {
   "cell_type": "markdown",
   "metadata": {
    "slideshow": {
     "slide_type": "subslide"
    }
   },
   "source": [
    "### Tabele"
   ]
  },
  {
   "cell_type": "markdown",
   "metadata": {
    "slideshow": {
     "slide_type": "fragment"
    }
   },
   "source": [
    "| Godzina     | Temperatura |\n",
    "| ----------- | ----------- |\n",
    "| 1:00        | -12,4       |\n",
    "| 2:00        | -13,2       |\n",
    "| 3:00        | -13,8       |\n",
    "| 4:00        | -14,1       |\n",
    "| 5:00        | -13,0       |\n",
    "| 6:00        | -10,1       |\n",
    "| 7:00        | -6,4        |\n",
    "| 8:00        | -2,4        |"
   ]
  },
  {
   "cell_type": "markdown",
   "metadata": {
    "slideshow": {
     "slide_type": "subslide"
    }
   },
   "source": [
    "Więcej informacji o składni Markdown pod adresem https://www.markdownguide.org/basic-syntax/."
   ]
  },
  {
   "cell_type": "markdown",
   "metadata": {
    "slideshow": {
     "slide_type": "slide"
    }
   },
   "source": [
    "## Kod źródłowy\n",
    "\n",
    "W komórkach z kodem można m.in. zapisywać kod w języku Python oraz wykonywać polecenia powłoki. Kolejność wykonania komórek ma znaczenie, ponieważ kernel `ipython` (silnik notatnika) zapamiętuje kontekst wykonania aż do momentu w którym nie zostanie zresetowany (menu `Kernel`)."
   ]
  },
  {
   "cell_type": "code",
   "metadata": {
    "slideshow": {
     "slide_type": "fragment"
    },
    "ExecuteTime": {
     "end_time": "2024-06-15T14:34:03.115872Z",
     "start_time": "2024-06-15T14:34:03.106159Z"
    }
   },
   "source": [
    "3 + 7"
   ],
   "outputs": [
    {
     "data": {
      "text/plain": [
       "10"
      ]
     },
     "execution_count": 1,
     "metadata": {},
     "output_type": "execute_result"
    }
   ],
   "execution_count": 1
  },
  {
   "cell_type": "code",
   "metadata": {
    "slideshow": {
     "slide_type": "fragment"
    },
    "ExecuteTime": {
     "end_time": "2024-06-15T14:34:17.744079Z",
     "start_time": "2024-06-15T14:34:17.739350Z"
    }
   },
   "source": [
    "_**2"
   ],
   "outputs": [
    {
     "data": {
      "text/plain": [
       "100"
      ]
     },
     "execution_count": 2,
     "metadata": {},
     "output_type": "execute_result"
    }
   ],
   "execution_count": 2
  },
  {
   "cell_type": "code",
   "metadata": {
    "slideshow": {
     "slide_type": "fragment"
    },
    "ExecuteTime": {
     "end_time": "2024-06-15T14:34:18.752829Z",
     "start_time": "2024-06-15T14:34:18.749403Z"
    }
   },
   "source": [
    "print('Big Data'.upper())"
   ],
   "outputs": [
    {
     "name": "stdout",
     "output_type": "stream",
     "text": [
      "BIG DATA\n"
     ]
    }
   ],
   "execution_count": 3
  },
  {
   "cell_type": "code",
   "metadata": {
    "slideshow": {
     "slide_type": "fragment"
    },
    "ExecuteTime": {
     "end_time": "2024-06-15T14:34:19.795556Z",
     "start_time": "2024-06-15T14:34:19.676661Z"
    }
   },
   "source": [
    "!dir"
   ],
   "outputs": [
    {
     "name": "stdout",
     "output_type": "stream",
     "text": [
      "01-jupyter.ipynb\t       07-matplotlib.ipynb\r\n",
      "02-python-numeric.ipynb        08-concurrency.ipynb\r\n",
      "03-python-sequences.ipynb      09-python-programming-2.ipynb\r\n",
      "04-python-set-dict.ipynb       10-pandas.ipynb\r\n",
      "051-challenge.ipynb\t       11-scipy.ipynb\r\n",
      "052-challenge-sol.ipynb        draw.svg\r\n",
      "05-python-programming-1.ipynb  README.md\r\n",
      "06-numpy.ipynb\r\n"
     ]
    }
   ],
   "execution_count": 4
  },
  {
   "cell_type": "code",
   "metadata": {
    "ExecuteTime": {
     "end_time": "2024-06-15T14:34:20.836480Z",
     "start_time": "2024-06-15T14:34:20.831390Z"
    }
   },
   "source": [
    "1 + 2\n",
    "2 + 3 # z komórki drukowana jest domyślnie wartość ostatniego wyrażenia"
   ],
   "outputs": [
    {
     "data": {
      "text/plain": [
       "5"
      ]
     },
     "execution_count": 5,
     "metadata": {},
     "output_type": "execute_result"
    }
   ],
   "execution_count": 5
  },
  {
   "cell_type": "code",
   "metadata": {
    "ExecuteTime": {
     "end_time": "2024-06-15T14:34:21.942880Z",
     "start_time": "2024-06-15T14:34:21.938448Z"
    }
   },
   "source": [
    "# można to zmienić rekonfigurując powłokę IPython (na stałe w pliku $HOME/.ipython)\n",
    "import IPython\n",
    "IPython.InteractiveShell.ast_node_interactivity='all'"
   ],
   "outputs": [],
   "execution_count": 6
  },
  {
   "cell_type": "code",
   "metadata": {
    "ExecuteTime": {
     "end_time": "2024-06-15T14:34:22.513541Z",
     "start_time": "2024-06-15T14:34:22.508522Z"
    }
   },
   "source": [
    "# zamiast domyślnego drukowania wartości można użyć funkcji print\n",
    "print(1 + 2)\n",
    "print(2 + 3)"
   ],
   "outputs": [
    {
     "name": "stdout",
     "output_type": "stream",
     "text": [
      "3\n",
      "5\n"
     ]
    }
   ],
   "execution_count": 7
  },
  {
   "cell_type": "markdown",
   "metadata": {
    "slideshow": {
     "slide_type": "slide"
    }
   },
   "source": [
    "## Inne możliwości"
   ]
  },
  {
   "cell_type": "markdown",
   "metadata": {
    "slideshow": {
     "slide_type": "subslide"
    }
   },
   "source": [
    "Użycie modułu `display` z pakietu `IPython` zwiększa możliwości notatnika."
   ]
  },
  {
   "cell_type": "code",
   "metadata": {
    "slideshow": {
     "slide_type": "fragment"
    },
    "ExecuteTime": {
     "end_time": "2024-06-15T14:34:24.658905Z",
     "start_time": "2024-06-15T14:34:24.653093Z"
    }
   },
   "source": [
    "from IPython import display"
   ],
   "outputs": [],
   "execution_count": 8
  },
  {
   "cell_type": "code",
   "metadata": {
    "slideshow": {
     "slide_type": "subslide"
    },
    "ExecuteTime": {
     "end_time": "2024-06-15T14:34:25.160835Z",
     "start_time": "2024-06-15T14:34:25.155108Z"
    }
   },
   "source": [
    "display.Image(url='http://imgs.xkcd.com/comics/python.png')"
   ],
   "outputs": [
    {
     "data": {
      "text/html": [
       "<img src=\"http://imgs.xkcd.com/comics/python.png\"/>"
      ],
      "text/plain": [
       "<IPython.core.display.Image object>"
      ]
     },
     "execution_count": 9,
     "metadata": {},
     "output_type": "execute_result"
    }
   ],
   "execution_count": 9
  },
  {
   "cell_type": "code",
   "metadata": {
    "slideshow": {
     "slide_type": "subslide"
    },
    "ExecuteTime": {
     "end_time": "2024-06-15T14:34:25.868021Z",
     "start_time": "2024-06-15T14:34:25.554097Z"
    }
   },
   "source": [
    "display.YouTubeVideo('i6G6dmVJy74')"
   ],
   "outputs": [
    {
     "data": {
      "text/plain": [
       "<IPython.lib.display.YouTubeVideo at 0x75732011f6d0>"
      ],
      "text/html": [
       "\n",
       "        <iframe\n",
       "            width=\"400\"\n",
       "            height=\"300\"\n",
       "            src=\"https://www.youtube.com/embed/i6G6dmVJy74\"\n",
       "            frameborder=\"0\"\n",
       "            allowfullscreen\n",
       "            \n",
       "        ></iframe>\n",
       "        "
      ],
      "image/jpeg": "[encoded data removed]"
     },
     "execution_count": 10,
     "metadata": {},
     "output_type": "execute_result"
    }
   ],
   "execution_count": 10
  },
  {
   "cell_type": "code",
   "metadata": {
    "slideshow": {
     "slide_type": "subslide"
    },
    "ExecuteTime": {
     "end_time": "2024-06-15T14:34:27.580302Z",
     "start_time": "2024-06-15T14:34:27.574591Z"
    }
   },
   "source": [
    "display.HTML(r'To jest <i>kod</i> <code>html</code> w <b>jupyter</b>!')"
   ],
   "outputs": [
    {
     "data": {
      "text/plain": [
       "<IPython.core.display.HTML object>"
      ],
      "text/html": [
       "To jest <i>kod</i> <code>html</code> w <b>jupyter</b>!"
      ]
     },
     "execution_count": 11,
     "metadata": {},
     "output_type": "execute_result"
    }
   ],
   "execution_count": 11
  },
  {
   "cell_type": "code",
   "metadata": {
    "slideshow": {
     "slide_type": "subslide"
    },
    "ExecuteTime": {
     "end_time": "2024-06-15T14:34:29.794084Z",
     "start_time": "2024-06-15T14:34:29.786301Z"
    }
   },
   "source": [
    "display.Javascript(r\"alert('Pozdrowienia z notatnika!')\")"
   ],
   "outputs": [
    {
     "data": {
      "text/plain": [
       "<IPython.core.display.Javascript object>"
      ],
      "application/javascript": "alert('Pozdrowienia z notatnika!')"
     },
     "execution_count": 12,
     "metadata": {},
     "output_type": "execute_result"
    }
   ],
   "execution_count": 12
  },
  {
   "cell_type": "code",
   "metadata": {
    "slideshow": {
     "slide_type": "subslide"
    },
    "ExecuteTime": {
     "end_time": "2024-06-15T14:34:31.453192Z",
     "start_time": "2024-06-15T14:34:31.444347Z"
    }
   },
   "source": [
    "display.Latex(r'$x = \\frac{-b \\pm \\sqrt{b^2 - 4ac}}{2a}$')"
   ],
   "outputs": [
    {
     "data": {
      "text/plain": [
       "<IPython.core.display.Latex object>"
      ],
      "text/latex": "$x = \\frac{-b \\pm \\sqrt{b^2 - 4ac}}{2a}$"
     },
     "execution_count": 13,
     "metadata": {},
     "output_type": "execute_result"
    }
   ],
   "execution_count": 13
  },
  {
   "cell_type": "markdown",
   "metadata": {
    "slideshow": {
     "slide_type": "subslide"
    }
   },
   "source": [
    "Możliwy jest import konkretnych funkcji."
   ]
  },
  {
   "cell_type": "code",
   "metadata": {
    "slideshow": {
     "slide_type": "fragment"
    },
    "ExecuteTime": {
     "end_time": "2024-06-15T14:34:33.287318Z",
     "start_time": "2024-06-15T14:34:33.282719Z"
    }
   },
   "source": [
    "from IPython.display import HTML, SVG"
   ],
   "outputs": [],
   "execution_count": 14
  },
  {
   "cell_type": "code",
   "metadata": {
    "slideshow": {
     "slide_type": "fragment"
    },
    "ExecuteTime": {
     "end_time": "2024-06-15T14:34:34.070059Z",
     "start_time": "2024-06-15T14:34:34.065496Z"
    }
   },
   "source": [
    "HTML(r'To jest <i>kod</i> <code>HTML</code> w <b>jupyter</b>!')"
   ],
   "outputs": [
    {
     "data": {
      "text/plain": [
       "<IPython.core.display.HTML object>"
      ],
      "text/html": [
       "To jest <i>kod</i> <code>HTML</code> w <b>jupyter</b>!"
      ]
     },
     "execution_count": 15,
     "metadata": {},
     "output_type": "execute_result"
    }
   ],
   "execution_count": 15
  },
  {
   "cell_type": "code",
   "metadata": {
    "slideshow": {
     "slide_type": "fragment"
    },
    "ExecuteTime": {
     "end_time": "2024-06-15T14:34:35.314184Z",
     "start_time": "2024-06-15T14:34:35.063693Z"
    }
   },
   "source": [
    "SVG('https://www.python.org/static/community_logos/python-logo-generic.svg')"
   ],
   "outputs": [
    {
     "data": {
      "text/plain": [
       "<IPython.core.display.SVG object>"
      ],
      "image/svg+xml": "<svg xmlns:dc=\"http://purl.org/dc/elements/1.1/\" xmlns:cc=\"http://web.resource.org/cc/\" xmlns:rdf=\"http://www.w3.org/1999/02/22-rdf-syntax-ns#\" xmlns:svg=\"http://www.w3.org/2000/svg\" xmlns=\"http://www.w3.org/2000/svg\" xmlns:xlink=\"http://www.w3.org/1999/xlink\" xmlns:sodipodi=\"http://inkscape.sourceforge.net/DTD/sodipodi-0.dtd\" xmlns:inkscape=\"http://www.inkscape.org/namespaces/inkscape\" version=\"1.0\" width=\"388.84pt\" height=\"115.02pt\" id=\"svg2\" sodipodi:version=\"0.32\" inkscape:version=\"0.43\" sodipodi:docname=\"logo-python-generic.svg\" sodipodi:docbase=\"/home/sdeibel\">\n  <metadata id=\"metadata2193\">\n    <rdf:RDF>\n      <cc:Work rdf:about=\"\">\n        <dc:format>image/svg+xml</dc:format>\n        <dc:type rdf:resource=\"http://purl.org/dc/dcmitype/StillImage\"/>\n      </cc:Work>\n    </rdf:RDF>\n  </metadata>\n  <sodipodi:namedview inkscape:window-height=\"543\" inkscape:window-width=\"791\" inkscape:pageshadow=\"2\" inkscape:pageopacity=\"0.0\" borderopacity=\"1.0\" bordercolor=\"#666666\" pagecolor=\"#ffffff\" id=\"base\" inkscape:zoom=\"1.4340089\" inkscape:cx=\"243.02499\" inkscape:cy=\"71.887497\" inkscape:window-x=\"0\" inkscape:window-y=\"0\" inkscape:current-layer=\"svg2\"/>\n  <defs id=\"defs4\">\n    <linearGradient id=\"linearGradient2795\">\n      <stop style=\"stop-color:#b8b8b8;stop-opacity:0.49803922\" offset=\"0\" id=\"stop2797\"/>\n      <stop style=\"stop-color:#7f7f7f;stop-opacity:0\" offset=\"1\" id=\"stop2799\"/>\n    </linearGradient>\n    <linearGradient id=\"linearGradient2787\">\n      <stop style=\"stop-color:#7f7f7f;stop-opacity:0.5\" offset=\"0\" id=\"stop2789\"/>\n      <stop style=\"stop-color:#7f7f7f;stop-opacity:0\" offset=\"1\" id=\"stop2791\"/>\n    </linearGradient>\n    <linearGradient id=\"linearGradient3676\">\n      <stop style=\"stop-color:#b2b2b2;stop-opacity:0.5\" offset=\"0\" id=\"stop3678\"/>\n      <stop style=\"stop-color:#b3b3b3;stop-opacity:0\" offset=\"1\" id=\"stop3680\"/>\n    </linearGradient>\n    <linearGradient id=\"linearGradient3236\">\n      <stop style=\"stop-color:#f4f4f4;stop-opacity:1\" offset=\"0\" id=\"stop3244\"/>\n      <stop style=\"stop-color:#ffffff;stop-opacity:1\" offset=\"1\" id=\"stop3240\"/>\n    </linearGradient>\n    <linearGradient id=\"linearGradient4671\">\n      <stop style=\"stop-color:#ffd43b;stop-opacity:1\" offset=\"0\" id=\"stop4673\"/>\n      <stop style=\"stop-color:#ffe873;stop-opacity:1\" offset=\"1\" id=\"stop4675\"/>\n    </linearGradient>\n    <linearGradient id=\"linearGradient4689\">\n      <stop style=\"stop-color:#5a9fd4;stop-opacity:1\" offset=\"0\" id=\"stop4691\"/>\n      <stop style=\"stop-color:#306998;stop-opacity:1\" offset=\"1\" id=\"stop4693\"/>\n    </linearGradient>\n    <linearGradient x1=\"224.23996\" y1=\"144.75717\" x2=\"-65.308502\" y2=\"144.75717\" id=\"linearGradient2987\" xlink:href=\"#linearGradient4671\" gradientUnits=\"userSpaceOnUse\" gradientTransform=\"translate(100.2702,99.61116)\"/>\n    <linearGradient x1=\"172.94208\" y1=\"77.475983\" x2=\"26.670298\" y2=\"76.313133\" id=\"linearGradient2990\" xlink:href=\"#linearGradient4689\" gradientUnits=\"userSpaceOnUse\" gradientTransform=\"translate(100.2702,99.61116)\"/>\n    <linearGradient x1=\"172.94208\" y1=\"77.475983\" x2=\"26.670298\" y2=\"76.313133\" id=\"linearGradient2587\" xlink:href=\"#linearGradient4689\" gradientUnits=\"userSpaceOnUse\" gradientTransform=\"translate(100.2702,99.61116)\"/>\n    <linearGradient x1=\"224.23996\" y1=\"144.75717\" x2=\"-65.308502\" y2=\"144.75717\" id=\"linearGradient2589\" xlink:href=\"#linearGradient4671\" gradientUnits=\"userSpaceOnUse\" gradientTransform=\"translate(100.2702,99.61116)\"/>\n    <linearGradient x1=\"172.94208\" y1=\"77.475983\" x2=\"26.670298\" y2=\"76.313133\" id=\"linearGradient2248\" xlink:href=\"#linearGradient4689\" gradientUnits=\"userSpaceOnUse\" gradientTransform=\"translate(100.2702,99.61116)\"/>\n    <linearGradient x1=\"224.23996\" y1=\"144.75717\" x2=\"-65.308502\" y2=\"144.75717\" id=\"linearGradient2250\" xlink:href=\"#linearGradient4671\" gradientUnits=\"userSpaceOnUse\" gradientTransform=\"translate(100.2702,99.61116)\"/>\n    <linearGradient x1=\"224.23996\" y1=\"144.75717\" x2=\"-65.308502\" y2=\"144.75717\" id=\"linearGradient2255\" xlink:href=\"#linearGradient4671\" gradientUnits=\"userSpaceOnUse\" gradientTransform=\"matrix(0.562541,0,0,0.567972,-11.5974,-7.60954)\"/>\n    <linearGradient x1=\"172.94208\" y1=\"76.176224\" x2=\"26.670298\" y2=\"76.313133\" id=\"linearGradient2258\" xlink:href=\"#linearGradient4689\" gradientUnits=\"userSpaceOnUse\" gradientTransform=\"matrix(0.562541,0,0,0.567972,-11.5974,-7.60954)\"/>\n    <radialGradient cx=\"61.518883\" cy=\"132.28575\" r=\"29.036913\" fx=\"61.518883\" fy=\"132.28575\" id=\"radialGradient2801\" xlink:href=\"#linearGradient2795\" gradientUnits=\"userSpaceOnUse\" gradientTransform=\"matrix(1,0,0,0.177966,0,108.7434)\"/>\n    <linearGradient x1=\"150.96111\" y1=\"192.35176\" x2=\"112.03144\" y2=\"137.27299\" id=\"linearGradient1475\" xlink:href=\"#linearGradient4671\" gradientUnits=\"userSpaceOnUse\" gradientTransform=\"matrix(0.562541,0,0,0.567972,-9.399749,-5.305317)\"/>\n    <linearGradient x1=\"26.648937\" y1=\"20.603781\" x2=\"135.66525\" y2=\"114.39767\" id=\"linearGradient1478\" xlink:href=\"#linearGradient4689\" gradientUnits=\"userSpaceOnUse\" gradientTransform=\"matrix(0.562541,0,0,0.567972,-9.399749,-5.305317)\"/>\n    <radialGradient cx=\"61.518883\" cy=\"132.28575\" r=\"29.036913\" fx=\"61.518883\" fy=\"132.28575\" id=\"radialGradient1480\" xlink:href=\"#linearGradient2795\" gradientUnits=\"userSpaceOnUse\" gradientTransform=\"matrix(2.382716e-8,-0.296405,1.43676,4.683673e-7,-128.544,150.5202)\"/>\n  </defs>\n  <g id=\"g2303\">\n    <path id=\"path46\" style=\"fill:#646464;fill-opacity:1\" d=\"M 184.61344,61.929363 C 184.61344,47.367213 180.46118,39.891193 172.15666,39.481813 C 168.85239,39.325863 165.62611,39.852203 162.48754,41.070593 C 159.98254,41.967323 158.2963,42.854313 157.40931,43.751043 L 157.40931,78.509163 C 162.72147,81.842673 167.43907,83.392453 171.55234,83.148783 C 180.25649,82.573703 184.61344,75.507063 184.61344,61.929363 z M 194.85763,62.533683 C 194.85763,69.931723 193.12265,76.072393 189.63319,80.955683 C 185.7441,86.482283 180.35396,89.328433 173.46277,89.484393 C 168.26757,89.650093 162.91642,88.022323 157.40931,84.610843 L 157.40931,116.20116 L 148.50047,113.02361 L 148.50047,42.903043 C 149.96253,41.109583 151.84372,39.569543 154.12454,38.263433 C 159.42696,35.173603 165.86978,33.584823 173.45302,33.506853 L 173.57973,33.633563 C 180.50991,33.545833 185.85132,36.391993 189.60395,42.162263 C 193.10315,47.454933 194.85763,54.238913 194.85763,62.533683 z \"/>\n    <path id=\"path48\" style=\"fill:#646464;fill-opacity:1\" d=\"M 249.30487,83.265743 C 249.30487,93.188283 248.31067,100.05998 246.32227,103.88084 C 244.32411,107.7017 240.52275,110.75254 234.90842,113.02361 C 230.35653,114.81707 225.43425,115.79178 220.15133,115.95748 L 218.67952,110.34316 C 224.05016,109.61213 227.83204,108.88109 230.02513,108.15006 C 234.34309,106.688 237.30621,104.44617 238.93397,101.44406 C 240.24008,98.997543 240.88339,94.328693 240.88339,87.418003 L 240.88339,85.098203 C 234.79146,87.866373 228.40711,89.240713 221.73036,89.240713 C 217.34417,89.240713 213.47457,87.866373 210.14107,85.098203 C 206.39818,82.086343 204.52674,78.265483 204.52674,73.635623 L 204.52674,36.557693 L 213.43558,33.506853 L 213.43558,70.828453 C 213.43558,74.815013 214.7222,77.885353 217.29543,80.039463 C 219.86866,82.193563 223.20217,83.226753 227.2862,83.148783 C 231.37023,83.061053 235.74667,81.482023 240.39603,78.392203 L 240.39603,34.851953 L 249.30487,34.851953 L 249.30487,83.265743 z \"/>\n    <path id=\"path50\" style=\"fill:#646464;fill-opacity:1\" d=\"M 284.08249,88.997033 C 283.02006,89.084753 282.04535,89.123743 281.14862,89.123743 C 276.10937,89.123743 272.18129,87.924853 269.37413,85.517323 C 266.57671,83.109793 265.17314,79.786033 265.17314,75.546053 L 265.17314,40.456523 L 259.07146,40.456523 L 259.07146,34.851953 L 265.17314,34.851953 L 265.17314,19.968143 L 274.07223,16.800333 L 274.07223,34.851953 L 284.08249,34.851953 L 284.08249,40.456523 L 274.07223,40.456523 L 274.07223,75.302373 C 274.07223,78.645623 274.96896,81.014163 276.76243,82.398253 C 278.30247,83.538663 280.74899,84.191723 284.08249,84.357423 L 284.08249,88.997033 z \"/>\n    <path id=\"path52\" style=\"fill:#646464;fill-opacity:1\" d=\"M 338.02288,88.266003 L 329.11404,88.266003 L 329.11404,53.878273 C 329.11404,50.379063 328.29528,47.367213 326.66753,44.852463 C 324.78634,42.006313 322.17411,40.583233 318.82112,40.583233 C 314.73708,40.583233 309.6296,42.737343 303.4987,47.045563 L 303.4987,88.266003 L 294.58985,88.266003 L 294.58985,6.0687929 L 303.4987,3.2616329 L 303.4987,40.700203 C 309.191,36.557693 315.40963,34.481563 322.16436,34.481563 C 326.88196,34.481563 330.70282,36.070333 333.62694,39.238143 C 336.56082,42.405943 338.02288,46.353513 338.02288,51.071103 L 338.02288,88.266003 L 338.02288,88.266003 z \"/>\n    <path id=\"path54\" style=\"fill:#646464;fill-opacity:1\" d=\"M 385.37424,60.525783 C 385.37424,54.930953 384.31182,50.310833 382.19669,46.655673 C 379.68195,42.201253 375.77337,39.852203 370.49044,39.608523 C 360.72386,40.173863 355.85032,47.172273 355.85032,60.584263 C 355.85032,66.734683 356.86401,71.871393 358.91089,75.994413 C 361.52312,81.248093 365.44145,83.840823 370.66589,83.753103 C 380.47146,83.675123 385.37424,75.935933 385.37424,60.525783 z M 395.13109,60.584263 C 395.13109,68.547643 393.09395,75.175663 389.02941,80.468333 C 384.5555,86.394563 378.37584,89.367423 370.49044,89.367423 C 362.67328,89.367423 356.58135,86.394563 352.18541,80.468333 C 348.19885,75.175663 346.21044,68.547643 346.21044,60.584263 C 346.21044,53.098503 348.36455,46.801883 352.67276,41.674913 C 357.22466,36.236033 363.20937,33.506853 370.6074,33.506853 C 378.00545,33.506853 384.02914,36.236033 388.66877,41.674913 C 392.97697,46.801883 395.13109,53.098503 395.13109,60.584263 z \"/>\n    <path id=\"path56\" style=\"fill:#646464;fill-opacity:1\" d=\"M 446.20583,88.266003 L 437.29699,88.266003 L 437.29699,51.928853 C 437.29699,47.942293 436.0981,44.832973 433.70032,42.591133 C 431.30253,40.359053 428.10549,39.277123 424.11893,39.364853 C 419.8887,39.442833 415.86314,40.826913 412.04229,43.507363 L 412.04229,88.266003 L 403.13345,88.266003 L 403.13345,42.405943 C 408.26042,38.672813 412.97801,36.236033 417.28621,35.095623 C 421.35076,34.033193 424.93769,33.506853 428.02752,33.506853 C 430.14264,33.506853 432.13104,33.711543 434.00248,34.120913 C 437.50169,34.929923 440.34783,36.430973 442.54093,38.633823 C 444.98744,41.070593 446.20583,43.994723 446.20583,47.415943 L 446.20583,88.266003 z \"/>\n    <path id=\"path1948\" style=\"fill:url(#linearGradient1478);fill-opacity:1\" d=\"M 60.510156,6.3979729 C 55.926503,6.4192712 51.549217,6.8101906 47.697656,7.4917229 C 36.35144,9.4962267 34.291407,13.691825 34.291406,21.429223 L 34.291406,31.647973 L 61.103906,31.647973 L 61.103906,35.054223 L 34.291406,35.054223 L 24.228906,35.054223 C 16.436447,35.054223 9.6131468,39.73794 7.4789058,48.647973 C 5.0170858,58.860939 4.9078907,65.233996 7.4789058,75.897973 C 9.3848341,83.835825 13.936449,89.491721 21.728906,89.491723 L 30.947656,89.491723 L 30.947656,77.241723 C 30.947656,68.391821 38.6048,60.585475 47.697656,60.585473 L 74.478906,60.585473 C 81.933857,60.585473 87.885159,54.447309 87.885156,46.960473 L 87.885156,21.429223 C 87.885156,14.162884 81.755176,8.7044455 74.478906,7.4917229 C 69.872919,6.7249976 65.093809,6.3766746 60.510156,6.3979729 z M 46.010156,14.616723 C 48.779703,14.616723 51.041406,16.915369 51.041406,19.741723 C 51.041404,22.558059 48.779703,24.835473 46.010156,24.835473 C 43.23068,24.835472 40.978906,22.558058 40.978906,19.741723 C 40.978905,16.91537 43.23068,14.616723 46.010156,14.616723 z \"/>\n    <path id=\"path1950\" style=\"fill:url(#linearGradient1475);fill-opacity:1\" d=\"M 91.228906,35.054223 L 91.228906,46.960473 C 91.228906,56.191228 83.403011,63.960472 74.478906,63.960473 L 47.697656,63.960473 C 40.361823,63.960473 34.291407,70.238956 34.291406,77.585473 L 34.291406,103.11672 C 34.291406,110.38306 40.609994,114.65704 47.697656,116.74172 C 56.184987,119.23733 64.323893,119.68835 74.478906,116.74172 C 81.229061,114.78733 87.885159,110.85411 87.885156,103.11672 L 87.885156,92.897973 L 61.103906,92.897973 L 61.103906,89.491723 L 87.885156,89.491723 L 101.29141,89.491723 C 109.08387,89.491723 111.98766,84.056315 114.69765,75.897973 C 117.49698,67.499087 117.37787,59.422197 114.69765,48.647973 C 112.77187,40.890532 109.09378,35.054223 101.29141,35.054223 L 91.228906,35.054223 z M 76.166406,99.710473 C 78.945884,99.710476 81.197656,101.98789 81.197656,104.80422 C 81.197654,107.63057 78.945881,109.92922 76.166406,109.92922 C 73.396856,109.92922 71.135156,107.63057 71.135156,104.80422 C 71.135158,101.98789 73.396853,99.710473 76.166406,99.710473 z \"/>\n    <path id=\"text3004\" style=\"font-size:15.16445827px;font-style:normal;font-weight:normal;line-height:125%;fill:#646464;fill-opacity:1;stroke:none;stroke-width:1px;stroke-linecap:butt;stroke-linejoin:miter;stroke-opacity:1;font-family:Bitstream Vera Sans\" d=\"M 463.5544,26.909383 L 465.11635,26.909383 L 465.11635,17.113143 L 468.81648,17.113143 L 468.81648,15.945483 L 459.85427,15.945483 L 459.85427,17.113143 L 463.5544,17.113143 L 463.5544,26.909383 M 470.20142,26.909383 L 471.53589,26.909383 L 471.53589,17.962353 L 474.4323,26.908259 L 475.91799,26.908259 L 478.93615,17.992683 L 478.93615,26.909383 L 480.39194,26.909383 L 480.39194,15.945483 L 478.46605,15.945483 L 475.16774,25.33834 L 472.35477,15.945483 L 470.20142,15.945483 L 470.20142,26.909383\"/>\n    <path id=\"path1894\" style=\"opacity:0.44382019;fill:url(#radialGradient1480);fill-opacity:1;fill-rule:nonzero;stroke:none;stroke-width:20;stroke-miterlimit:4;stroke-dasharray:none;stroke-opacity:1\" transform=\"matrix(0.73406,0,0,0.809524,16.24958,27.00935)\" d=\"M 110.46717 132.28575 A 48.948284 8.6066771 0 1 1  12.570599,132.28575 A 48.948284 8.6066771 0 1 1  110.46717 132.28575 z\"/>\n  </g>\n</svg>"
     },
     "execution_count": 16,
     "metadata": {},
     "output_type": "execute_result"
    }
   ],
   "execution_count": 16
  },
  {
   "cell_type": "markdown",
   "metadata": {
    "slideshow": {
     "slide_type": "slide"
    }
   },
   "source": [
    "## Magia IPython"
   ]
  },
  {
   "cell_type": "markdown",
   "metadata": {
    "slideshow": {
     "slide_type": "fragment"
    }
   },
   "source": [
    "Komórki z `%` lub `%%` mają specjalne znaczenie obowiązujące w całym notatniku (*line magic*) lub w konkretnej komórce (*cell magic*)."
   ]
  },
  {
   "cell_type": "code",
   "metadata": {
    "slideshow": {
     "slide_type": "subslide"
    },
    "ExecuteTime": {
     "end_time": "2024-06-15T14:34:38.908160Z",
     "start_time": "2024-06-15T14:34:38.899498Z"
    }
   },
   "source": [
    "%lsmagic"
   ],
   "outputs": [
    {
     "data": {
      "text/plain": [
       "Available line magics:\n",
       "%alias  %alias_magic  %autoawait  %autocall  %automagic  %autosave  %bookmark  %cat  %cd  %clear  %code_wrap  %colors  %conda  %config  %connect_info  %cp  %debug  %dhist  %dirs  %doctest_mode  %ed  %edit  %env  %gui  %hist  %history  %killbgscripts  %ldir  %less  %lf  %lk  %ll  %load  %load_ext  %loadpy  %logoff  %logon  %logstart  %logstate  %logstop  %ls  %lsmagic  %lx  %macro  %magic  %mamba  %man  %matplotlib  %micromamba  %mkdir  %more  %mv  %notebook  %page  %pastebin  %pdb  %pdef  %pdoc  %pfile  %pinfo  %pinfo2  %pip  %popd  %pprint  %precision  %prun  %psearch  %psource  %pushd  %pwd  %pycat  %pylab  %qtconsole  %quickref  %recall  %rehashx  %reload_ext  %rep  %rerun  %reset  %reset_selective  %rm  %rmdir  %run  %save  %sc  %set_env  %store  %sx  %system  %tb  %time  %timeit  %unalias  %unload_ext  %who  %who_ls  %whos  %xdel  %xmode\n",
       "\n",
       "Available cell magics:\n",
       "%%!  %%HTML  %%SVG  %%bash  %%capture  %%code_wrap  %%debug  %%file  %%html  %%javascript  %%js  %%latex  %%markdown  %%perl  %%prun  %%pypy  %%python  %%python2  %%python3  %%ruby  %%script  %%sh  %%svg  %%sx  %%system  %%time  %%timeit  %%writefile\n",
       "\n",
       "Automagic is ON, % prefix IS NOT needed for line magics."
      ],
      "application/json": {
       "line": {
        "automagic": "AutoMagics",
        "autocall": "AutoMagics",
        "alias_magic": "BasicMagics",
        "lsmagic": "BasicMagics",
        "magic": "BasicMagics",
        "page": "BasicMagics",
        "pprint": "BasicMagics",
        "colors": "BasicMagics",
        "xmode": "BasicMagics",
        "quickref": "BasicMagics",
        "doctest_mode": "BasicMagics",
        "gui": "BasicMagics",
        "precision": "BasicMagics",
        "notebook": "BasicMagics",
        "save": "CodeMagics",
        "pastebin": "CodeMagics",
        "loadpy": "CodeMagics",
        "load": "CodeMagics",
        "edit": "KernelMagics",
        "config": "ConfigMagics",
        "prun": "ExecutionMagics",
        "pdb": "ExecutionMagics",
        "debug": "ExecutionMagics",
        "tb": "ExecutionMagics",
        "run": "ExecutionMagics",
        "timeit": "ExecutionMagics",
        "time": "ExecutionMagics",
        "macro": "ExecutionMagics",
        "code_wrap": "ExecutionMagics",
        "load_ext": "ExtensionMagics",
        "unload_ext": "ExtensionMagics",
        "reload_ext": "ExtensionMagics",
        "history": "HistoryMagics",
        "recall": "HistoryMagics",
        "rerun": "HistoryMagics",
        "logstart": "LoggingMagics",
        "logstop": "LoggingMagics",
        "logoff": "LoggingMagics",
        "logon": "LoggingMagics",
        "logstate": "LoggingMagics",
        "pinfo": "NamespaceMagics",
        "pinfo2": "NamespaceMagics",
        "pdef": "NamespaceMagics",
        "pdoc": "NamespaceMagics",
        "psource": "NamespaceMagics",
        "pfile": "NamespaceMagics",
        "psearch": "NamespaceMagics",
        "who_ls": "NamespaceMagics",
        "who": "NamespaceMagics",
        "whos": "NamespaceMagics",
        "reset": "NamespaceMagics",
        "reset_selective": "NamespaceMagics",
        "xdel": "NamespaceMagics",
        "alias": "OSMagics",
        "unalias": "OSMagics",
        "rehashx": "OSMagics",
        "pwd": "OSMagics",
        "cd": "OSMagics",
        "env": "OSMagics",
        "set_env": "OSMagics",
        "pushd": "OSMagics",
        "popd": "OSMagics",
        "dirs": "OSMagics",
        "dhist": "OSMagics",
        "sc": "OSMagics",
        "sx": "OSMagics",
        "system": "OSMagics",
        "bookmark": "OSMagics",
        "pycat": "OSMagics",
        "pip": "PackagingMagics",
        "conda": "PackagingMagics",
        "mamba": "PackagingMagics",
        "micromamba": "PackagingMagics",
        "matplotlib": "PylabMagics",
        "pylab": "PylabMagics",
        "killbgscripts": "ScriptMagics",
        "autoawait": "AsyncMagics",
        "ed": "Other",
        "hist": "Other",
        "rep": "Other",
        "clear": "KernelMagics",
        "less": "KernelMagics",
        "more": "KernelMagics",
        "man": "KernelMagics",
        "connect_info": "KernelMagics",
        "qtconsole": "KernelMagics",
        "autosave": "KernelMagics",
        "mkdir": "Other",
        "rmdir": "Other",
        "mv": "Other",
        "rm": "Other",
        "cp": "Other",
        "cat": "Other",
        "ls": "Other",
        "ll": "Other",
        "lf": "Other",
        "lk": "Other",
        "ldir": "Other",
        "lx": "Other",
        "store": "StoreMagics"
       },
       "cell": {
        "js": "DisplayMagics",
        "javascript": "DisplayMagics",
        "latex": "DisplayMagics",
        "svg": "DisplayMagics",
        "html": "DisplayMagics",
        "markdown": "DisplayMagics",
        "prun": "ExecutionMagics",
        "debug": "ExecutionMagics",
        "timeit": "ExecutionMagics",
        "time": "ExecutionMagics",
        "capture": "ExecutionMagics",
        "code_wrap": "ExecutionMagics",
        "sx": "OSMagics",
        "system": "OSMagics",
        "!": "OSMagics",
        "writefile": "OSMagics",
        "script": "ScriptMagics",
        "sh": "Other",
        "bash": "Other",
        "perl": "Other",
        "ruby": "Other",
        "python": "Other",
        "python2": "Other",
        "python3": "Other",
        "pypy": "Other",
        "SVG": "Other",
        "HTML": "Other",
        "file": "Other"
       }
      }
     },
     "execution_count": 17,
     "metadata": {},
     "output_type": "execute_result"
    }
   ],
   "execution_count": 17
  },
  {
   "cell_type": "code",
   "metadata": {
    "slideshow": {
     "slide_type": "subslide"
    },
    "ExecuteTime": {
     "end_time": "2024-06-15T14:34:40.580061Z",
     "start_time": "2024-06-15T14:34:40.569291Z"
    }
   },
   "source": [
    "magic()"
   ],
   "outputs": [],
   "execution_count": 18
  },
  {
   "cell_type": "code",
   "metadata": {
    "slideshow": {
     "slide_type": "subslide"
    },
    "ExecuteTime": {
     "end_time": "2024-06-15T14:34:42.450387Z",
     "start_time": "2024-06-15T14:34:42.442950Z"
    }
   },
   "source": [
    "%pwd"
   ],
   "outputs": [
    {
     "data": {
      "text/plain": [
       "'/home/coffeina/Programming/pznd'"
      ]
     },
     "execution_count": 19,
     "metadata": {},
     "output_type": "execute_result"
    }
   ],
   "execution_count": 19
  },
  {
   "cell_type": "code",
   "metadata": {
    "slideshow": {
     "slide_type": "subslide"
    },
    "ExecuteTime": {
     "end_time": "2024-06-15T14:34:43.151378Z",
     "start_time": "2024-06-15T14:34:43.145801Z"
    }
   },
   "source": [
    "%%latex\n",
    "$x = \\frac{-b \\pm \\sqrt{b^2 - 4ac}}{2a}$"
   ],
   "outputs": [
    {
     "data": {
      "text/plain": [
       "<IPython.core.display.Latex object>"
      ],
      "text/latex": "$x = \\frac{-b \\pm \\sqrt{b^2 - 4ac}}{2a}$\n"
     },
     "metadata": {},
     "output_type": "display_data"
    }
   ],
   "execution_count": 20
  },
  {
   "cell_type": "code",
   "metadata": {
    "slideshow": {
     "slide_type": "subslide"
    },
    "ExecuteTime": {
     "end_time": "2024-06-15T14:34:44.117899Z",
     "start_time": "2024-06-15T14:34:44.111878Z"
    }
   },
   "source": [
    "%%writefile magic.txt\n",
    "It's magic!"
   ],
   "outputs": [
    {
     "name": "stdout",
     "output_type": "stream",
     "text": [
      "Writing magic.txt\n"
     ]
    }
   ],
   "execution_count": 21
  },
  {
   "cell_type": "markdown",
   "metadata": {
    "slideshow": {
     "slide_type": "subslide"
    }
   },
   "source": [
    "### Wykresy\n",
    "\n",
    "Poprawne działanie poniższych komórek wymaga instalacji pakietów `numpy`, `matplotlib` i `ipympl`."
   ]
  },
  {
   "cell_type": "code",
   "metadata": {
    "slideshow": {
     "slide_type": "subslide"
    },
    "ExecuteTime": {
     "end_time": "2024-06-15T14:38:06.590021Z",
     "start_time": "2024-06-15T14:38:04.782251Z"
    }
   },
   "source": [
    "# wykresy pojawią się w notatniku\n",
    "%matplotlib inline"
   ],
   "outputs": [],
   "execution_count": 24
  },
  {
   "cell_type": "code",
   "metadata": {
    "slideshow": {
     "slide_type": "fragment"
    },
    "ExecuteTime": {
     "end_time": "2024-06-15T14:38:08.437686Z",
     "start_time": "2024-06-15T14:38:08.434132Z"
    }
   },
   "source": [
    "import numpy as np\n",
    "import matplotlib.pyplot as plt"
   ],
   "outputs": [],
   "execution_count": 25
  },
  {
   "cell_type": "code",
   "metadata": {
    "slideshow": {
     "slide_type": "fragment"
    },
    "ExecuteTime": {
     "end_time": "2024-06-15T14:38:14.123705Z",
     "start_time": "2024-06-15T14:38:13.934201Z"
    }
   },
   "source": [
    "x = np.linspace(-5, 5, 100) # 100 wartości rozłożonych liniowo od -5 do 5\n",
    "y = np.sin(x)               # sinus dla wartości x\n",
    "plt.plot(x, y)"
   ],
   "outputs": [
    {
     "data": {
      "text/plain": [
       "[<matplotlib.lines.Line2D at 0x7572dc229600>]"
      ]
     },
     "execution_count": 26,
     "metadata": {},
     "output_type": "execute_result"
    },
    {
     "data": {
      "text/plain": [
       "<Figure size 640x480 with 1 Axes>"
      ],
      "image/png": "[encoded data removed]"
     },
     "metadata": {},
     "output_type": "display_data"
    }
   ],
   "execution_count": 26
  },
  {
   "cell_type": "markdown",
   "metadata": {
    "slideshow": {
     "slide_type": "subslide"
    }
   },
   "source": [
    "#### Interaktywne wykresy"
   ]
  },
  {
   "cell_type": "code",
   "metadata": {
    "slideshow": {
     "slide_type": "subslide"
    },
    "ExecuteTime": {
     "end_time": "2024-06-15T14:38:18.145209Z",
     "start_time": "2024-06-15T14:38:17.909Z"
    }
   },
   "source": [
    "%matplotlib widget\n",
    "import numpy as np\n",
    "import matplotlib.pyplot as plt\n",
    "from ipywidgets import interact\n",
    "\n",
    "x = np.linspace(-2 * np.pi, 2 * np.pi, 100)\n",
    "fig, ax = plt.subplots()\n",
    "line, = ax.plot(x, np.sin(x))\n",
    "ax.grid(True)\n",
    "\n",
    "def update(w = 1.0):\n",
    "    line.set_ydata(np.sin(w * x))\n",
    "    fig.canvas.draw_idle()\n",
    "\n",
    "interact(update);"
   ],
   "outputs": [
    {
     "data": {
      "text/plain": [
       "interactive(children=(FloatSlider(value=1.0, description='w', max=3.0, min=-1.0), Output()), _dom_classes=('wi…"
      ],
      "application/vnd.jupyter.widget-view+json": {
       "version_major": 2,
       "version_minor": 0,
       "model_id": "72e06b854fa943e083102669500ed468"
      }
     },
     "metadata": {},
     "output_type": "display_data"
    },
    {
     "data": {
      "text/plain": [
       "Canvas(toolbar=Toolbar(toolitems=[('Home', 'Reset original view', 'home', 'home'), ('Back', 'Back to previous …"
      ],
      "image/png": "[encoded data removed]",
      "text/html": [
       "\n",
       "            <div style=\"display: inline-block;\">\n",
       "                <div class=\"jupyter-widgets widget-label\" style=\"text-align: center;\">\n",
       "                    Figure\n",
       "                </div>\n",
       "                <img src='data:image/png;base64,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' width=640.0/>\n",
       "            </div>\n",
       "        "
      ],
      "application/vnd.jupyter.widget-view+json": {
       "version_major": 2,
       "version_minor": 0,
       "model_id": "8f40206d526643249460e7d074450ee5"
      }
     },
     "metadata": {},
     "output_type": "display_data"
    }
   ],
   "execution_count": 27
  },
  {
   "cell_type": "markdown",
   "metadata": {
    "slideshow": {
     "slide_type": "subslide"
    }
   },
   "source": [
    "### Czas wykonania"
   ]
  },
  {
   "cell_type": "code",
   "metadata": {
    "slideshow": {
     "slide_type": "subslide"
    },
    "ExecuteTime": {
     "end_time": "2024-06-15T14:38:48.616262Z",
     "start_time": "2024-06-15T14:38:35.957702Z"
    }
   },
   "source": [
    "%%timeit\n",
    "'-'.join(str(n) for n in range(10))"
   ],
   "outputs": [
    {
     "name": "stdout",
     "output_type": "stream",
     "text": [
      "1.55 μs ± 40.8 ns per loop (mean ± std. dev. of 7 runs, 1,000,000 loops each)\n"
     ]
    }
   ],
   "execution_count": 28
  },
  {
   "cell_type": "code",
   "metadata": {
    "slideshow": {
     "slide_type": "subslide"
    },
    "ExecuteTime": {
     "end_time": "2024-06-15T14:38:50.642778Z",
     "start_time": "2024-06-15T14:38:50.631709Z"
    }
   },
   "source": [
    "%%timeit -r 3 -n 100 # liczba powtórzeń w każej iteracji i ogólna liczba powtórzeń\n",
    "'-'.join(str(n) for n in range(100))"
   ],
   "outputs": [
    {
     "name": "stdout",
     "output_type": "stream",
     "text": [
      "17.6 μs ± 3.86 μs per loop (mean ± std. dev. of 3 runs, 100 loops each)\n"
     ]
    }
   ],
   "execution_count": 29
  },
  {
   "cell_type": "markdown",
   "metadata": {
    "slideshow": {
     "slide_type": "slide"
    }
   },
   "source": [
    "## Pomoc"
   ]
  },
  {
   "cell_type": "code",
   "metadata": {
    "scrolled": true,
    "slideshow": {
     "slide_type": "fragment"
    },
    "ExecuteTime": {
     "end_time": "2024-06-15T14:38:54.420496Z",
     "start_time": "2024-06-15T14:38:54.411929Z"
    }
   },
   "source": [
    "help(print)"
   ],
   "outputs": [
    {
     "name": "stdout",
     "output_type": "stream",
     "text": [
      "Help on built-in function print in module builtins:\n",
      "\n",
      "print(...)\n",
      "    print(value, ..., sep=' ', end='\\n', file=sys.stdout, flush=False)\n",
      "    \n",
      "    Prints the values to a stream, or to sys.stdout by default.\n",
      "    Optional keyword arguments:\n",
      "    file:  a file-like object (stream); defaults to the current sys.stdout.\n",
      "    sep:   string inserted between values, default a space.\n",
      "    end:   string appended after the last value, default a newline.\n",
      "    flush: whether to forcibly flush the stream.\n",
      "\n"
     ]
    }
   ],
   "execution_count": 30
  },
  {
   "cell_type": "code",
   "metadata": {
    "slideshow": {
     "slide_type": "fragment"
    },
    "ExecuteTime": {
     "end_time": "2024-06-15T14:38:55.855690Z",
     "start_time": "2024-06-15T14:38:55.851226Z"
    }
   },
   "source": [
    "timeit?"
   ],
   "outputs": [],
   "execution_count": 31
  },
  {
   "cell_type": "code",
   "metadata": {
    "slideshow": {
     "slide_type": "fragment"
    },
    "ExecuteTime": {
     "end_time": "2024-06-15T14:43:45.898870Z",
     "start_time": "2024-06-15T14:43:45.894675Z"
    }
   },
   "source": [
    "# w trakcie edycji można używać Shift + Tab (pomoc) i Tab (podpowiedzi)\n",
    "# użyj Tab aby uzyskać print, następnie Shift + Tab aby uzyskać pomoc i Tab aby uzupełnić nazwę parametru 'flu'\n",
    "print"
   ],
   "outputs": [
    {
     "data": {
      "text/plain": [
       "<function print>"
      ]
     },
     "execution_count": 33,
     "metadata": {},
     "output_type": "execute_result"
    }
   ],
   "execution_count": 33
  },
  {
   "cell_type": "markdown",
   "metadata": {
    "slideshow": {
     "slide_type": "slide"
    }
   },
   "source": [
    "## Eksport notatnika"
   ]
  },
  {
   "cell_type": "markdown",
   "metadata": {
    "slideshow": {
     "slide_type": "fragment"
    }
   },
   "source": [
    "Notatnik można zapisać w różnych formatach (`File` → `Download as` lub `File` → `Save and Export Notebook As...`).\n",
    "\n",
    "Aby utworzyć prezentację z zawartości notatnika:\n",
    "- w menu `View` → `Cell Toolbar` należy zmienić widok na `Slideshow`\n",
    "- po ustawieniu zależności między komórkami można zapisać je jako prezentację `File` → `Download as` → `Reveal.js slides`"
   ]
  },
  {
   "metadata": {},
   "cell_type": "code",
   "outputs": [],
   "execution_count": null,
   "source": ""
  }
 ],
 "metadata": {
  "kernelspec": {
   "display_name": "Python 3 (ipykernel)",
   "language": "python",
   "name": "python3"
  },
  "language_info": {
   "codemirror_mode": {
    "name": "ipython",
    "version": 3
   },
   "file_extension": ".py",
   "mimetype": "text/x-python",
   "name": "python",
   "nbconvert_exporter": "python",
   "pygments_lexer": "ipython3",
   "version": "3.11.7"
  }
 },
 "nbformat": 4,
 "nbformat_minor": 4
}
