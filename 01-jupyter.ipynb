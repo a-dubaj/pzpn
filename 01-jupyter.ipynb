{
 "cells": [
  {
   "cell_type": "markdown",
   "metadata": {
    "slideshow": {
     "slide_type": "slide"
    }
   },
   "source": [
    "# Jupyter Notebook"
   ]
  },
  {
   "cell_type": "markdown",
   "metadata": {
    "slideshow": {
     "slide_type": "subslide"
    }
   },
   "source": [
    "[Jupyter Notebook](http://jupyter.org/) to narzędzie pozwalające na interaktywną pracę z wieloma językami programowania np. z Python, Julia lub R. Wtyczki obsługujące wybrane języki i inne narzędzia nazywane są [kernelami](https://github.com/jupyter/jupyter/wiki/Jupyter-kernels). Jupyter Notebook jest częścią większego środowiska [JupyterLab](http://jupyter.org/)."
   ]
  },
  {
   "cell_type": "markdown",
   "metadata": {
    "slideshow": {
     "slide_type": "fragment"
    }
   },
   "source": [
    "Notatnik podzielony jest na komórki pomiędzy którymi można się poruszać za pomocą klawiszy strzałek góra/dół. \n",
    "\n",
    "Notatnik działa w dwóch trybach:\n",
    "- edycji (po wciśnięciu `Enter`, zielona ramka komórki),\n",
    "- wydawania komend (po wciśnięciu `Esc`, niebieska ramka wokół komórki).\n",
    "\n",
    "Skróty klawiszowe dostępne są w trybie wydawania komend po wciśnięciu `h`. Korzystanie ze skrótów znacząco przyspiesza pracę."
   ]
  },
  {
   "cell_type": "markdown",
   "metadata": {
    "slideshow": {
     "slide_type": "subslide"
    }
   },
   "source": [
    "Komórki mają różne formaty np. mogą zawierać tekst lub kod źródłowy. Można go zmieniać za pomocą górnego paska (`Markdown`, `Code`), używając menu (`Cell` → `Cell Type`) lub skrótów klawiaturowych np. `m` lub `y`."
   ]
  },
  {
   "cell_type": "markdown",
   "metadata": {
    "slideshow": {
     "slide_type": "subslide"
    }
   },
   "source": [
    "Komórki można uruchamiać, efekt będzie zależny od typu komórki (kod zostanie uruchomiony, tekst zostanie sformatowany)\n",
    "- `Ctrl + Enter` - wykonuje komórkę\n",
    "- `Shift + Enter` - wykonuje komórkę i przechodzi do następnej\n",
    "- `Alt + Enter` - wykonuje komórkę i tworzy nową poniżej\n"
   ]
  },
  {
   "cell_type": "markdown",
   "metadata": {
    "slideshow": {
     "slide_type": "slide"
    }
   },
   "source": [
    "## Markdown\n",
    "\n",
    "Komórki z opisami można edytować używając [języka znaczników **Markdown**](https://en.wikipedia.org/wiki/Markdown).\n",
    "\n",
    "![Logo Markdown](https://upload.wikimedia.org/wikipedia/commons/thumb/4/48/Markdown-mark.svg/320px-Markdown-mark.svg.png)"
   ]
  },
  {
   "cell_type": "markdown",
   "metadata": {
    "slideshow": {
     "slide_type": "subslide"
    }
   },
   "source": [
    "### Formatowanie tekstu\n",
    "\n",
    "Tekst może być:\n",
    "* *pochyły*, _pochyły_\n",
    "* **pogrubiony**, __pogrubiony__\n",
    "* ~skreślony~\n",
    "* `o stałej szerokości`\n",
    "\n",
    "Można stosować również wyliczenia:\n",
    "1. Punkt pierwszy\n",
    "1. Punkt drugi\n",
    "\n",
    "Cytowanie\n",
    "> To jest cytat\n",
    "\n",
    "Kod źródłowy\n",
    "\n",
    "```python\n",
    "# kawałek kodu w Python\n",
    "print(\"Big Data\".upper())\n",
    "```"
   ]
  },
  {
   "cell_type": "markdown",
   "metadata": {
    "slideshow": {
     "slide_type": "subslide"
    }
   },
   "source": [
    "#### Matematyka\n",
    "\n",
    "Możliwe jest użycie znaczników $\\LaTeX$ zarówno w tekście $\\sqrt{2} = 1.41\\ldots$ jak i jako odrębne wzory\n",
    "\n",
    "$$x = \\frac{-b \\pm \\sqrt{b^2 - 4ac}}{2a}$$\n",
    "\n",
    "$$\\sum_{k=1}^\\infty \\frac{(-1)^k}{2k-1} = 1 - \\tfrac{1}{3} + \\tfrac{1}{5} + \\ldots = \\frac{\\pi}{4} $$"
   ]
  },
  {
   "cell_type": "markdown",
   "metadata": {
    "slideshow": {
     "slide_type": "subslide"
    }
   },
   "source": [
    "### Tabele"
   ]
  },
  {
   "cell_type": "markdown",
   "metadata": {
    "slideshow": {
     "slide_type": "fragment"
    }
   },
   "source": [
    "| Godzina     | Temperatura |\n",
    "| ----------- | ----------- |\n",
    "| 1:00        | -12,4       |\n",
    "| 2:00        | -13,2       |\n",
    "| 3:00        | -13,8       |\n",
    "| 4:00        | -14,1       |\n",
    "| 5:00        | -13,0       |\n",
    "| 6:00        | -10,1       |\n",
    "| 7:00        | -6,4        |\n",
    "| 8:00        | -2,4        |"
   ]
  },
  {
   "cell_type": "markdown",
   "metadata": {
    "slideshow": {
     "slide_type": "subslide"
    }
   },
   "source": [
    "Więcej informacji o składni Markdown pod adresem https://www.markdownguide.org/basic-syntax/."
   ]
  },
  {
   "cell_type": "markdown",
   "metadata": {
    "slideshow": {
     "slide_type": "slide"
    }
   },
   "source": [
    "## Kod źródłowy\n",
    "\n",
    "W komórkach z kodem można m.in. zapisywać kod w języku Python oraz wykonywać polecenia powłoki. Kolejność wykonania komórek ma znaczenie, ponieważ kernel `ipython` (silnik notatnika) zapamiętuje kontekst wykonania aż do momentu w którym nie zostanie zresetowany (menu `Kernel`)."
   ]
  },
  {
   "cell_type": "code",
   "metadata": {
    "slideshow": {
     "slide_type": "fragment"
    },
    "ExecuteTime": {
     "end_time": "2024-10-15T10:35:55.356584Z",
     "start_time": "2024-10-15T10:35:55.348229Z"
    }
   },
   "source": [
    "3 + 7"
   ],
   "outputs": [
    {
     "data": {
      "text/plain": [
       "10"
      ]
     },
     "execution_count": 59,
     "metadata": {},
     "output_type": "execute_result"
    }
   ],
   "execution_count": 59
  },
  {
   "cell_type": "code",
   "metadata": {
    "slideshow": {
     "slide_type": "fragment"
    },
    "ExecuteTime": {
     "end_time": "2024-10-15T10:35:55.704533Z",
     "start_time": "2024-10-15T10:35:55.698702Z"
    }
   },
   "source": [
    "_**2"
   ],
   "outputs": [
    {
     "data": {
      "text/plain": [
       "100"
      ]
     },
     "execution_count": 60,
     "metadata": {},
     "output_type": "execute_result"
    }
   ],
   "execution_count": 60
  },
  {
   "cell_type": "code",
   "metadata": {
    "slideshow": {
     "slide_type": "fragment"
    },
    "ExecuteTime": {
     "end_time": "2024-10-15T10:35:56.092426Z",
     "start_time": "2024-10-15T10:35:56.088874Z"
    }
   },
   "source": [
    "print('Big Data'.upper())"
   ],
   "outputs": [
    {
     "name": "stdout",
     "output_type": "stream",
     "text": [
      "BIG DATA\n"
     ]
    }
   ],
   "execution_count": 61
  },
  {
   "cell_type": "code",
   "metadata": {
    "slideshow": {
     "slide_type": "fragment"
    },
    "ExecuteTime": {
     "end_time": "2024-10-15T10:35:56.655535Z",
     "start_time": "2024-10-15T10:35:56.538514Z"
    }
   },
   "source": [
    "!dir"
   ],
   "outputs": [
    {
     "name": "stdout",
     "output_type": "stream",
     "text": [
      "01-jupyter.ipynb\t   05-python-programming-1.ipynb  11-scipy.ipynb\r\n",
      "02-python-numeric.ipynb    06-numpy.ipynb\t\t  magic.txt\r\n",
      "03-python-sequences.ipynb  07-matplotlib.ipynb\t\t  README.md\r\n",
      "04-python-set-dict.ipynb   08-concurrency.ipynb\t\t  venv\r\n",
      "051-challenge.ipynb\t   09-python-programming-2.ipynb\r\n",
      "052-challenge-sol.ipynb    10-pandas.ipynb\r\n"
     ]
    }
   ],
   "execution_count": 62
  },
  {
   "cell_type": "code",
   "metadata": {
    "ExecuteTime": {
     "end_time": "2024-10-15T10:35:56.953973Z",
     "start_time": "2024-10-15T10:35:56.944687Z"
    }
   },
   "source": [
    "1 + 2\n",
    "2 + 3 # z komórki drukowana jest domyślnie wartość ostatniego wyrażenia"
   ],
   "outputs": [
    {
     "data": {
      "text/plain": [
       "3"
      ]
     },
     "execution_count": 63,
     "metadata": {},
     "output_type": "execute_result"
    },
    {
     "data": {
      "text/plain": [
       "5"
      ]
     },
     "execution_count": 63,
     "metadata": {},
     "output_type": "execute_result"
    }
   ],
   "execution_count": 63
  },
  {
   "cell_type": "code",
   "metadata": {
    "ExecuteTime": {
     "end_time": "2024-10-15T10:35:57.241395Z",
     "start_time": "2024-10-15T10:35:57.238099Z"
    }
   },
   "source": [
    "# można to zmienić rekonfigurując powłokę IPython (na stałe w pliku $HOME/.ipython)\n",
    "import IPython\n",
    "IPython.InteractiveShell.ast_node_interactivity='all'"
   ],
   "outputs": [],
   "execution_count": 64
  },
  {
   "cell_type": "code",
   "metadata": {
    "ExecuteTime": {
     "end_time": "2024-10-15T10:35:57.912744Z",
     "start_time": "2024-10-15T10:35:57.909151Z"
    }
   },
   "source": [
    "# zamiast domyślnego drukowania wartości można użyć funkcji print\n",
    "print(1 + 2)\n",
    "print(2 + 3)"
   ],
   "outputs": [
    {
     "name": "stdout",
     "output_type": "stream",
     "text": [
      "3\n",
      "5\n"
     ]
    }
   ],
   "execution_count": 65
  },
  {
   "cell_type": "markdown",
   "metadata": {
    "slideshow": {
     "slide_type": "slide"
    }
   },
   "source": [
    "## Inne możliwości"
   ]
  },
  {
   "cell_type": "markdown",
   "metadata": {
    "slideshow": {
     "slide_type": "subslide"
    }
   },
   "source": [
    "Użycie modułu `display` z pakietu `IPython` zwiększa możliwości notatnika."
   ]
  },
  {
   "cell_type": "code",
   "metadata": {
    "slideshow": {
     "slide_type": "fragment"
    },
    "ExecuteTime": {
     "end_time": "2024-10-15T10:35:59.492472Z",
     "start_time": "2024-10-15T10:35:59.488172Z"
    }
   },
   "source": [
    "from IPython import display"
   ],
   "outputs": [],
   "execution_count": 66
  },
  {
   "cell_type": "code",
   "metadata": {
    "slideshow": {
     "slide_type": "subslide"
    },
    "ExecuteTime": {
     "end_time": "2024-10-15T10:35:59.918815Z",
     "start_time": "2024-10-15T10:35:59.909114Z"
    }
   },
   "source": [
    "display.Image(url='http://imgs.xkcd.com/comics/python.png')"
   ],
   "outputs": [
    {
     "data": {
      "text/html": [
       "<img src=\"http://imgs.xkcd.com/comics/python.png\"/>"
      ],
      "text/plain": [
       "<IPython.core.display.Image object>"
      ]
     },
     "execution_count": 67,
     "metadata": {},
     "output_type": "execute_result"
    }
   ],
   "execution_count": 67
  },
  {
   "cell_type": "code",
   "metadata": {
    "slideshow": {
     "slide_type": "subslide"
    },
    "ExecuteTime": {
     "end_time": "2024-10-15T10:36:00.654384Z",
     "start_time": "2024-10-15T10:36:00.525293Z"
    }
   },
   "source": [
    "display.YouTubeVideo('i6G6dmVJy74')"
   ],
   "outputs": [
    {
     "data": {
      "text/plain": [
       "<IPython.lib.display.YouTubeVideo at 0x76775279d2e0>"
      ],
      "text/html": [
       "\n",
       "        <iframe\n",
       "            width=\"400\"\n",
       "            height=\"300\"\n",
       "            src=\"https://www.youtube.com/embed/i6G6dmVJy74\"\n",
       "            frameborder=\"0\"\n",
       "            allowfullscreen\n",
       "            \n",
       "        ></iframe>\n",
       "        "
      ],
      "image/jpeg": "[encoded data removed]"
     },
     "execution_count": 68,
     "metadata": {},
     "output_type": "execute_result"
    }
   ],
   "execution_count": 68
  },
  {
   "cell_type": "code",
   "metadata": {
    "slideshow": {
     "slide_type": "subslide"
    },
    "ExecuteTime": {
     "end_time": "2024-10-15T10:36:00.856510Z",
     "start_time": "2024-10-15T10:36:00.851419Z"
    }
   },
   "source": [
    "display.HTML(r'To jest <i>kod</i> <code>html</code> w <b>jupyter</b>!')"
   ],
   "outputs": [
    {
     "data": {
      "text/plain": [
       "<IPython.core.display.HTML object>"
      ],
      "text/html": [
       "To jest <i>kod</i> <code>html</code> w <b>jupyter</b>!"
      ]
     },
     "execution_count": 69,
     "metadata": {},
     "output_type": "execute_result"
    }
   ],
   "execution_count": 69
  },
  {
   "cell_type": "code",
   "metadata": {
    "slideshow": {
     "slide_type": "subslide"
    },
    "ExecuteTime": {
     "end_time": "2024-10-15T10:36:01.182460Z",
     "start_time": "2024-10-15T10:36:01.178467Z"
    }
   },
   "source": [
    "display.Javascript(r\"alert('Pozdrowienia z notatnika!')\")"
   ],
   "outputs": [
    {
     "data": {
      "text/plain": [
       "<IPython.core.display.Javascript object>"
      ],
      "application/javascript": "alert('Pozdrowienia z notatnika!')"
     },
     "execution_count": 70,
     "metadata": {},
     "output_type": "execute_result"
    }
   ],
   "execution_count": 70
  },
  {
   "cell_type": "code",
   "metadata": {
    "slideshow": {
     "slide_type": "subslide"
    },
    "ExecuteTime": {
     "end_time": "2024-10-15T10:36:01.555787Z",
     "start_time": "2024-10-15T10:36:01.551733Z"
    }
   },
   "source": [
    "display.Latex(r'$x = \\frac{-b \\pm \\sqrt{b^2 - 4ac}}{2a}$')"
   ],
   "outputs": [
    {
     "data": {
      "text/plain": [
       "<IPython.core.display.Latex object>"
      ],
      "text/latex": "$x = \\frac{-b \\pm \\sqrt{b^2 - 4ac}}{2a}$"
     },
     "execution_count": 71,
     "metadata": {},
     "output_type": "execute_result"
    }
   ],
   "execution_count": 71
  },
  {
   "cell_type": "markdown",
   "metadata": {
    "slideshow": {
     "slide_type": "subslide"
    }
   },
   "source": [
    "Możliwy jest import konkretnych funkcji."
   ]
  },
  {
   "cell_type": "code",
   "metadata": {
    "slideshow": {
     "slide_type": "fragment"
    },
    "ExecuteTime": {
     "end_time": "2024-10-15T10:36:02.266226Z",
     "start_time": "2024-10-15T10:36:02.263614Z"
    }
   },
   "source": [
    "from IPython.display import HTML, SVG"
   ],
   "outputs": [],
   "execution_count": 72
  },
  {
   "cell_type": "code",
   "metadata": {
    "slideshow": {
     "slide_type": "fragment"
    },
    "ExecuteTime": {
     "end_time": "2024-10-15T10:36:02.787148Z",
     "start_time": "2024-10-15T10:36:02.782146Z"
    }
   },
   "source": [
    "HTML(r'To jest <i>kod</i> <code>HTML</code> w <b>jupyter</b>!')"
   ],
   "outputs": [
    {
     "data": {
      "text/plain": [
       "<IPython.core.display.HTML object>"
      ],
      "text/html": [
       "To jest <i>kod</i> <code>HTML</code> w <b>jupyter</b>!"
      ]
     },
     "execution_count": 73,
     "metadata": {},
     "output_type": "execute_result"
    }
   ],
   "execution_count": 73
  },
  {
   "cell_type": "code",
   "metadata": {
    "slideshow": {
     "slide_type": "fragment"
    },
    "ExecuteTime": {
     "end_time": "2024-10-15T10:36:03.577072Z",
     "start_time": "2024-10-15T10:36:03.223357Z"
    }
   },
   "source": [
    "SVG('https://www.python.org/static/community_logos/python-logo-generic.svg')"
   ],
   "outputs": [
    {
     "data": {
      "text/plain": [
       "<IPython.core.display.SVG object>"
      ],
      "image/svg+xml": "<svg xmlns:dc=\"http://purl.org/dc/elements/1.1/\" xmlns:cc=\"http://web.resource.org/cc/\" xmlns:rdf=\"http://www.w3.org/1999/02/22-rdf-syntax-ns#\" xmlns:svg=\"http://www.w3.org/2000/svg\" xmlns=\"http://www.w3.org/2000/svg\" xmlns:xlink=\"http://www.w3.org/1999/xlink\" xmlns:sodipodi=\"http://inkscape.sourceforge.net/DTD/sodipodi-0.dtd\" xmlns:inkscape=\"http://www.inkscape.org/namespaces/inkscape\" version=\"1.0\" width=\"388.84pt\" height=\"115.02pt\" id=\"svg2\" sodipodi:version=\"0.32\" inkscape:version=\"0.43\" sodipodi:docname=\"logo-python-generic.svg\" sodipodi:docbase=\"/home/sdeibel\">\n  <metadata id=\"metadata2193\">\n    <rdf:RDF>\n      <cc:Work rdf:about=\"\">\n        <dc:format>image/svg+xml</dc:format>\n        <dc:type rdf:resource=\"http://purl.org/dc/dcmitype/StillImage\"/>\n      </cc:Work>\n    </rdf:RDF>\n  </metadata>\n  <sodipodi:namedview inkscape:window-height=\"543\" inkscape:window-width=\"791\" inkscape:pageshadow=\"2\" inkscape:pageopacity=\"0.0\" borderopacity=\"1.0\" bordercolor=\"#666666\" pagecolor=\"#ffffff\" id=\"base\" inkscape:zoom=\"1.4340089\" inkscape:cx=\"243.02499\" inkscape:cy=\"71.887497\" inkscape:window-x=\"0\" inkscape:window-y=\"0\" inkscape:current-layer=\"svg2\"/>\n  <defs id=\"defs4\">\n    <linearGradient id=\"linearGradient2795\">\n      <stop style=\"stop-color:#b8b8b8;stop-opacity:0.49803922\" offset=\"0\" id=\"stop2797\"/>\n      <stop style=\"stop-color:#7f7f7f;stop-opacity:0\" offset=\"1\" id=\"stop2799\"/>\n    </linearGradient>\n    <linearGradient id=\"linearGradient2787\">\n      <stop style=\"stop-color:#7f7f7f;stop-opacity:0.5\" offset=\"0\" id=\"stop2789\"/>\n      <stop style=\"stop-color:#7f7f7f;stop-opacity:0\" offset=\"1\" id=\"stop2791\"/>\n    </linearGradient>\n    <linearGradient id=\"linearGradient3676\">\n      <stop style=\"stop-color:#b2b2b2;stop-opacity:0.5\" offset=\"0\" id=\"stop3678\"/>\n      <stop style=\"stop-color:#b3b3b3;stop-opacity:0\" offset=\"1\" id=\"stop3680\"/>\n    </linearGradient>\n    <linearGradient id=\"linearGradient3236\">\n      <stop style=\"stop-color:#f4f4f4;stop-opacity:1\" offset=\"0\" id=\"stop3244\"/>\n      <stop style=\"stop-color:#ffffff;stop-opacity:1\" offset=\"1\" id=\"stop3240\"/>\n    </linearGradient>\n    <linearGradient id=\"linearGradient4671\">\n      <stop style=\"stop-color:#ffd43b;stop-opacity:1\" offset=\"0\" id=\"stop4673\"/>\n      <stop style=\"stop-color:#ffe873;stop-opacity:1\" offset=\"1\" id=\"stop4675\"/>\n    </linearGradient>\n    <linearGradient id=\"linearGradient4689\">\n      <stop style=\"stop-color:#5a9fd4;stop-opacity:1\" offset=\"0\" id=\"stop4691\"/>\n      <stop style=\"stop-color:#306998;stop-opacity:1\" offset=\"1\" id=\"stop4693\"/>\n    </linearGradient>\n    <linearGradient x1=\"224.23996\" y1=\"144.75717\" x2=\"-65.308502\" y2=\"144.75717\" id=\"linearGradient2987\" xlink:href=\"#linearGradient4671\" gradientUnits=\"userSpaceOnUse\" gradientTransform=\"translate(100.2702,99.61116)\"/>\n    <linearGradient x1=\"172.94208\" y1=\"77.475983\" x2=\"26.670298\" y2=\"76.313133\" id=\"linearGradient2990\" xlink:href=\"#linearGradient4689\" gradientUnits=\"userSpaceOnUse\" gradientTransform=\"translate(100.2702,99.61116)\"/>\n    <linearGradient x1=\"172.94208\" y1=\"77.475983\" x2=\"26.670298\" y2=\"76.313133\" id=\"linearGradient2587\" xlink:href=\"#linearGradient4689\" gradientUnits=\"userSpaceOnUse\" gradientTransform=\"translate(100.2702,99.61116)\"/>\n    <linearGradient x1=\"224.23996\" y1=\"144.75717\" x2=\"-65.308502\" y2=\"144.75717\" id=\"linearGradient2589\" xlink:href=\"#linearGradient4671\" gradientUnits=\"userSpaceOnUse\" gradientTransform=\"translate(100.2702,99.61116)\"/>\n    <linearGradient x1=\"172.94208\" y1=\"77.475983\" x2=\"26.670298\" y2=\"76.313133\" id=\"linearGradient2248\" xlink:href=\"#linearGradient4689\" gradientUnits=\"userSpaceOnUse\" gradientTransform=\"translate(100.2702,99.61116)\"/>\n    <linearGradient x1=\"224.23996\" y1=\"144.75717\" x2=\"-65.308502\" y2=\"144.75717\" id=\"linearGradient2250\" xlink:href=\"#linearGradient4671\" gradientUnits=\"userSpaceOnUse\" gradientTransform=\"translate(100.2702,99.61116)\"/>\n    <linearGradient x1=\"224.23996\" y1=\"144.75717\" x2=\"-65.308502\" y2=\"144.75717\" id=\"linearGradient2255\" xlink:href=\"#linearGradient4671\" gradientUnits=\"userSpaceOnUse\" gradientTransform=\"matrix(0.562541,0,0,0.567972,-11.5974,-7.60954)\"/>\n    <linearGradient x1=\"172.94208\" y1=\"76.176224\" x2=\"26.670298\" y2=\"76.313133\" id=\"linearGradient2258\" xlink:href=\"#linearGradient4689\" gradientUnits=\"userSpaceOnUse\" gradientTransform=\"matrix(0.562541,0,0,0.567972,-11.5974,-7.60954)\"/>\n    <radialGradient cx=\"61.518883\" cy=\"132.28575\" r=\"29.036913\" fx=\"61.518883\" fy=\"132.28575\" id=\"radialGradient2801\" xlink:href=\"#linearGradient2795\" gradientUnits=\"userSpaceOnUse\" gradientTransform=\"matrix(1,0,0,0.177966,0,108.7434)\"/>\n    <linearGradient x1=\"150.96111\" y1=\"192.35176\" x2=\"112.03144\" y2=\"137.27299\" id=\"linearGradient1475\" xlink:href=\"#linearGradient4671\" gradientUnits=\"userSpaceOnUse\" gradientTransform=\"matrix(0.562541,0,0,0.567972,-9.399749,-5.305317)\"/>\n    <linearGradient x1=\"26.648937\" y1=\"20.603781\" x2=\"135.66525\" y2=\"114.39767\" id=\"linearGradient1478\" xlink:href=\"#linearGradient4689\" gradientUnits=\"userSpaceOnUse\" gradientTransform=\"matrix(0.562541,0,0,0.567972,-9.399749,-5.305317)\"/>\n    <radialGradient cx=\"61.518883\" cy=\"132.28575\" r=\"29.036913\" fx=\"61.518883\" fy=\"132.28575\" id=\"radialGradient1480\" xlink:href=\"#linearGradient2795\" gradientUnits=\"userSpaceOnUse\" gradientTransform=\"matrix(2.382716e-8,-0.296405,1.43676,4.683673e-7,-128.544,150.5202)\"/>\n  </defs>\n  <g id=\"g2303\">\n    <path id=\"path46\" style=\"fill:#646464;fill-opacity:1\" d=\"M 184.61344,61.929363 C 184.61344,47.367213 180.46118,39.891193 172.15666,39.481813 C 168.85239,39.325863 165.62611,39.852203 162.48754,41.070593 C 159.98254,41.967323 158.2963,42.854313 157.40931,43.751043 L 157.40931,78.509163 C 162.72147,81.842673 167.43907,83.392453 171.55234,83.148783 C 180.25649,82.573703 184.61344,75.507063 184.61344,61.929363 z M 194.85763,62.533683 C 194.85763,69.931723 193.12265,76.072393 189.63319,80.955683 C 185.7441,86.482283 180.35396,89.328433 173.46277,89.484393 C 168.26757,89.650093 162.91642,88.022323 157.40931,84.610843 L 157.40931,116.20116 L 148.50047,113.02361 L 148.50047,42.903043 C 149.96253,41.109583 151.84372,39.569543 154.12454,38.263433 C 159.42696,35.173603 165.86978,33.584823 173.45302,33.506853 L 173.57973,33.633563 C 180.50991,33.545833 185.85132,36.391993 189.60395,42.162263 C 193.10315,47.454933 194.85763,54.238913 194.85763,62.533683 z \"/>\n    <path id=\"path48\" style=\"fill:#646464;fill-opacity:1\" d=\"M 249.30487,83.265743 C 249.30487,93.188283 248.31067,100.05998 246.32227,103.88084 C 244.32411,107.7017 240.52275,110.75254 234.90842,113.02361 C 230.35653,114.81707 225.43425,115.79178 220.15133,115.95748 L 218.67952,110.34316 C 224.05016,109.61213 227.83204,108.88109 230.02513,108.15006 C 234.34309,106.688 237.30621,104.44617 238.93397,101.44406 C 240.24008,98.997543 240.88339,94.328693 240.88339,87.418003 L 240.88339,85.098203 C 234.79146,87.866373 228.40711,89.240713 221.73036,89.240713 C 217.34417,89.240713 213.47457,87.866373 210.14107,85.098203 C 206.39818,82.086343 204.52674,78.265483 204.52674,73.635623 L 204.52674,36.557693 L 213.43558,33.506853 L 213.43558,70.828453 C 213.43558,74.815013 214.7222,77.885353 217.29543,80.039463 C 219.86866,82.193563 223.20217,83.226753 227.2862,83.148783 C 231.37023,83.061053 235.74667,81.482023 240.39603,78.392203 L 240.39603,34.851953 L 249.30487,34.851953 L 249.30487,83.265743 z \"/>\n    <path id=\"path50\" style=\"fill:#646464;fill-opacity:1\" d=\"M 284.08249,88.997033 C 283.02006,89.084753 282.04535,89.123743 281.14862,89.123743 C 276.10937,89.123743 272.18129,87.924853 269.37413,85.517323 C 266.57671,83.109793 265.17314,79.786033 265.17314,75.546053 L 265.17314,40.456523 L 259.07146,40.456523 L 259.07146,34.851953 L 265.17314,34.851953 L 265.17314,19.968143 L 274.07223,16.800333 L 274.07223,34.851953 L 284.08249,34.851953 L 284.08249,40.456523 L 274.07223,40.456523 L 274.07223,75.302373 C 274.07223,78.645623 274.96896,81.014163 276.76243,82.398253 C 278.30247,83.538663 280.74899,84.191723 284.08249,84.357423 L 284.08249,88.997033 z \"/>\n    <path id=\"path52\" style=\"fill:#646464;fill-opacity:1\" d=\"M 338.02288,88.266003 L 329.11404,88.266003 L 329.11404,53.878273 C 329.11404,50.379063 328.29528,47.367213 326.66753,44.852463 C 324.78634,42.006313 322.17411,40.583233 318.82112,40.583233 C 314.73708,40.583233 309.6296,42.737343 303.4987,47.045563 L 303.4987,88.266003 L 294.58985,88.266003 L 294.58985,6.0687929 L 303.4987,3.2616329 L 303.4987,40.700203 C 309.191,36.557693 315.40963,34.481563 322.16436,34.481563 C 326.88196,34.481563 330.70282,36.070333 333.62694,39.238143 C 336.56082,42.405943 338.02288,46.353513 338.02288,51.071103 L 338.02288,88.266003 L 338.02288,88.266003 z \"/>\n    <path id=\"path54\" style=\"fill:#646464;fill-opacity:1\" d=\"M 385.37424,60.525783 C 385.37424,54.930953 384.31182,50.310833 382.19669,46.655673 C 379.68195,42.201253 375.77337,39.852203 370.49044,39.608523 C 360.72386,40.173863 355.85032,47.172273 355.85032,60.584263 C 355.85032,66.734683 356.86401,71.871393 358.91089,75.994413 C 361.52312,81.248093 365.44145,83.840823 370.66589,83.753103 C 380.47146,83.675123 385.37424,75.935933 385.37424,60.525783 z M 395.13109,60.584263 C 395.13109,68.547643 393.09395,75.175663 389.02941,80.468333 C 384.5555,86.394563 378.37584,89.367423 370.49044,89.367423 C 362.67328,89.367423 356.58135,86.394563 352.18541,80.468333 C 348.19885,75.175663 346.21044,68.547643 346.21044,60.584263 C 346.21044,53.098503 348.36455,46.801883 352.67276,41.674913 C 357.22466,36.236033 363.20937,33.506853 370.6074,33.506853 C 378.00545,33.506853 384.02914,36.236033 388.66877,41.674913 C 392.97697,46.801883 395.13109,53.098503 395.13109,60.584263 z \"/>\n    <path id=\"path56\" style=\"fill:#646464;fill-opacity:1\" d=\"M 446.20583,88.266003 L 437.29699,88.266003 L 437.29699,51.928853 C 437.29699,47.942293 436.0981,44.832973 433.70032,42.591133 C 431.30253,40.359053 428.10549,39.277123 424.11893,39.364853 C 419.8887,39.442833 415.86314,40.826913 412.04229,43.507363 L 412.04229,88.266003 L 403.13345,88.266003 L 403.13345,42.405943 C 408.26042,38.672813 412.97801,36.236033 417.28621,35.095623 C 421.35076,34.033193 424.93769,33.506853 428.02752,33.506853 C 430.14264,33.506853 432.13104,33.711543 434.00248,34.120913 C 437.50169,34.929923 440.34783,36.430973 442.54093,38.633823 C 444.98744,41.070593 446.20583,43.994723 446.20583,47.415943 L 446.20583,88.266003 z \"/>\n    <path id=\"path1948\" style=\"fill:url(#linearGradient1478);fill-opacity:1\" d=\"M 60.510156,6.3979729 C 55.926503,6.4192712 51.549217,6.8101906 47.697656,7.4917229 C 36.35144,9.4962267 34.291407,13.691825 34.291406,21.429223 L 34.291406,31.647973 L 61.103906,31.647973 L 61.103906,35.054223 L 34.291406,35.054223 L 24.228906,35.054223 C 16.436447,35.054223 9.6131468,39.73794 7.4789058,48.647973 C 5.0170858,58.860939 4.9078907,65.233996 7.4789058,75.897973 C 9.3848341,83.835825 13.936449,89.491721 21.728906,89.491723 L 30.947656,89.491723 L 30.947656,77.241723 C 30.947656,68.391821 38.6048,60.585475 47.697656,60.585473 L 74.478906,60.585473 C 81.933857,60.585473 87.885159,54.447309 87.885156,46.960473 L 87.885156,21.429223 C 87.885156,14.162884 81.755176,8.7044455 74.478906,7.4917229 C 69.872919,6.7249976 65.093809,6.3766746 60.510156,6.3979729 z M 46.010156,14.616723 C 48.779703,14.616723 51.041406,16.915369 51.041406,19.741723 C 51.041404,22.558059 48.779703,24.835473 46.010156,24.835473 C 43.23068,24.835472 40.978906,22.558058 40.978906,19.741723 C 40.978905,16.91537 43.23068,14.616723 46.010156,14.616723 z \"/>\n    <path id=\"path1950\" style=\"fill:url(#linearGradient1475);fill-opacity:1\" d=\"M 91.228906,35.054223 L 91.228906,46.960473 C 91.228906,56.191228 83.403011,63.960472 74.478906,63.960473 L 47.697656,63.960473 C 40.361823,63.960473 34.291407,70.238956 34.291406,77.585473 L 34.291406,103.11672 C 34.291406,110.38306 40.609994,114.65704 47.697656,116.74172 C 56.184987,119.23733 64.323893,119.68835 74.478906,116.74172 C 81.229061,114.78733 87.885159,110.85411 87.885156,103.11672 L 87.885156,92.897973 L 61.103906,92.897973 L 61.103906,89.491723 L 87.885156,89.491723 L 101.29141,89.491723 C 109.08387,89.491723 111.98766,84.056315 114.69765,75.897973 C 117.49698,67.499087 117.37787,59.422197 114.69765,48.647973 C 112.77187,40.890532 109.09378,35.054223 101.29141,35.054223 L 91.228906,35.054223 z M 76.166406,99.710473 C 78.945884,99.710476 81.197656,101.98789 81.197656,104.80422 C 81.197654,107.63057 78.945881,109.92922 76.166406,109.92922 C 73.396856,109.92922 71.135156,107.63057 71.135156,104.80422 C 71.135158,101.98789 73.396853,99.710473 76.166406,99.710473 z \"/>\n    <path id=\"text3004\" style=\"font-size:15.16445827px;font-style:normal;font-weight:normal;line-height:125%;fill:#646464;fill-opacity:1;stroke:none;stroke-width:1px;stroke-linecap:butt;stroke-linejoin:miter;stroke-opacity:1;font-family:Bitstream Vera Sans\" d=\"M 463.5544,26.909383 L 465.11635,26.909383 L 465.11635,17.113143 L 468.81648,17.113143 L 468.81648,15.945483 L 459.85427,15.945483 L 459.85427,17.113143 L 463.5544,17.113143 L 463.5544,26.909383 M 470.20142,26.909383 L 471.53589,26.909383 L 471.53589,17.962353 L 474.4323,26.908259 L 475.91799,26.908259 L 478.93615,17.992683 L 478.93615,26.909383 L 480.39194,26.909383 L 480.39194,15.945483 L 478.46605,15.945483 L 475.16774,25.33834 L 472.35477,15.945483 L 470.20142,15.945483 L 470.20142,26.909383\"/>\n    <path id=\"path1894\" style=\"opacity:0.44382019;fill:url(#radialGradient1480);fill-opacity:1;fill-rule:nonzero;stroke:none;stroke-width:20;stroke-miterlimit:4;stroke-dasharray:none;stroke-opacity:1\" transform=\"matrix(0.73406,0,0,0.809524,16.24958,27.00935)\" d=\"M 110.46717 132.28575 A 48.948284 8.6066771 0 1 1  12.570599,132.28575 A 48.948284 8.6066771 0 1 1  110.46717 132.28575 z\"/>\n  </g>\n</svg>"
     },
     "execution_count": 74,
     "metadata": {},
     "output_type": "execute_result"
    }
   ],
   "execution_count": 74
  },
  {
   "cell_type": "markdown",
   "metadata": {
    "slideshow": {
     "slide_type": "slide"
    }
   },
   "source": [
    "## Magia IPython"
   ]
  },
  {
   "cell_type": "markdown",
   "metadata": {
    "slideshow": {
     "slide_type": "fragment"
    }
   },
   "source": [
    "Komórki z `%` lub `%%` mają specjalne znaczenie obowiązujące w całym notatniku (*line magic*) lub w konkretnej komórce (*cell magic*)."
   ]
  },
  {
   "cell_type": "code",
   "metadata": {
    "slideshow": {
     "slide_type": "subslide"
    },
    "ExecuteTime": {
     "end_time": "2024-10-15T10:36:05.394318Z",
     "start_time": "2024-10-15T10:36:05.390175Z"
    }
   },
   "source": [
    "%lsmagic"
   ],
   "outputs": [
    {
     "data": {
      "text/plain": [
       "Available line magics:\n",
       "%alias  %alias_magic  %autoawait  %autocall  %automagic  %autosave  %bookmark  %cat  %cd  %clear  %code_wrap  %colors  %conda  %config  %connect_info  %cp  %debug  %dhist  %dirs  %doctest_mode  %ed  %edit  %env  %gui  %hist  %history  %killbgscripts  %ldir  %less  %lf  %lk  %ll  %load  %load_ext  %loadpy  %logoff  %logon  %logstart  %logstate  %logstop  %ls  %lsmagic  %lx  %macro  %magic  %mamba  %man  %matplotlib  %micromamba  %mkdir  %more  %mv  %notebook  %page  %pastebin  %pdb  %pdef  %pdoc  %pfile  %pinfo  %pinfo2  %pip  %popd  %pprint  %precision  %prun  %psearch  %psource  %pushd  %pwd  %pycat  %pylab  %qtconsole  %quickref  %recall  %rehashx  %reload_ext  %rep  %rerun  %reset  %reset_selective  %rm  %rmdir  %run  %save  %sc  %set_env  %store  %sx  %system  %tb  %time  %timeit  %unalias  %unload_ext  %who  %who_ls  %whos  %xdel  %xmode\n",
       "\n",
       "Available cell magics:\n",
       "%%!  %%HTML  %%SVG  %%bash  %%capture  %%code_wrap  %%debug  %%file  %%html  %%javascript  %%js  %%latex  %%markdown  %%perl  %%prun  %%pypy  %%python  %%python2  %%python3  %%ruby  %%script  %%sh  %%svg  %%sx  %%system  %%time  %%timeit  %%writefile\n",
       "\n",
       "Automagic is ON, % prefix IS NOT needed for line magics."
      ],
      "application/json": {
       "line": {
        "automagic": "AutoMagics",
        "autocall": "AutoMagics",
        "alias_magic": "BasicMagics",
        "lsmagic": "BasicMagics",
        "magic": "BasicMagics",
        "page": "BasicMagics",
        "pprint": "BasicMagics",
        "colors": "BasicMagics",
        "xmode": "BasicMagics",
        "quickref": "BasicMagics",
        "doctest_mode": "BasicMagics",
        "gui": "BasicMagics",
        "precision": "BasicMagics",
        "notebook": "BasicMagics",
        "save": "CodeMagics",
        "pastebin": "CodeMagics",
        "loadpy": "CodeMagics",
        "load": "CodeMagics",
        "edit": "KernelMagics",
        "config": "ConfigMagics",
        "prun": "ExecutionMagics",
        "pdb": "ExecutionMagics",
        "debug": "ExecutionMagics",
        "tb": "ExecutionMagics",
        "run": "ExecutionMagics",
        "timeit": "ExecutionMagics",
        "time": "ExecutionMagics",
        "macro": "ExecutionMagics",
        "code_wrap": "ExecutionMagics",
        "load_ext": "ExtensionMagics",
        "unload_ext": "ExtensionMagics",
        "reload_ext": "ExtensionMagics",
        "history": "HistoryMagics",
        "recall": "HistoryMagics",
        "rerun": "HistoryMagics",
        "logstart": "LoggingMagics",
        "logstop": "LoggingMagics",
        "logoff": "LoggingMagics",
        "logon": "LoggingMagics",
        "logstate": "LoggingMagics",
        "pinfo": "NamespaceMagics",
        "pinfo2": "NamespaceMagics",
        "pdef": "NamespaceMagics",
        "pdoc": "NamespaceMagics",
        "psource": "NamespaceMagics",
        "pfile": "NamespaceMagics",
        "psearch": "NamespaceMagics",
        "who_ls": "NamespaceMagics",
        "who": "NamespaceMagics",
        "whos": "NamespaceMagics",
        "reset": "NamespaceMagics",
        "reset_selective": "NamespaceMagics",
        "xdel": "NamespaceMagics",
        "alias": "OSMagics",
        "unalias": "OSMagics",
        "rehashx": "OSMagics",
        "pwd": "OSMagics",
        "cd": "OSMagics",
        "env": "OSMagics",
        "set_env": "OSMagics",
        "pushd": "OSMagics",
        "popd": "OSMagics",
        "dirs": "OSMagics",
        "dhist": "OSMagics",
        "sc": "OSMagics",
        "sx": "OSMagics",
        "system": "OSMagics",
        "bookmark": "OSMagics",
        "pycat": "OSMagics",
        "pip": "PackagingMagics",
        "conda": "PackagingMagics",
        "mamba": "PackagingMagics",
        "micromamba": "PackagingMagics",
        "matplotlib": "PylabMagics",
        "pylab": "PylabMagics",
        "killbgscripts": "ScriptMagics",
        "autoawait": "AsyncMagics",
        "ed": "Other",
        "hist": "Other",
        "rep": "Other",
        "clear": "KernelMagics",
        "less": "KernelMagics",
        "more": "KernelMagics",
        "man": "KernelMagics",
        "connect_info": "KernelMagics",
        "qtconsole": "KernelMagics",
        "autosave": "KernelMagics",
        "mkdir": "Other",
        "rmdir": "Other",
        "mv": "Other",
        "rm": "Other",
        "cp": "Other",
        "cat": "Other",
        "ls": "Other",
        "ll": "Other",
        "lf": "Other",
        "lk": "Other",
        "ldir": "Other",
        "lx": "Other",
        "store": "StoreMagics"
       },
       "cell": {
        "js": "DisplayMagics",
        "javascript": "DisplayMagics",
        "latex": "DisplayMagics",
        "svg": "DisplayMagics",
        "html": "DisplayMagics",
        "markdown": "DisplayMagics",
        "prun": "ExecutionMagics",
        "debug": "ExecutionMagics",
        "timeit": "ExecutionMagics",
        "time": "ExecutionMagics",
        "capture": "ExecutionMagics",
        "code_wrap": "ExecutionMagics",
        "sx": "OSMagics",
        "system": "OSMagics",
        "!": "OSMagics",
        "writefile": "OSMagics",
        "script": "ScriptMagics",
        "sh": "Other",
        "bash": "Other",
        "perl": "Other",
        "ruby": "Other",
        "python": "Other",
        "python2": "Other",
        "python3": "Other",
        "pypy": "Other",
        "SVG": "Other",
        "HTML": "Other",
        "file": "Other"
       }
      }
     },
     "execution_count": 75,
     "metadata": {},
     "output_type": "execute_result"
    }
   ],
   "execution_count": 75
  },
  {
   "cell_type": "code",
   "metadata": {
    "slideshow": {
     "slide_type": "subslide"
    },
    "ExecuteTime": {
     "end_time": "2024-10-15T10:36:06.047404Z",
     "start_time": "2024-10-15T10:36:06.036697Z"
    }
   },
   "source": [
    "magic()"
   ],
   "outputs": [],
   "execution_count": 76
  },
  {
   "cell_type": "code",
   "metadata": {
    "slideshow": {
     "slide_type": "subslide"
    },
    "ExecuteTime": {
     "end_time": "2024-10-15T10:29:44.342701Z",
     "start_time": "2024-10-15T10:29:44.336778Z"
    }
   },
   "source": [
    "%pwd"
   ],
   "outputs": [
    {
     "data": {
      "text/plain": [
       "'/home/coffeina/Programming/Github/pzpn'"
      ]
     },
     "execution_count": 47,
     "metadata": {},
     "output_type": "execute_result"
    }
   ],
   "execution_count": 47
  },
  {
   "cell_type": "code",
   "metadata": {
    "slideshow": {
     "slide_type": "subslide"
    },
    "ExecuteTime": {
     "end_time": "2024-10-15T10:29:44.985974Z",
     "start_time": "2024-10-15T10:29:44.981520Z"
    }
   },
   "source": [
    "%%latex\n",
    "$x = \\frac{-b \\pm \\sqrt{b^2 - 4ac}}{2a}$"
   ],
   "outputs": [
    {
     "data": {
      "text/plain": [
       "<IPython.core.display.Latex object>"
      ],
      "text/latex": "$x = \\frac{-b \\pm \\sqrt{b^2 - 4ac}}{2a}$\n"
     },
     "metadata": {},
     "output_type": "display_data"
    }
   ],
   "execution_count": 48
  },
  {
   "cell_type": "code",
   "metadata": {
    "slideshow": {
     "slide_type": "subslide"
    },
    "ExecuteTime": {
     "end_time": "2024-10-15T10:29:45.620129Z",
     "start_time": "2024-10-15T10:29:45.616533Z"
    }
   },
   "source": [
    "%%writefile magic.txt\n",
    "It's magic!"
   ],
   "outputs": [
    {
     "name": "stdout",
     "output_type": "stream",
     "text": [
      "Overwriting magic.txt\n"
     ]
    }
   ],
   "execution_count": 49
  },
  {
   "cell_type": "markdown",
   "metadata": {
    "slideshow": {
     "slide_type": "subslide"
    }
   },
   "source": [
    "### Wykresy\n",
    "\n",
    "Poprawne działanie poniższych komórek wymaga instalacji pakietów `numpy`, `matplotlib` i `ipympl`."
   ]
  },
  {
   "cell_type": "code",
   "metadata": {
    "slideshow": {
     "slide_type": "subslide"
    },
    "ExecuteTime": {
     "end_time": "2024-10-15T10:36:10.469809Z",
     "start_time": "2024-10-15T10:36:10.460709Z"
    }
   },
   "source": [
    "# wykresy pojawią się w notatniku\n",
    "%matplotlib inline"
   ],
   "outputs": [],
   "execution_count": 77
  },
  {
   "cell_type": "code",
   "metadata": {
    "slideshow": {
     "slide_type": "fragment"
    },
    "ExecuteTime": {
     "end_time": "2024-10-15T10:36:10.843139Z",
     "start_time": "2024-10-15T10:36:10.840582Z"
    }
   },
   "source": [
    "import numpy as np\n",
    "import matplotlib.pyplot as plt"
   ],
   "outputs": [],
   "execution_count": 78
  },
  {
   "cell_type": "code",
   "metadata": {
    "slideshow": {
     "slide_type": "fragment"
    },
    "ExecuteTime": {
     "end_time": "2024-10-15T10:36:11.352985Z",
     "start_time": "2024-10-15T10:36:11.225755Z"
    }
   },
   "source": [
    "x = np.linspace(-5, 5, 100) # 100 wartości rozłożonych liniowo od -5 do 5\n",
    "y = np.sin(x)               # sinus dla wartości x\n",
    "plt.plot(x, y)"
   ],
   "outputs": [
    {
     "data": {
      "text/plain": [
       "[<matplotlib.lines.Line2D at 0x7677513c5a00>]"
      ]
     },
     "execution_count": 79,
     "metadata": {},
     "output_type": "execute_result"
    },
    {
     "data": {
      "text/plain": [
       "<Figure size 640x480 with 1 Axes>"
      ],
      "image/png": "[encoded data removed]"
     },
     "metadata": {},
     "output_type": "display_data"
    }
   ],
   "execution_count": 79
  },
  {
   "cell_type": "markdown",
   "metadata": {
    "slideshow": {
     "slide_type": "subslide"
    }
   },
   "source": [
    "#### Interaktywne wykresy"
   ]
  },
  {
   "cell_type": "code",
   "metadata": {
    "slideshow": {
     "slide_type": "subslide"
    },
    "ExecuteTime": {
     "end_time": "2024-10-15T10:36:12.705458Z",
     "start_time": "2024-10-15T10:36:12.655525Z"
    }
   },
   "source": [
    "%matplotlib widget\n",
    "import numpy as np\n",
    "import matplotlib.pyplot as plt\n",
    "from ipywidgets import interact\n",
    "\n",
    "x = np.linspace(-2 * np.pi, 2 * np.pi, 100)\n",
    "fig, ax = plt.subplots()\n",
    "line, = ax.plot(x, np.sin(x))\n",
    "ax.grid(True)\n",
    "\n",
    "def update(w = 1.0):\n",
    "    line.set_ydata(np.sin(w * x))\n",
    "    fig.canvas.draw_idle()\n",
    "\n",
    "interact(update);"
   ],
   "outputs": [
    {
     "ename": "ValueError",
     "evalue": "Key backend: 'module://ipympl.backend_nbagg' is not a valid value for backend; supported values are ['gtk3agg', 'gtk3cairo', 'gtk4agg', 'gtk4cairo', 'macosx', 'nbagg', 'notebook', 'qtagg', 'qtcairo', 'qt5agg', 'qt5cairo', 'tkagg', 'tkcairo', 'webagg', 'wx', 'wxagg', 'wxcairo', 'agg', 'cairo', 'pdf', 'pgf', 'ps', 'svg', 'template', 'inline', 'module://matplotlib_inline.backend_inline']",
     "output_type": "error",
     "traceback": [
      "\u001B[0;31m---------------------------------------------------------------------------\u001B[0m",
      "\u001B[0;31mValueError\u001B[0m                                Traceback (most recent call last)",
      "Cell \u001B[0;32mIn[80], line 1\u001B[0m\n\u001B[0;32m----> 1\u001B[0m \u001B[43mget_ipython\u001B[49m\u001B[43m(\u001B[49m\u001B[43m)\u001B[49m\u001B[38;5;241;43m.\u001B[39;49m\u001B[43mrun_line_magic\u001B[49m\u001B[43m(\u001B[49m\u001B[38;5;124;43m'\u001B[39;49m\u001B[38;5;124;43mmatplotlib\u001B[39;49m\u001B[38;5;124;43m'\u001B[39;49m\u001B[43m,\u001B[49m\u001B[43m \u001B[49m\u001B[38;5;124;43m'\u001B[39;49m\u001B[38;5;124;43mwidget\u001B[39;49m\u001B[38;5;124;43m'\u001B[39;49m\u001B[43m)\u001B[49m\n\u001B[1;32m      2\u001B[0m \u001B[38;5;28;01mimport\u001B[39;00m \u001B[38;5;21;01mnumpy\u001B[39;00m \u001B[38;5;28;01mas\u001B[39;00m \u001B[38;5;21;01mnp\u001B[39;00m\n\u001B[1;32m      3\u001B[0m \u001B[38;5;28;01mimport\u001B[39;00m \u001B[38;5;21;01mmatplotlib\u001B[39;00m\u001B[38;5;21;01m.\u001B[39;00m\u001B[38;5;21;01mpyplot\u001B[39;00m \u001B[38;5;28;01mas\u001B[39;00m \u001B[38;5;21;01mplt\u001B[39;00m\n",
      "File \u001B[0;32m~/Programming/Github/pzpn/venv/lib/python3.12/site-packages/IPython/core/interactiveshell.py:2480\u001B[0m, in \u001B[0;36mInteractiveShell.run_line_magic\u001B[0;34m(self, magic_name, line, _stack_depth)\u001B[0m\n\u001B[1;32m   2478\u001B[0m     kwargs[\u001B[38;5;124m'\u001B[39m\u001B[38;5;124mlocal_ns\u001B[39m\u001B[38;5;124m'\u001B[39m] \u001B[38;5;241m=\u001B[39m \u001B[38;5;28mself\u001B[39m\u001B[38;5;241m.\u001B[39mget_local_scope(stack_depth)\n\u001B[1;32m   2479\u001B[0m \u001B[38;5;28;01mwith\u001B[39;00m \u001B[38;5;28mself\u001B[39m\u001B[38;5;241m.\u001B[39mbuiltin_trap:\n\u001B[0;32m-> 2480\u001B[0m     result \u001B[38;5;241m=\u001B[39m \u001B[43mfn\u001B[49m\u001B[43m(\u001B[49m\u001B[38;5;241;43m*\u001B[39;49m\u001B[43margs\u001B[49m\u001B[43m,\u001B[49m\u001B[43m \u001B[49m\u001B[38;5;241;43m*\u001B[39;49m\u001B[38;5;241;43m*\u001B[39;49m\u001B[43mkwargs\u001B[49m\u001B[43m)\u001B[49m\n\u001B[1;32m   2482\u001B[0m \u001B[38;5;66;03m# The code below prevents the output from being displayed\u001B[39;00m\n\u001B[1;32m   2483\u001B[0m \u001B[38;5;66;03m# when using magics with decorator @output_can_be_silenced\u001B[39;00m\n\u001B[1;32m   2484\u001B[0m \u001B[38;5;66;03m# when the last Python token in the expression is a ';'.\u001B[39;00m\n\u001B[1;32m   2485\u001B[0m \u001B[38;5;28;01mif\u001B[39;00m \u001B[38;5;28mgetattr\u001B[39m(fn, magic\u001B[38;5;241m.\u001B[39mMAGIC_OUTPUT_CAN_BE_SILENCED, \u001B[38;5;28;01mFalse\u001B[39;00m):\n",
      "File \u001B[0;32m~/Programming/Github/pzpn/venv/lib/python3.12/site-packages/IPython/core/magics/pylab.py:103\u001B[0m, in \u001B[0;36mPylabMagics.matplotlib\u001B[0;34m(self, line)\u001B[0m\n\u001B[1;32m     98\u001B[0m     \u001B[38;5;28mprint\u001B[39m(\n\u001B[1;32m     99\u001B[0m         \u001B[38;5;124m\"\u001B[39m\u001B[38;5;124mAvailable matplotlib backends: \u001B[39m\u001B[38;5;132;01m%s\u001B[39;00m\u001B[38;5;124m\"\u001B[39m\n\u001B[1;32m    100\u001B[0m         \u001B[38;5;241m%\u001B[39m _list_matplotlib_backends_and_gui_loops()\n\u001B[1;32m    101\u001B[0m     )\n\u001B[1;32m    102\u001B[0m \u001B[38;5;28;01melse\u001B[39;00m:\n\u001B[0;32m--> 103\u001B[0m     gui, backend \u001B[38;5;241m=\u001B[39m \u001B[38;5;28;43mself\u001B[39;49m\u001B[38;5;241;43m.\u001B[39;49m\u001B[43mshell\u001B[49m\u001B[38;5;241;43m.\u001B[39;49m\u001B[43menable_matplotlib\u001B[49m\u001B[43m(\u001B[49m\u001B[43margs\u001B[49m\u001B[38;5;241;43m.\u001B[39;49m\u001B[43mgui\u001B[49m\u001B[43m)\u001B[49m\n\u001B[1;32m    104\u001B[0m     \u001B[38;5;28mself\u001B[39m\u001B[38;5;241m.\u001B[39m_show_matplotlib_backend(args\u001B[38;5;241m.\u001B[39mgui, backend)\n",
      "File \u001B[0;32m~/Programming/Github/pzpn/venv/lib/python3.12/site-packages/IPython/core/interactiveshell.py:3677\u001B[0m, in \u001B[0;36mInteractiveShell.enable_matplotlib\u001B[0;34m(self, gui)\u001B[0m\n\u001B[1;32m   3673\u001B[0m         \u001B[38;5;28mprint\u001B[39m(\u001B[38;5;124m'\u001B[39m\u001B[38;5;124mWarning: Cannot change to a different GUI toolkit: \u001B[39m\u001B[38;5;132;01m%s\u001B[39;00m\u001B[38;5;124m.\u001B[39m\u001B[38;5;124m'\u001B[39m\n\u001B[1;32m   3674\u001B[0m                 \u001B[38;5;124m'\u001B[39m\u001B[38;5;124m Using \u001B[39m\u001B[38;5;132;01m%s\u001B[39;00m\u001B[38;5;124m instead.\u001B[39m\u001B[38;5;124m'\u001B[39m \u001B[38;5;241m%\u001B[39m (gui, \u001B[38;5;28mself\u001B[39m\u001B[38;5;241m.\u001B[39mpylab_gui_select))\n\u001B[1;32m   3675\u001B[0m         gui, backend \u001B[38;5;241m=\u001B[39m pt\u001B[38;5;241m.\u001B[39mfind_gui_and_backend(\u001B[38;5;28mself\u001B[39m\u001B[38;5;241m.\u001B[39mpylab_gui_select)\n\u001B[0;32m-> 3677\u001B[0m \u001B[43mpt\u001B[49m\u001B[38;5;241;43m.\u001B[39;49m\u001B[43mactivate_matplotlib\u001B[49m\u001B[43m(\u001B[49m\u001B[43mbackend\u001B[49m\u001B[43m)\u001B[49m\n\u001B[1;32m   3679\u001B[0m \u001B[38;5;28;01mfrom\u001B[39;00m \u001B[38;5;21;01mmatplotlib_inline\u001B[39;00m\u001B[38;5;21;01m.\u001B[39;00m\u001B[38;5;21;01mbackend_inline\u001B[39;00m \u001B[38;5;28;01mimport\u001B[39;00m configure_inline_support\n\u001B[1;32m   3681\u001B[0m configure_inline_support(\u001B[38;5;28mself\u001B[39m, backend)\n",
      "File \u001B[0;32m~/Programming/Github/pzpn/venv/lib/python3.12/site-packages/IPython/core/pylabtools.py:403\u001B[0m, in \u001B[0;36mactivate_matplotlib\u001B[0;34m(backend)\u001B[0m\n\u001B[1;32m    398\u001B[0m matplotlib\u001B[38;5;241m.\u001B[39minteractive(\u001B[38;5;28;01mTrue\u001B[39;00m)\n\u001B[1;32m    400\u001B[0m \u001B[38;5;66;03m# Matplotlib had a bug where even switch_backend could not force\u001B[39;00m\n\u001B[1;32m    401\u001B[0m \u001B[38;5;66;03m# the rcParam to update. This needs to be set *before* the module\u001B[39;00m\n\u001B[1;32m    402\u001B[0m \u001B[38;5;66;03m# magic of switch_backend().\u001B[39;00m\n\u001B[0;32m--> 403\u001B[0m \u001B[43mmatplotlib\u001B[49m\u001B[38;5;241;43m.\u001B[39;49m\u001B[43mrcParams\u001B[49m\u001B[43m[\u001B[49m\u001B[38;5;124;43m'\u001B[39;49m\u001B[38;5;124;43mbackend\u001B[39;49m\u001B[38;5;124;43m'\u001B[39;49m\u001B[43m]\u001B[49m \u001B[38;5;241m=\u001B[39m backend\n\u001B[1;32m    405\u001B[0m \u001B[38;5;66;03m# Due to circular imports, pyplot may be only partially initialised\u001B[39;00m\n\u001B[1;32m    406\u001B[0m \u001B[38;5;66;03m# when this function runs.\u001B[39;00m\n\u001B[1;32m    407\u001B[0m \u001B[38;5;66;03m# So avoid needing matplotlib attribute-lookup to access pyplot.\u001B[39;00m\n\u001B[1;32m    408\u001B[0m \u001B[38;5;28;01mfrom\u001B[39;00m \u001B[38;5;21;01mmatplotlib\u001B[39;00m \u001B[38;5;28;01mimport\u001B[39;00m pyplot \u001B[38;5;28;01mas\u001B[39;00m plt\n",
      "File \u001B[0;32m~/Programming/Github/pzpn/venv/lib/python3.12/site-packages/matplotlib/__init__.py:738\u001B[0m, in \u001B[0;36mRcParams.__setitem__\u001B[0;34m(self, key, val)\u001B[0m\n\u001B[1;32m    736\u001B[0m         cval \u001B[38;5;241m=\u001B[39m \u001B[38;5;28mself\u001B[39m\u001B[38;5;241m.\u001B[39mvalidate[key](val)\n\u001B[1;32m    737\u001B[0m     \u001B[38;5;28;01mexcept\u001B[39;00m \u001B[38;5;167;01mValueError\u001B[39;00m \u001B[38;5;28;01mas\u001B[39;00m ve:\n\u001B[0;32m--> 738\u001B[0m         \u001B[38;5;28;01mraise\u001B[39;00m \u001B[38;5;167;01mValueError\u001B[39;00m(\u001B[38;5;124mf\u001B[39m\u001B[38;5;124m\"\u001B[39m\u001B[38;5;124mKey \u001B[39m\u001B[38;5;132;01m{\u001B[39;00mkey\u001B[38;5;132;01m}\u001B[39;00m\u001B[38;5;124m: \u001B[39m\u001B[38;5;132;01m{\u001B[39;00mve\u001B[38;5;132;01m}\u001B[39;00m\u001B[38;5;124m\"\u001B[39m) \u001B[38;5;28;01mfrom\u001B[39;00m \u001B[38;5;28;01mNone\u001B[39;00m\n\u001B[1;32m    739\u001B[0m     \u001B[38;5;28mself\u001B[39m\u001B[38;5;241m.\u001B[39m_set(key, cval)\n\u001B[1;32m    740\u001B[0m \u001B[38;5;28;01mexcept\u001B[39;00m \u001B[38;5;167;01mKeyError\u001B[39;00m \u001B[38;5;28;01mas\u001B[39;00m err:\n",
      "\u001B[0;31mValueError\u001B[0m: Key backend: 'module://ipympl.backend_nbagg' is not a valid value for backend; supported values are ['gtk3agg', 'gtk3cairo', 'gtk4agg', 'gtk4cairo', 'macosx', 'nbagg', 'notebook', 'qtagg', 'qtcairo', 'qt5agg', 'qt5cairo', 'tkagg', 'tkcairo', 'webagg', 'wx', 'wxagg', 'wxcairo', 'agg', 'cairo', 'pdf', 'pgf', 'ps', 'svg', 'template', 'inline', 'module://matplotlib_inline.backend_inline']"
     ]
    }
   ],
   "execution_count": 80
  },
  {
   "cell_type": "markdown",
   "metadata": {
    "slideshow": {
     "slide_type": "subslide"
    }
   },
   "source": [
    "### Czas wykonania"
   ]
  },
  {
   "cell_type": "code",
   "metadata": {
    "slideshow": {
     "slide_type": "subslide"
    },
    "ExecuteTime": {
     "end_time": "2024-10-15T10:36:40.931405Z",
     "start_time": "2024-10-15T10:36:29.349952Z"
    }
   },
   "source": [
    "%%timeit\n",
    "'-'.join(str(n) for n in range(10))"
   ],
   "outputs": [
    {
     "name": "stdout",
     "output_type": "stream",
     "text": [
      "1.4 μs ± 18.4 ns per loop (mean ± std. dev. of 7 runs, 1,000,000 loops each)\n"
     ]
    }
   ],
   "execution_count": 81
  },
  {
   "cell_type": "code",
   "metadata": {
    "slideshow": {
     "slide_type": "subslide"
    },
    "ExecuteTime": {
     "end_time": "2024-10-15T10:36:41.014551Z",
     "start_time": "2024-10-15T10:36:41.001896Z"
    }
   },
   "source": [
    "%%timeit -r 3 -n 100 # liczba powtórzeń w każej iteracji i ogólna liczba powtórzeń\n",
    "'-'.join(str(n) for n in range(100))"
   ],
   "outputs": [
    {
     "name": "stdout",
     "output_type": "stream",
     "text": [
      "23.6 μs ± 2.47 μs per loop (mean ± std. dev. of 3 runs, 100 loops each)\n"
     ]
    }
   ],
   "execution_count": 82
  },
  {
   "cell_type": "markdown",
   "metadata": {
    "slideshow": {
     "slide_type": "slide"
    }
   },
   "source": [
    "## Pomoc"
   ]
  },
  {
   "cell_type": "code",
   "metadata": {
    "scrolled": true,
    "slideshow": {
     "slide_type": "fragment"
    },
    "ExecuteTime": {
     "end_time": "2024-10-15T10:36:41.135232Z",
     "start_time": "2024-10-15T10:36:41.129936Z"
    }
   },
   "source": [
    "help(print)"
   ],
   "outputs": [
    {
     "name": "stdout",
     "output_type": "stream",
     "text": [
      "Help on built-in function print in module builtins:\n",
      "\n",
      "print(*args, sep=' ', end='\\n', file=None, flush=False)\n",
      "    Prints the values to a stream, or to sys.stdout by default.\n",
      "\n",
      "    sep\n",
      "      string inserted between values, default a space.\n",
      "    end\n",
      "      string appended after the last value, default a newline.\n",
      "    file\n",
      "      a file-like object (stream); defaults to the current sys.stdout.\n",
      "    flush\n",
      "      whether to forcibly flush the stream.\n",
      "\n"
     ]
    }
   ],
   "execution_count": 83
  },
  {
   "cell_type": "code",
   "metadata": {
    "slideshow": {
     "slide_type": "fragment"
    },
    "ExecuteTime": {
     "end_time": "2024-10-15T10:36:41.340644Z",
     "start_time": "2024-10-15T10:36:41.337178Z"
    }
   },
   "source": [
    "timeit?"
   ],
   "outputs": [],
   "execution_count": 84
  },
  {
   "cell_type": "code",
   "metadata": {
    "slideshow": {
     "slide_type": "fragment"
    },
    "ExecuteTime": {
     "end_time": "2024-10-15T10:36:41.396125Z",
     "start_time": "2024-10-15T10:36:41.391972Z"
    }
   },
   "source": [
    "# w trakcie edycji można używać Shift + Tab (pomoc) i Tab (podpowiedzi)\n",
    "# użyj Tab aby uzyskać print, następnie Shift + Tab aby uzyskać pomoc i Tab aby uzupełnić nazwę parametru 'flu'\n",
    "print"
   ],
   "outputs": [
    {
     "data": {
      "text/plain": [
       "<function print(*args, sep=' ', end='\\n', file=None, flush=False)>"
      ]
     },
     "execution_count": 85,
     "metadata": {},
     "output_type": "execute_result"
    }
   ],
   "execution_count": 85
  },
  {
   "cell_type": "markdown",
   "metadata": {
    "slideshow": {
     "slide_type": "slide"
    }
   },
   "source": [
    "## Eksport notatnika"
   ]
  },
  {
   "cell_type": "markdown",
   "metadata": {
    "slideshow": {
     "slide_type": "fragment"
    }
   },
   "source": [
    "Notatnik można zapisać w różnych formatach (`File` → `Download as` lub `File` → `Save and Export Notebook As...`).\n",
    "\n",
    "Aby utworzyć prezentację z zawartości notatnika:\n",
    "- w menu `View` → `Cell Toolbar` należy zmienić widok na `Slideshow`\n",
    "- po ustawieniu zależności między komórkami można zapisać je jako prezentację `File` → `Download as` → `Reveal.js slides`"
   ]
  },
  {
   "cell_type": "code",
   "metadata": {},
   "source": [],
   "outputs": [],
   "execution_count": null
  }
 ],
 "metadata": {
  "kernelspec": {
   "display_name": "Python 3 (ipykernel)",
   "language": "python",
   "name": "python3"
  },
  "language_info": {
   "codemirror_mode": {
    "name": "ipython",
    "version": 3
   },
   "file_extension": ".py",
   "mimetype": "text/x-python",
   "name": "python",
   "nbconvert_exporter": "python",
   "pygments_lexer": "ipython3",
   "version": "3.12.3"
  }
 },
 "nbformat": 4,
 "nbformat_minor": 4
}
