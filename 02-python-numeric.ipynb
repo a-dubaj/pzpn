{
 "cells": [
  {
   "cell_type": "markdown",
   "metadata": {},
   "source": [
    "# Python: typy liczbowe i operatory"
   ]
  },
  {
   "cell_type": "markdown",
   "metadata": {},
   "source": [
    "## Typy liczbowe\n",
    "\n",
    "W Python dostępne są trzy wbudowane typy liczbowe:\n",
    "- `int` - całkowitoliczbowy o dowolnej precyzji\n",
    "- `float` - zmiennoprzecinkowy\n",
    "- `complex` - liczby zespolone"
   ]
  },
  {
   "cell_type": "code",
   "metadata": {
    "jupyter": {
     "is_executing": true
    }
   },
   "source": [
    "# deklaracja zmiennych nie wymaga podania typu\n",
    "file_size = 746\n",
    "file_size # z komórki drukowany jest wynik ostatniego wyrażenia"
   ],
   "outputs": [],
   "execution_count": null
  },
  {
   "cell_type": "code",
   "metadata": {
    "ExecuteTime": {
     "end_time": "2024-06-15T14:41:41.699705Z",
     "start_time": "2024-06-15T14:41:41.695914Z"
    }
   },
   "source": [
    "# funkcja wbudowana type zwraca typ zmiennej\n",
    "type(file_size)"
   ],
   "outputs": [
    {
     "data": {
      "text/plain": [
       "int"
      ]
     },
     "execution_count": 2,
     "metadata": {},
     "output_type": "execute_result"
    }
   ],
   "execution_count": 2
  },
  {
   "cell_type": "code",
   "metadata": {
    "jupyter": {
     "is_executing": true
    }
   },
   "source": [
    "# \"stałe\" zazwyczaj nazywamy używając wielkich liter\n",
    "MEGA = 1000000\n",
    "MEGA = 1_000_000 # znak _ zwiększa czytelność\n",
    "\n",
    "# formatowanie napisów\n",
    "# konkatenacja, powoduje tworzenie wielu obiektów str\n",
    "print(str(file_size * MEGA) + ' bytes')\n",
    "# oparator %, starsza metoda\n",
    "print('%d bytes' % (file_size * MEGA))\n",
    "# wywołanie format na str\n",
    "print('{} bytes'.format(file_size * MEGA))\n",
    "# f-string, od Python 3.6\n",
    "print(f'{file_size * MEGA} bytes')\n",
    "# drukowanie nazw zmiennych, od Python 3.8\n",
    "print(f'{file_size = } bytes')"
   ],
   "outputs": [],
   "execution_count": null
  },
  {
   "cell_type": "code",
   "metadata": {
    "ExecuteTime": {
     "end_time": "2024-06-15T14:41:45.504754Z",
     "start_time": "2024-06-15T14:41:45.499089Z"
    }
   },
   "source": [
    "# konwersja do typu int\n",
    "int(4)"
   ],
   "outputs": [
    {
     "data": {
      "text/plain": [
       "4"
      ]
     },
     "execution_count": 4,
     "metadata": {},
     "output_type": "execute_result"
    }
   ],
   "execution_count": 4
  },
  {
   "cell_type": "code",
   "metadata": {
    "ExecuteTime": {
     "end_time": "2024-06-15T14:41:46.575999Z",
     "start_time": "2024-06-15T14:41:46.572243Z"
    }
   },
   "source": [
    "int(-5.6)"
   ],
   "outputs": [
    {
     "data": {
      "text/plain": [
       "-5"
      ]
     },
     "execution_count": 5,
     "metadata": {},
     "output_type": "execute_result"
    }
   ],
   "execution_count": 5
  },
  {
   "cell_type": "code",
   "metadata": {
    "ExecuteTime": {
     "end_time": "2024-06-15T14:41:47.080708Z",
     "start_time": "2024-06-15T14:41:47.075411Z"
    }
   },
   "source": [
    "int('90')"
   ],
   "outputs": [
    {
     "data": {
      "text/plain": [
       "90"
      ]
     },
     "execution_count": 6,
     "metadata": {},
     "output_type": "execute_result"
    }
   ],
   "execution_count": 6
  },
  {
   "cell_type": "code",
   "metadata": {
    "ExecuteTime": {
     "end_time": "2024-06-15T14:43:20.800739Z",
     "start_time": "2024-06-15T14:43:20.794466Z"
    }
   },
   "source": "int(float('12.2'))",
   "outputs": [
    {
     "data": {
      "text/plain": [
       "12"
      ]
     },
     "execution_count": 12,
     "metadata": {},
     "output_type": "execute_result"
    }
   ],
   "execution_count": 12
  },
  {
   "cell_type": "code",
   "metadata": {
    "ExecuteTime": {
     "end_time": "2024-06-15T14:43:22.213736Z",
     "start_time": "2024-06-15T14:43:22.208569Z"
    }
   },
   "source": [
    "# typ zmiennoprzecinkowy\n",
    "pressure = 998.5\n",
    "type(pressure)"
   ],
   "outputs": [
    {
     "data": {
      "text/plain": [
       "float"
      ]
     },
     "execution_count": 13,
     "metadata": {},
     "output_type": "execute_result"
    }
   ],
   "execution_count": 13
  },
  {
   "cell_type": "code",
   "metadata": {
    "ExecuteTime": {
     "end_time": "2024-06-15T14:44:03.576729Z",
     "start_time": "2024-06-15T14:44:03.571578Z"
    }
   },
   "source": [
    "# zapis inżynierski\n",
    "pressure = 9.985 * 1e2\n",
    "pressure = 9.985e2\n",
    "pressure"
   ],
   "outputs": [
    {
     "data": {
      "text/plain": [
       "998.5"
      ]
     },
     "execution_count": 14,
     "metadata": {},
     "output_type": "execute_result"
    }
   ],
   "execution_count": 14
  },
  {
   "cell_type": "code",
   "metadata": {
    "ExecuteTime": {
     "end_time": "2024-06-15T14:44:18.866095Z",
     "start_time": "2024-06-15T14:44:18.862217Z"
    }
   },
   "source": [
    "# konwersja do typu float\n",
    "float(998)"
   ],
   "outputs": [
    {
     "data": {
      "text/plain": [
       "998.0"
      ]
     },
     "execution_count": 15,
     "metadata": {},
     "output_type": "execute_result"
    }
   ],
   "execution_count": 15
  },
  {
   "cell_type": "code",
   "metadata": {
    "ExecuteTime": {
     "end_time": "2024-06-15T14:44:19.975275Z",
     "start_time": "2024-06-15T14:44:19.966075Z"
    }
   },
   "source": [
    "float('2_5')"
   ],
   "outputs": [
    {
     "data": {
      "text/plain": [
       "25.0"
      ]
     },
     "execution_count": 16,
     "metadata": {},
     "output_type": "execute_result"
    }
   ],
   "execution_count": 16
  },
  {
   "cell_type": "code",
   "metadata": {
    "ExecuteTime": {
     "end_time": "2024-06-15T14:44:22.838086Z",
     "start_time": "2024-06-15T14:44:22.832153Z"
    }
   },
   "source": [
    "# zaokrąglanie\n",
    "round(-3.4)"
   ],
   "outputs": [
    {
     "data": {
      "text/plain": [
       "-3"
      ]
     },
     "execution_count": 17,
     "metadata": {},
     "output_type": "execute_result"
    }
   ],
   "execution_count": 17
  },
  {
   "cell_type": "code",
   "metadata": {
    "ExecuteTime": {
     "end_time": "2024-06-15T14:55:38.414001Z",
     "start_time": "2024-06-15T14:55:38.404829Z"
    }
   },
   "source": [
    "# wartość bezwzględnia\n",
    "abs(-5.6)"
   ],
   "outputs": [
    {
     "data": {
      "text/plain": [
       "5.6"
      ]
     },
     "execution_count": 19,
     "metadata": {},
     "output_type": "execute_result"
    }
   ],
   "execution_count": 19
  },
  {
   "cell_type": "code",
   "metadata": {
    "ExecuteTime": {
     "end_time": "2024-06-15T14:56:01.146048Z",
     "start_time": "2024-06-15T14:56:01.138083Z"
    }
   },
   "source": [
    "# liczby zespolone\n",
    "cplx_1 = 2+3j\n",
    "cplx_2 = complex('1.2-2j')\n",
    "print(f'{cplx_1} is {type(cplx_1)}')\n",
    "print(cplx_2)"
   ],
   "outputs": [
    {
     "name": "stdout",
     "output_type": "stream",
     "text": [
      "(2+3j) is <class 'complex'>\n",
      "(1.2-2j)\n"
     ]
    }
   ],
   "execution_count": 25
  },
  {
   "cell_type": "markdown",
   "metadata": {},
   "source": [
    "## Operatory arytmetyczne"
   ]
  },
  {
   "cell_type": "code",
   "metadata": {
    "ExecuteTime": {
     "end_time": "2024-06-15T14:56:02.536362Z",
     "start_time": "2024-06-15T14:56:02.531422Z"
    }
   },
   "source": [
    "x = 2\n",
    "y = x + 2\n",
    "1 + 3 - 2*x + y"
   ],
   "outputs": [
    {
     "data": {
      "text/plain": [
       "4"
      ]
     },
     "execution_count": 26,
     "metadata": {},
     "output_type": "execute_result"
    }
   ],
   "execution_count": 26
  },
  {
   "cell_type": "code",
   "metadata": {
    "ExecuteTime": {
     "end_time": "2024-06-15T14:56:02.824954Z",
     "start_time": "2024-06-15T14:56:02.817282Z"
    }
   },
   "source": [
    "# dzielenie\n",
    "3 / 2"
   ],
   "outputs": [
    {
     "data": {
      "text/plain": [
       "1.5"
      ]
     },
     "execution_count": 27,
     "metadata": {},
     "output_type": "execute_result"
    }
   ],
   "execution_count": 27
  },
  {
   "cell_type": "code",
   "metadata": {
    "ExecuteTime": {
     "end_time": "2024-06-15T14:56:03.103700Z",
     "start_time": "2024-06-15T14:56:03.098529Z"
    }
   },
   "source": [
    "# dzielenie całkowite (obcinające)\n",
    "5 // 2"
   ],
   "outputs": [
    {
     "data": {
      "text/plain": [
       "2"
      ]
     },
     "execution_count": 28,
     "metadata": {},
     "output_type": "execute_result"
    }
   ],
   "execution_count": 28
  },
  {
   "cell_type": "code",
   "metadata": {
    "ExecuteTime": {
     "end_time": "2024-06-15T14:56:03.413404Z",
     "start_time": "2024-06-15T14:56:03.406430Z"
    }
   },
   "source": [
    "# reszta z dzielenia (modulo)\n",
    "5 % 2"
   ],
   "outputs": [
    {
     "data": {
      "text/plain": [
       "1"
      ]
     },
     "execution_count": 29,
     "metadata": {},
     "output_type": "execute_result"
    }
   ],
   "execution_count": 29
  },
  {
   "cell_type": "code",
   "metadata": {
    "ExecuteTime": {
     "end_time": "2024-06-15T14:56:03.860321Z",
     "start_time": "2024-06-15T14:56:03.855588Z"
    }
   },
   "source": [
    "# potęgowanie\n",
    "2 ** 3"
   ],
   "outputs": [
    {
     "data": {
      "text/plain": [
       "8"
      ]
     },
     "execution_count": 30,
     "metadata": {},
     "output_type": "execute_result"
    }
   ],
   "execution_count": 30
  },
  {
   "cell_type": "code",
   "metadata": {
    "ExecuteTime": {
     "end_time": "2024-06-15T14:56:04.151865Z",
     "start_time": "2024-06-15T14:56:04.146422Z"
    }
   },
   "source": [
    "2 ** 0.5"
   ],
   "outputs": [
    {
     "data": {
      "text/plain": [
       "1.4142135623730951"
      ]
     },
     "execution_count": 31,
     "metadata": {},
     "output_type": "execute_result"
    }
   ],
   "execution_count": 31
  },
  {
   "cell_type": "code",
   "metadata": {
    "ExecuteTime": {
     "end_time": "2024-06-15T14:56:04.322356Z",
     "start_time": "2024-06-15T14:56:04.318150Z"
    }
   },
   "source": [
    "# potęgowanie za pomocą funkcji pow\n",
    "sqrt_2 = pow(2, 1/2)\n",
    "print(sqrt_2)\n",
    "print(f'{sqrt_2:.2f}')"
   ],
   "outputs": [
    {
     "name": "stdout",
     "output_type": "stream",
     "text": [
      "1.4142135623730951\n",
      "1.41\n"
     ]
    }
   ],
   "execution_count": 32
  },
  {
   "cell_type": "markdown",
   "metadata": {},
   "source": [
    "## Operatory przypisania"
   ]
  },
  {
   "cell_type": "code",
   "metadata": {
    "ExecuteTime": {
     "end_time": "2024-06-15T14:56:05.039284Z",
     "start_time": "2024-06-15T14:56:05.033864Z"
    }
   },
   "source": [
    "# przypisanie\n",
    "value = 2\n",
    "value = value + 1\n",
    "print(value)\n",
    "# skrócona wersja value = value + 1\n",
    "value += 1\n",
    "value"
   ],
   "outputs": [
    {
     "name": "stdout",
     "output_type": "stream",
     "text": [
      "3\n"
     ]
    },
    {
     "data": {
      "text/plain": [
       "4"
      ]
     },
     "execution_count": 33,
     "metadata": {},
     "output_type": "execute_result"
    }
   ],
   "execution_count": 33
  },
  {
   "cell_type": "code",
   "metadata": {
    "ExecuteTime": {
     "end_time": "2024-06-15T14:56:05.376607Z",
     "start_time": "2024-06-15T14:56:05.370414Z"
    }
   },
   "source": [
    "# skrócony zapis dla innych operatorów\n",
    "value = 4\n",
    "value -= 1\n",
    "value *= 3\n",
    "value /= 2\n",
    "value //= 2\n",
    "value %= 3\n",
    "value **= 9\n",
    "value"
   ],
   "outputs": [
    {
     "data": {
      "text/plain": [
       "512.0"
      ]
     },
     "execution_count": 34,
     "metadata": {},
     "output_type": "execute_result"
    }
   ],
   "execution_count": 34
  },
  {
   "cell_type": "markdown",
   "metadata": {},
   "source": [
    "## Operatory bitowe ★"
   ]
  },
  {
   "cell_type": "code",
   "metadata": {
    "ExecuteTime": {
     "end_time": "2024-06-15T14:56:06.479759Z",
     "start_time": "2024-06-15T14:56:06.475381Z"
    }
   },
   "source": [
    "# wykonanie operacji na poszczególnych bitach\n",
    "x = 10\n",
    "y = 12\n",
    "print(f'x      = {x:04b}') # reprezentacja bitowa\n",
    "print(f'y      = {y:04b}')\n",
    "print(f'x | y  = {x | y:04b}')  # alternatywa (or)\n",
    "print(f'x & y  = {x & y:04b}')  # koniunkcja (and)\n",
    "print(f'x ^ y  = {x ^ y:04b}')  # alternatywa wykluczająca (xor)\n",
    "print(f'~y     ={~y:04b}')      # uzupełnienie bitowe (bitwise complement, -y-1)\n",
    "print(f'x >> 1 = {x >> 1:04b}') # przesunięcie w prawo (right shift)\n",
    "print(f'x << 2 = {x << 2:04b}') # przesunięcie w lewo (left shift) \n"
   ],
   "outputs": [
    {
     "name": "stdout",
     "output_type": "stream",
     "text": [
      "x      = 1010\n",
      "y      = 1100\n",
      "x | y  = 1110\n",
      "x & y  = 1000\n",
      "x ^ y  = 0110\n",
      "~y     =-1101\n",
      "x >> 1 = 0101\n",
      "x << 2 = 101000\n"
     ]
    }
   ],
   "execution_count": 35
  },
  {
   "cell_type": "code",
   "metadata": {
    "ExecuteTime": {
     "end_time": "2024-06-15T14:56:07.361772Z",
     "start_time": "2024-06-15T14:56:07.357234Z"
    }
   },
   "source": [
    "# skrócone wersje operatorów bitowych |=, &=, ^=, >>=, <<=\n",
    "x = 10\n",
    "y = 12\n",
    "x |= y\n",
    "print(str(x) + ' = ' + bin(x))\n",
    "x <<= 2\n",
    "print(x)"
   ],
   "outputs": [
    {
     "name": "stdout",
     "output_type": "stream",
     "text": [
      "14 = 0b1110\n",
      "56\n"
     ]
    }
   ],
   "execution_count": 36
  },
  {
   "cell_type": "markdown",
   "metadata": {},
   "source": [
    "## Typ logiczny\n",
    "\n",
    "W Python typem logicznym jest `bool`, który przyjmuje dwie wartości\n",
    "- `True` - prawda\n",
    "- `False` - fałsz"
   ]
  },
  {
   "cell_type": "code",
   "metadata": {
    "ExecuteTime": {
     "end_time": "2024-06-15T14:56:09.560322Z",
     "start_time": "2024-06-15T14:56:09.552265Z"
    }
   },
   "source": [
    "working = True\n",
    "working"
   ],
   "outputs": [
    {
     "data": {
      "text/plain": [
       "True"
      ]
     },
     "execution_count": 37,
     "metadata": {},
     "output_type": "execute_result"
    }
   ],
   "execution_count": 37
  },
  {
   "cell_type": "code",
   "metadata": {
    "ExecuteTime": {
     "end_time": "2024-06-15T14:56:10.899549Z",
     "start_time": "2024-06-15T14:56:10.891906Z"
    }
   },
   "source": [
    "working = bool(0)\n",
    "working"
   ],
   "outputs": [
    {
     "data": {
      "text/plain": [
       "False"
      ]
     },
     "execution_count": 38,
     "metadata": {},
     "output_type": "execute_result"
    }
   ],
   "execution_count": 38
  },
  {
   "cell_type": "markdown",
   "metadata": {},
   "source": [
    "## Operatory relacyjne\n",
    "\n",
    "Wynikiem działania operatorów relacyjnych jest wartość typu logicznego."
   ]
  },
  {
   "cell_type": "code",
   "metadata": {
    "ExecuteTime": {
     "end_time": "2024-06-15T14:56:12.746647Z",
     "start_time": "2024-06-15T14:56:12.742602Z"
    }
   },
   "source": [
    "x = 1\n",
    "y = 2\n",
    "x > y"
   ],
   "outputs": [
    {
     "data": {
      "text/plain": [
       "False"
      ]
     },
     "execution_count": 39,
     "metadata": {},
     "output_type": "execute_result"
    }
   ],
   "execution_count": 39
  },
  {
   "cell_type": "code",
   "metadata": {
    "ExecuteTime": {
     "end_time": "2024-06-15T14:56:13.302231Z",
     "start_time": "2024-06-15T14:56:13.298054Z"
    }
   },
   "source": [
    "3 >= 3"
   ],
   "outputs": [
    {
     "data": {
      "text/plain": [
       "True"
      ]
     },
     "execution_count": 40,
     "metadata": {},
     "output_type": "execute_result"
    }
   ],
   "execution_count": 40
  },
  {
   "cell_type": "code",
   "metadata": {
    "ExecuteTime": {
     "end_time": "2024-06-15T14:56:13.722866Z",
     "start_time": "2024-06-15T14:56:13.713885Z"
    }
   },
   "source": [
    "1 < 2 < 3"
   ],
   "outputs": [
    {
     "data": {
      "text/plain": [
       "True"
      ]
     },
     "execution_count": 41,
     "metadata": {},
     "output_type": "execute_result"
    }
   ],
   "execution_count": 41
  },
  {
   "cell_type": "code",
   "metadata": {
    "ExecuteTime": {
     "end_time": "2024-06-15T14:56:14.032023Z",
     "start_time": "2024-06-15T14:56:14.026981Z"
    }
   },
   "source": [
    "5 >= 6 <= 1"
   ],
   "outputs": [
    {
     "data": {
      "text/plain": [
       "False"
      ]
     },
     "execution_count": 42,
     "metadata": {},
     "output_type": "execute_result"
    }
   ],
   "execution_count": 42
  },
  {
   "cell_type": "code",
   "metadata": {
    "ExecuteTime": {
     "end_time": "2024-06-15T14:56:14.518302Z",
     "start_time": "2024-06-15T14:56:14.512174Z"
    }
   },
   "source": [
    "# oparatory porównania\n",
    "x = 2.0\n",
    "print(x == 2.0)\n",
    "print(x != x + 3)"
   ],
   "outputs": [
    {
     "name": "stdout",
     "output_type": "stream",
     "text": [
      "True\n",
      "True\n"
     ]
    }
   ],
   "execution_count": 43
  },
  {
   "cell_type": "markdown",
   "metadata": {},
   "source": [
    "## Operatory logiczne"
   ]
  },
  {
   "cell_type": "code",
   "metadata": {
    "ExecuteTime": {
     "end_time": "2024-06-15T14:56:17.665377Z",
     "start_time": "2024-06-15T14:56:17.660020Z"
    }
   },
   "source": [
    "# koniunkcja (i)\n",
    "True and False"
   ],
   "outputs": [
    {
     "data": {
      "text/plain": [
       "False"
      ]
     },
     "execution_count": 44,
     "metadata": {},
     "output_type": "execute_result"
    }
   ],
   "execution_count": 44
  },
  {
   "cell_type": "code",
   "metadata": {
    "ExecuteTime": {
     "end_time": "2024-06-15T14:56:19.053971Z",
     "start_time": "2024-06-15T14:56:19.048336Z"
    }
   },
   "source": [
    "# alternatywa (lub)\n",
    "False or True"
   ],
   "outputs": [
    {
     "data": {
      "text/plain": [
       "True"
      ]
     },
     "execution_count": 45,
     "metadata": {},
     "output_type": "execute_result"
    }
   ],
   "execution_count": 45
  },
  {
   "cell_type": "code",
   "metadata": {
    "ExecuteTime": {
     "end_time": "2024-06-15T14:56:19.729728Z",
     "start_time": "2024-06-15T14:56:19.725856Z"
    }
   },
   "source": [
    "# negacja\n",
    "not False"
   ],
   "outputs": [
    {
     "data": {
      "text/plain": [
       "True"
      ]
     },
     "execution_count": 46,
     "metadata": {},
     "output_type": "execute_result"
    }
   ],
   "execution_count": 46
  },
  {
   "cell_type": "code",
   "metadata": {
    "ExecuteTime": {
     "end_time": "2024-06-15T14:56:20.203776Z",
     "start_time": "2024-06-15T14:56:20.198526Z"
    }
   },
   "source": [
    "start = 1.0\n",
    "stop = -2\n",
    "working = bool(-2)\n",
    "active = False\n",
    "not (start > stop) and (working or active)"
   ],
   "outputs": [
    {
     "data": {
      "text/plain": [
       "False"
      ]
     },
     "execution_count": 47,
     "metadata": {},
     "output_type": "execute_result"
    }
   ],
   "execution_count": 47
  },
  {
   "cell_type": "markdown",
   "metadata": {},
   "source": [
    "## None\n",
    "\n",
    "Typ `None` reprezentuje wartość pustą (nieustawioną). Jest to odpowiednik `null`/`nil` z innych języków."
   ]
  },
  {
   "cell_type": "code",
   "metadata": {
    "ExecuteTime": {
     "end_time": "2024-06-15T14:56:21.424737Z",
     "start_time": "2024-06-15T14:56:21.420436Z"
    }
   },
   "source": [
    "# zmienna istnieje, ale ma pustą wartość\n",
    "value = None\n",
    "value"
   ],
   "outputs": [],
   "execution_count": 48
  },
  {
   "cell_type": "code",
   "metadata": {
    "ExecuteTime": {
     "end_time": "2024-06-15T14:56:21.818994Z",
     "start_time": "2024-06-15T14:56:21.801542Z"
    }
   },
   "source": [
    "# brak zdefiniowania zmiennej powoduje błąd\n",
    "not_defined"
   ],
   "outputs": [
    {
     "ename": "NameError",
     "evalue": "name 'not_defined' is not defined",
     "output_type": "error",
     "traceback": [
      "\u001B[0;31m---------------------------------------------------------------------------\u001B[0m",
      "\u001B[0;31mNameError\u001B[0m                                 Traceback (most recent call last)",
      "Cell \u001B[0;32mIn[49], line 2\u001B[0m\n\u001B[1;32m      1\u001B[0m \u001B[38;5;66;03m# brak zdefiniowania zmiennej powoduje błąd\u001B[39;00m\n\u001B[0;32m----> 2\u001B[0m \u001B[43mnot_defined\u001B[49m\n",
      "\u001B[0;31mNameError\u001B[0m: name 'not_defined' is not defined"
     ]
    }
   ],
   "execution_count": 49
  },
  {
   "cell_type": "code",
   "metadata": {
    "ExecuteTime": {
     "end_time": "2024-06-15T14:56:27.371044Z",
     "start_time": "2024-06-15T14:56:27.362314Z"
    }
   },
   "source": [
    "# do porównania używamy is\n",
    "value is None"
   ],
   "outputs": [
    {
     "data": {
      "text/plain": [
       "True"
      ]
     },
     "execution_count": 50,
     "metadata": {},
     "output_type": "execute_result"
    }
   ],
   "execution_count": 50
  },
  {
   "cell_type": "code",
   "metadata": {
    "ExecuteTime": {
     "end_time": "2024-06-15T14:56:27.925635Z",
     "start_time": "2024-06-15T14:56:27.920728Z"
    }
   },
   "source": [
    "value is not None"
   ],
   "outputs": [
    {
     "data": {
      "text/plain": [
       "False"
      ]
     },
     "execution_count": 51,
     "metadata": {},
     "output_type": "execute_result"
    }
   ],
   "execution_count": 51
  },
  {
   "metadata": {},
   "cell_type": "code",
   "outputs": [],
   "execution_count": null,
   "source": ""
  }
 ],
 "metadata": {
  "kernelspec": {
   "display_name": "Python 3 (ipykernel)",
   "language": "python",
   "name": "python3"
  },
  "language_info": {
   "codemirror_mode": {
    "name": "ipython",
    "version": 3
   },
   "file_extension": ".py",
   "mimetype": "text/x-python",
   "name": "python",
   "nbconvert_exporter": "python",
   "pygments_lexer": "ipython3",
   "version": "3.11.7"
  }
 },
 "nbformat": 4,
 "nbformat_minor": 4
}
