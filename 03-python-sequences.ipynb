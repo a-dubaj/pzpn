{
 "cells": [
  {
   "cell_type": "markdown",
   "metadata": {},
   "source": [
    "# Python: sekwencje"
   ]
  },
  {
   "cell_type": "markdown",
   "metadata": {},
   "source": [
    "## Typ znakowy\n",
    "\n",
    "W Python dostępne typem znakowym jest `str`.\n",
    "\n",
    "Jest to jeden z *sekwencyjnych* typów danych, co oznacza, że w pojedynczej zmiennej można przechowywać wiele wartości."
   ]
  },
  {
   "cell_type": "code",
   "metadata": {
    "jupyter": {
     "is_executing": true
    }
   },
   "source": [
    "text = 'To jest napis'\n",
    "long_text = \"\"\"To jest\n",
    "bardzo długi\n",
    "napis\"\"\"\n",
    "print(text)\n",
    "print(long_text)"
   ],
   "outputs": [],
   "execution_count": null
  },
  {
   "cell_type": "code",
   "metadata": {
    "ExecuteTime": {
     "end_time": "2024-06-15T14:57:22.548759Z",
     "start_time": "2024-06-15T14:57:22.544755Z"
    }
   },
   "source": [
    "# konwersja do typu str\n",
    "five = str(5.0)\n",
    "print(five)\n",
    "\n",
    "# długość napisu\n",
    "print(len(five))"
   ],
   "outputs": [
    {
     "name": "stdout",
     "output_type": "stream",
     "text": [
      "5.0\n",
      "3\n"
     ]
    }
   ],
   "execution_count": 2
  },
  {
   "cell_type": "code",
   "metadata": {
    "ExecuteTime": {
     "end_time": "2024-06-15T14:57:27.770388Z",
     "start_time": "2024-06-15T14:57:27.764247Z"
    }
   },
   "source": [
    "# konwersja znaków do kodów ASCII\n",
    "print(ord('5'))\n",
    "print(chr(54))"
   ],
   "outputs": [
    {
     "name": "stdout",
     "output_type": "stream",
     "text": [
      "53\n",
      "6\n"
     ]
    }
   ],
   "execution_count": 3
  },
  {
   "cell_type": "code",
   "metadata": {
    "ExecuteTime": {
     "end_time": "2024-06-15T15:02:15.041557Z",
     "start_time": "2024-06-15T15:02:15.036990Z"
    }
   },
   "source": [
    "# znaki specjalne/wyjścia escape characters zaczynają się od \\\n",
    "print('Niektóre \\t znaki np. \\\\t\\nmają znaczenie \\'specjalne\\' \\U0001F600')"
   ],
   "outputs": [
    {
     "name": "stdout",
     "output_type": "stream",
     "text": [
      "Niektóre \t znaki np. \\t\n",
      "mają znaczenie 'specjalne' 😀\n"
     ]
    }
   ],
   "execution_count": 4
  },
  {
   "cell_type": "code",
   "metadata": {
    "ExecuteTime": {
     "end_time": "2024-06-15T15:02:15.677650Z",
     "start_time": "2024-06-15T15:02:15.668233Z"
    }
   },
   "source": [
    "# surowe łańcuchy znaków\n",
    "raw = r'Niektóre \\t znaki np. \\\\t\\nmają znaczenie \\'specjalne\\' \\U0001F600'\n",
    "print(raw)\n",
    "raw"
   ],
   "outputs": [
    {
     "name": "stdout",
     "output_type": "stream",
     "text": [
      "Niektóre \\t znaki np. \\\\t\\nmają znaczenie \\'specjalne\\' \\U0001F600\n"
     ]
    },
    {
     "data": {
      "text/plain": [
       "\"Niektóre \\\\t znaki np. \\\\\\\\t\\\\nmają znaczenie \\\\'specjalne\\\\' \\\\U0001F600\""
      ]
     },
     "execution_count": 5,
     "metadata": {},
     "output_type": "execute_result"
    }
   ],
   "execution_count": 5
  },
  {
   "cell_type": "code",
   "metadata": {
    "ExecuteTime": {
     "end_time": "2024-06-15T15:02:16.039185Z",
     "start_time": "2024-06-15T15:02:16.035335Z"
    }
   },
   "source": [
    "# znaków ' i \" można używać zamiennie dla wygody\n",
    "print(\"Niektóre znaki mają znaczenie 'specjalne'\")\n",
    "print('Niektóre znaki mają znaczenie \"specjalne\"')"
   ],
   "outputs": [
    {
     "name": "stdout",
     "output_type": "stream",
     "text": [
      "Niektóre znaki mają znaczenie 'specjalne'\n",
      "Niektóre znaki mają znaczenie \"specjalne\"\n"
     ]
    }
   ],
   "execution_count": 6
  },
  {
   "cell_type": "code",
   "metadata": {
    "ExecuteTime": {
     "end_time": "2024-06-15T15:02:16.622537Z",
     "start_time": "2024-06-15T15:02:16.618236Z"
    }
   },
   "source": [
    "# łączenie i powielanie napisów\n",
    "hello = 'hello'\n",
    "world = 'world'\n",
    "hello_world = hello + ' ' + world\n",
    "print(hello_world)\n",
    "hello_world += '!' * 3\n",
    "print(hello_world)"
   ],
   "outputs": [
    {
     "name": "stdout",
     "output_type": "stream",
     "text": [
      "hello world\n",
      "hello world!!!\n"
     ]
    }
   ],
   "execution_count": 7
  },
  {
   "cell_type": "code",
   "metadata": {
    "ExecuteTime": {
     "end_time": "2024-06-15T15:02:17.140868Z",
     "start_time": "2024-06-15T15:02:17.135524Z"
    }
   },
   "source": [
    "# napis jest sekwencją znaków\n",
    "text = 'To jest napis'\n",
    "\n",
    "# indeksowanie\n",
    "print(text[0])  # indeksujemy od 0 (pierwszy znak)\n",
    "print(text[1])\n",
    "print(text[-1]) # ujemne wartości oznaczają indeksację od końca"
   ],
   "outputs": [
    {
     "name": "stdout",
     "output_type": "stream",
     "text": [
      "T\n",
      "o\n",
      "s\n"
     ]
    }
   ],
   "execution_count": 8
  },
  {
   "cell_type": "code",
   "metadata": {
    "ExecuteTime": {
     "end_time": "2024-06-15T15:02:18.030108Z",
     "start_time": "2024-06-15T15:02:18.025884Z"
    }
   },
   "source": [
    "text = 'To jest przykładowy napis'\n",
    "\n",
    "# wycinki (slices)\n",
    "print(text[1:5])    # od - do (przedział lewostronnie zamknięty)\n",
    "\n",
    "print(text[0:])     # brak wartości oznacza wartość skrajną\n",
    "print(text[:])      # brak wartości oznacza wartość skrajną (jak wyżej)\n",
    "\n",
    "print(text[:-1])    # ujemne wartości oznaczają indeksację od końca\n",
    "print(text[6:12:2]) # co drugi znak od znaku szóstego do dwunastego\n",
    "\n",
    "print(text[-1::-1]) # sekwencja od końca\n",
    "print(text[::-1])   # sekwencja od końca (jak wyżej)"
   ],
   "outputs": [
    {
     "name": "stdout",
     "output_type": "stream",
     "text": [
      "o je\n",
      "To jest przykładowy napis\n",
      "To jest przykładowy napis\n",
      "To jest przykładowy napi\n",
      "tpz\n",
      "sipan ywodałkyzrp tsej oT\n",
      "sipan ywodałkyzrp tsej oT\n"
     ]
    }
   ],
   "execution_count": 9
  },
  {
   "cell_type": "markdown",
   "metadata": {},
   "source": [
    "### Przetwarzanie napisów"
   ]
  },
  {
   "cell_type": "code",
   "metadata": {
    "ExecuteTime": {
     "end_time": "2024-06-15T15:02:19.028691Z",
     "start_time": "2024-06-15T15:02:19.021828Z"
    }
   },
   "source": [
    "# formatowanie\n",
    "print('MAŁE LiterY'.lower())\n",
    "print('duże lITERy'.upper())\n",
    "print('tak jak w zdaniu'.capitalize())\n",
    "print('zmiana liter na początku wszystkich WYRAZÓW'.title())\n",
    "print('zamiana LITER'.swapcase())\n",
    "print('programujemy w pythonie'.center(80, '*'))\n",
    "print('programujemy w pythonie'.rjust(80))\n",
    "print('programujemy w pythonie'.ljust(80, '.'))"
   ],
   "outputs": [
    {
     "name": "stdout",
     "output_type": "stream",
     "text": [
      "małe litery\n",
      "DUŻE LITERY\n",
      "Tak jak w zdaniu\n",
      "Zmiana Liter Na Początku Wszystkich Wyrazów\n",
      "ZAMIANA liter\n",
      "****************************programujemy w pythonie*****************************\n",
      "                                                         programujemy w pythonie\n",
      "programujemy w pythonie.........................................................\n"
     ]
    }
   ],
   "execution_count": 10
  },
  {
   "cell_type": "code",
   "metadata": {
    "ExecuteTime": {
     "end_time": "2024-06-15T15:02:19.228615Z",
     "start_time": "2024-06-15T15:02:19.224505Z"
    }
   },
   "source": [
    "# usuwanie białych znaków\n",
    "print('  \\tbiałe znaki\\t')\n",
    "print('  \\tbez białych znaków\\t'.strip())"
   ],
   "outputs": [
    {
     "name": "stdout",
     "output_type": "stream",
     "text": [
      "  \tbiałe znaki\t\n",
      "bez białych znaków\n"
     ]
    }
   ],
   "execution_count": 11
  },
  {
   "cell_type": "code",
   "metadata": {
    "ExecuteTime": {
     "end_time": "2024-06-15T15:02:19.390077Z",
     "start_time": "2024-06-15T15:02:19.385918Z"
    }
   },
   "source": [
    "# wyszukiwanie\n",
    "print('czy zaczyna się od'.startswith('d'))\n",
    "print('czy kończy się na'.endswith('na'))\n",
    "print('gdzie występuje pierwsze'.find('i'))\n",
    "print('gdzie występuje ostatnie'.rfind('i'))\n",
    "print('zliczanie wystąpień'.count('i'))"
   ],
   "outputs": [
    {
     "name": "stdout",
     "output_type": "stream",
     "text": [
      "False\n",
      "True\n",
      "3\n",
      "22\n",
      "3\n"
     ]
    }
   ],
   "execution_count": 12
  },
  {
   "cell_type": "code",
   "metadata": {
    "ExecuteTime": {
     "end_time": "2024-06-15T15:02:19.574896Z",
     "start_time": "2024-06-15T15:02:19.568581Z"
    }
   },
   "source": [
    "# wybrane właściwości ciągu\n",
    "print('alfa numeryczne 0'.isalnum()) # czy wartości alfanumeryczne\n",
    "print('2²'.isdigit())    # czy tylko cyfry\n",
    "print('2²'.isnumeric())  # czy wartości numeryczne (np. słowa w innych językach)\n",
    "print('2²'.isdecimal())  # czy cyfry dziesiętne\n",
    "print('tylko znaki'.isalpha())\n",
    "print('tylko małe litery'.islower())\n",
    "print('TYLKO WIELKIE'.isupper())\n",
    "print('\\t '.isspace())"
   ],
   "outputs": [
    {
     "name": "stdout",
     "output_type": "stream",
     "text": [
      "False\n",
      "True\n",
      "True\n",
      "False\n",
      "False\n",
      "True\n",
      "True\n",
      "True\n"
     ]
    }
   ],
   "execution_count": 13
  },
  {
   "cell_type": "code",
   "metadata": {
    "ExecuteTime": {
     "end_time": "2024-06-15T15:02:20.074352Z",
     "start_time": "2024-06-15T15:02:20.067074Z"
    }
   },
   "source": [
    "# podmiana\n",
    "text = 'być albo nie być – oto jest pytanie'\n",
    "text.replace('być', 'Python')\n",
    "print(text)"
   ],
   "outputs": [
    {
     "name": "stdout",
     "output_type": "stream",
     "text": [
      "być albo nie być – oto jest pytanie\n"
     ]
    }
   ],
   "execution_count": 14
  },
  {
   "cell_type": "code",
   "metadata": {
    "ExecuteTime": {
     "end_time": "2024-06-15T15:02:24.785045Z",
     "start_time": "2024-06-15T15:02:20.422278Z"
    }
   },
   "source": [
    "# metody można łączyć\n",
    "name = input('Podaj swoje imię: ')\n",
    "name = name.strip().capitalize()\n",
    "print(f'Dzień dobry {name}')"
   ],
   "outputs": [
    {
     "name": "stdout",
     "output_type": "stream",
     "text": [
      "Dzień dobry Andrzej\n"
     ]
    }
   ],
   "execution_count": 15
  },
  {
   "cell_type": "markdown",
   "metadata": {},
   "source": [
    "## Lista\n",
    "\n",
    "Lista to jedna z kolekcji w Python. Lista jest typem reprezentującym uporządkowaną strukturę danych, która:\n",
    "- jest sekwencją\n",
    "- jest tworzona za pomocą nawiasów kwadratowych `[]` lub `list`\n",
    "- może przechowywać elementy różnych typów, elementy mogą się powtarzać\n",
    "- jest mutowalna, można zmieniać jej zawartość"
   ]
  },
  {
   "cell_type": "code",
   "metadata": {
    "ExecuteTime": {
     "end_time": "2024-06-15T15:02:26.385386Z",
     "start_time": "2024-06-15T15:02:26.381348Z"
    }
   },
   "source": [
    "empty_list = []\n",
    "print(empty_list)\n",
    "empty_list = list()\n",
    "print(empty_list)"
   ],
   "outputs": [
    {
     "name": "stdout",
     "output_type": "stream",
     "text": [
      "[]\n",
      "[]\n"
     ]
    }
   ],
   "execution_count": 16
  },
  {
   "cell_type": "code",
   "metadata": {
    "ExecuteTime": {
     "end_time": "2024-06-15T15:02:26.889088Z",
     "start_time": "2024-06-15T15:02:26.882829Z"
    }
   },
   "source": [
    "miscs = ['Python', 16, 3.14, True]\n",
    "print(len(miscs))\n",
    "\n",
    "# dodanie elementu na końcu listy\n",
    "miscs.append(None)\n",
    "print(miscs)\n",
    "miscs.append(['12'])\n",
    "miscs.extend(list('34'))\n",
    "print(miscs)\n",
    "\n",
    "# pobranie i usunięcie ostatniego elementu\n",
    "last = miscs.pop()\n",
    "print(last)\n",
    "print(miscs)"
   ],
   "outputs": [
    {
     "name": "stdout",
     "output_type": "stream",
     "text": [
      "4\n",
      "['Python', 16, 3.14, True, None]\n",
      "['Python', 16, 3.14, True, None, ['12'], '3', '4']\n",
      "4\n",
      "['Python', 16, 3.14, True, None, ['12'], '3']\n"
     ]
    }
   ],
   "execution_count": 17
  },
  {
   "cell_type": "code",
   "metadata": {
    "ExecuteTime": {
     "end_time": "2024-06-15T15:02:27.590997Z",
     "start_time": "2024-06-15T15:02:27.586750Z"
    }
   },
   "source": [
    "# wstawienie elementu na danej pozycji\n",
    "miscs.insert(0, 'big')\n",
    "miscs.insert(1, 'data')\n",
    "print(miscs)\n",
    "\n",
    "# usunięcie elementu\n",
    "miscs.remove('Python')\n",
    "print(miscs)"
   ],
   "outputs": [
    {
     "name": "stdout",
     "output_type": "stream",
     "text": [
      "['big', 'data', 'Python', 16, 3.14, True, None, ['12'], '3']\n",
      "['big', 'data', 16, 3.14, True, None, ['12'], '3']\n"
     ]
    }
   ],
   "execution_count": 18
  },
  {
   "cell_type": "code",
   "metadata": {
    "ExecuteTime": {
     "end_time": "2024-06-15T15:02:27.898477Z",
     "start_time": "2024-06-15T15:02:27.892894Z"
    }
   },
   "source": [
    "# modyfikacja elementu\n",
    "miscs[2] **= 2\n",
    "print(miscs)\n",
    "\n",
    "# odwrócenie listy\n",
    "miscs.reverse()\n",
    "print(miscs)"
   ],
   "outputs": [
    {
     "name": "stdout",
     "output_type": "stream",
     "text": [
      "['big', 'data', 256, 3.14, True, None, ['12'], '3']\n",
      "['3', ['12'], None, True, 3.14, 256, 'data', 'big']\n"
     ]
    }
   ],
   "execution_count": 19
  },
  {
   "cell_type": "code",
   "metadata": {
    "ExecuteTime": {
     "end_time": "2024-06-15T15:02:28.096871Z",
     "start_time": "2024-06-15T15:02:28.093155Z"
    }
   },
   "source": [
    "# wycinki\n",
    "print(miscs[2:4])\n",
    "print(miscs[:-3:-1])"
   ],
   "outputs": [
    {
     "name": "stdout",
     "output_type": "stream",
     "text": [
      "[None, True]\n",
      "['big', 'data']\n"
     ]
    }
   ],
   "execution_count": 20
  },
  {
   "cell_type": "code",
   "metadata": {
    "ExecuteTime": {
     "end_time": "2024-06-15T15:16:42.377928Z",
     "start_time": "2024-06-15T15:16:36.768230Z"
    }
   },
   "source": [
    "# listy mogą być wynikiem i parametrem różnych operacji\n",
    "name = input('Podaj imiona: ')\n",
    "names = name.split() # dzieli ciąg znaków na poszczególne wartości\n",
    "print(names)\n",
    "print(f'Witajcie {\", \".join(names)}')"
   ],
   "outputs": [
    {
     "name": "stdout",
     "output_type": "stream",
     "text": [
      "['Jan', 'Tomasz']\n",
      "Witajcie Jan, Tomasz\n"
     ]
    }
   ],
   "execution_count": 27
  },
  {
   "cell_type": "markdown",
   "metadata": {},
   "source": [
    "## Krotka\n",
    "\n",
    "Krotka jest typem reprezentującym kolekcję uporządkowaną, która:\n",
    "- jest sekwencją\n",
    "- jest tworzona za pomocą nawiasów okrągłych `()` (można je pominąć i przyjąć, że `,` tworzy krotkę) lub `tuple`\n",
    "- może przechowywać elementy różnych typów, elementy mogą się powtarzać\n",
    "- jest niemutowalna"
   ]
  },
  {
   "cell_type": "code",
   "metadata": {
    "ExecuteTime": {
     "end_time": "2024-06-15T15:16:46.373326Z",
     "start_time": "2024-06-15T15:16:46.369928Z"
    }
   },
   "source": [
    "empty_tuple = ()\n",
    "print(empty_tuple)\n",
    "empty_tuple = tuple()\n",
    "print(empty_tuple)"
   ],
   "outputs": [
    {
     "name": "stdout",
     "output_type": "stream",
     "text": [
      "()\n",
      "()\n"
     ]
    }
   ],
   "execution_count": 28
  },
  {
   "cell_type": "code",
   "metadata": {
    "ExecuteTime": {
     "end_time": "2024-06-15T15:16:46.745034Z",
     "start_time": "2024-06-15T15:16:46.740746Z"
    }
   },
   "source": [
    "# nawiasy nie są wymagane, szczególnym przypadkiem jest krotka jednoelementowa\n",
    "val = 1\n",
    "print(type(val))\n",
    "val = (1)\n",
    "print(type(val))\n",
    "val = 1,\n",
    "print(type(val))\n",
    "val = 1, 2\n",
    "print(type(val))\n",
    "val = (1,)\n",
    "print(type(val))\n",
    "val = ('value')\n",
    "print(type(val))"
   ],
   "outputs": [
    {
     "name": "stdout",
     "output_type": "stream",
     "text": [
      "<class 'int'>\n",
      "<class 'int'>\n",
      "<class 'tuple'>\n",
      "<class 'tuple'>\n",
      "<class 'tuple'>\n",
      "<class 'str'>\n"
     ]
    }
   ],
   "execution_count": 29
  },
  {
   "cell_type": "code",
   "metadata": {
    "ExecuteTime": {
     "end_time": "2024-06-15T15:16:47.071780Z",
     "start_time": "2024-06-15T15:16:47.068098Z"
    }
   },
   "source": [
    "miscs = 'Python', 16, 3.14, True\n",
    "print(len(miscs))\n",
    "miscs += 5,\n",
    "print(miscs)"
   ],
   "outputs": [
    {
     "name": "stdout",
     "output_type": "stream",
     "text": [
      "4\n",
      "('Python', 16, 3.14, True, 5)\n"
     ]
    }
   ],
   "execution_count": 30
  },
  {
   "cell_type": "markdown",
   "metadata": {},
   "source": [
    "## Typ bytes i bytearray"
   ]
  },
  {
   "cell_type": "markdown",
   "metadata": {},
   "source": [
    "Typy `bytes` i `bytearray` przeznaczone są do przechowywania tablic bajtów (wartości od 0 do 255). Typ `bytes` jest niemutowalny, `bytearray` pozwala na zmianę wartości."
   ]
  },
  {
   "cell_type": "code",
   "metadata": {
    "ExecuteTime": {
     "end_time": "2024-06-15T15:16:48.252540Z",
     "start_time": "2024-06-15T15:16:48.249001Z"
    }
   },
   "source": [
    "bytes_text = bytes('zażółć gęślą jaźń', 'utf-8')\n",
    "print(bytes_text)"
   ],
   "outputs": [
    {
     "name": "stdout",
     "output_type": "stream",
     "text": [
      "b'za\\xc5\\xbc\\xc3\\xb3\\xc5\\x82\\xc4\\x87 g\\xc4\\x99\\xc5\\x9bl\\xc4\\x85 ja\\xc5\\xba\\xc5\\x84'\n"
     ]
    }
   ],
   "execution_count": 31
  },
  {
   "cell_type": "code",
   "metadata": {
    "ExecuteTime": {
     "end_time": "2024-06-15T15:16:48.616064Z",
     "start_time": "2024-06-15T15:16:48.612492Z"
    }
   },
   "source": [
    "bytearray_text = bytearray('zażółć gęślą jaźń', 'utf-8')\n",
    "print(bytearray_text)\n",
    "bytearray_text[0] = ord('Z')\n",
    "print(bytearray_text.decode())"
   ],
   "outputs": [
    {
     "name": "stdout",
     "output_type": "stream",
     "text": [
      "bytearray(b'za\\xc5\\xbc\\xc3\\xb3\\xc5\\x82\\xc4\\x87 g\\xc4\\x99\\xc5\\x9bl\\xc4\\x85 ja\\xc5\\xba\\xc5\\x84')\n",
      "Zażółć gęślą jaźń\n"
     ]
    }
   ],
   "execution_count": 32
  },
  {
   "metadata": {},
   "cell_type": "code",
   "outputs": [],
   "execution_count": null,
   "source": ""
  }
 ],
 "metadata": {
  "kernelspec": {
   "display_name": "Python 3 (ipykernel)",
   "language": "python",
   "name": "python3"
  },
  "language_info": {
   "codemirror_mode": {
    "name": "ipython",
    "version": 3
   },
   "file_extension": ".py",
   "mimetype": "text/x-python",
   "name": "python",
   "nbconvert_exporter": "python",
   "pygments_lexer": "ipython3",
   "version": "3.11.7"
  }
 },
 "nbformat": 4,
 "nbformat_minor": 4
}
