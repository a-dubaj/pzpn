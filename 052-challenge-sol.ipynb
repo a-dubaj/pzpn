{
 "cells": [
  {
   "cell_type": "markdown",
   "metadata": {},
   "source": [
    "## Przykładowe rozwiązania\n",
    "\n",
    "1. Pobierz *Alice's Adventures in Wonderland* Lewis Carroll z [tego adresu](http://www.gutenberg.org/files/11/11-0.txt)\n",
    "1. Przeczytaj plik używając Pythona; zobacz [dokumentację](https://docs.python.org/3/tutorial/inputoutput.html)\n",
    "1. Zlicz wystąpienia liter w utworze (★ wykluczając nagłówek i stopkę w pliku)"
   ]
  },
  {
   "cell_type": "code",
   "execution_count": 1,
   "metadata": {},
   "outputs": [
    {
     "name": "stdout",
     "output_type": "stream",
     "text": [
      "--2024-09-20 15:19:36--  http://www.gutenberg.org/files/11/11-0.txt\n",
      "Resolving www.gutenberg.org (www.gutenberg.org)... 152.19.134.47, 2610:28:3090:3000:0:bad:cafe:47\n",
      "Connecting to www.gutenberg.org (www.gutenberg.org)|152.19.134.47|:80... connected.\n",
      "HTTP request sent, awaiting response... 302 Found\n",
      "Location: https://www.gutenberg.org/files/11/11-0.txt [following]\n",
      "--2024-09-20 15:19:36--  https://www.gutenberg.org/files/11/11-0.txt\n",
      "Connecting to www.gutenberg.org (www.gutenberg.org)|152.19.134.47|:443... connected.\n",
      "HTTP request sent, awaiting response... 200 OK\n",
      "Length: 154638 (151K) [text/plain]\n",
      "Saving to: ‘11-0.txt’\n",
      "\n",
      "11-0.txt            100%[===================>] 151,01K   323KB/s    in 0,5s    \n",
      "\n",
      "2024-09-20 15:19:37 (323 KB/s) - ‘11-0.txt’ saved [154638/154638]\n",
      "\n"
     ]
    }
   ],
   "source": [
    "# pobranie pliku z sieci\n",
    "!wget http://www.gutenberg.org/files/11/11-0.txt"
   ]
  },
  {
   "cell_type": "code",
   "execution_count": 2,
   "metadata": {},
   "outputs": [
    {
     "name": "stdout",
     "output_type": "stream",
     "text": [
      "{'S': 6520, 'T': 10740, 'A': 8834, 'R': 5478, 'O': 8171, 'F': 2005, 'H': 7399, 'E': 13640, 'P': 1545, 'J': 148, 'C': 2425, 'G': 2538, 'U': 3481, 'N': 7040, 'B': 1487, 'K': 1161, 'L': 4739, 'I': 7549, 'D': 4947, 'V': 855, 'W': 2680, 'Y': 2265, 'M': 2110, 'Q': 212, 'X': 152, 'Z': 78, 'Ù': 1}\n"
     ]
    }
   ],
   "source": [
    "# słownik do zliczania liter\n",
    "letters = dict()\n",
    "# analizujemy plik linia po linii\n",
    "with open(\"11-0.txt\") as file:\n",
    "    for line in file:\n",
    "        for char in line:\n",
    "            if not char.isalpha():\n",
    "                continue\n",
    "            char = char.upper()\n",
    "            if char in letters:\n",
    "                letters[char] += 1\n",
    "            else:\n",
    "                letters[char] = 1\n",
    "print(letters)"
   ]
  },
  {
   "cell_type": "code",
   "execution_count": 3,
   "metadata": {},
   "outputs": [
    {
     "name": "stdout",
     "output_type": "stream",
     "text": [
      "defaultdict(<function default_value at 0x782efd19b9c0>, {'S': 6520, 'T': 10740, 'A': 8834, 'R': 5478, 'O': 8171, 'F': 2005, 'H': 7399, 'E': 13640, 'P': 1545, 'J': 148, 'C': 2425, 'G': 2538, 'U': 3481, 'N': 7040, 'B': 1487, 'K': 1161, 'L': 4739, 'I': 7549, 'D': 4947, 'V': 855, 'W': 2680, 'Y': 2265, 'M': 2110, 'Q': 212, 'X': 152, 'Z': 78, 'Ù': 1})\n"
     ]
    }
   ],
   "source": [
    "# analogiczne rozwiązanie wykorzystujące defaultdict\n",
    "from collections import defaultdict\n",
    "\n",
    "# domyślna wartość\n",
    "def default_value():\n",
    "    return 0\n",
    "\n",
    "\n",
    "# słownik do zliczania liter z domyślną wartością\n",
    "letters = defaultdict(default_value) # lub = defaultdict(lambda: 0)\n",
    "# analizujemy plik linia po linii\n",
    "with open(\"11-0.txt\") as file:\n",
    "    for line in file:\n",
    "        for char in line:\n",
    "            if not char.isalpha():\n",
    "                continue\n",
    "            char = char.upper()\n",
    "            # nie ma potrzeby sprawdzania czy litera jest już w słowniku\n",
    "            letters[char] += 1\n",
    "print(letters)"
   ]
  },
  {
   "cell_type": "code",
   "execution_count": 4,
   "metadata": {},
   "outputs": [
    {
     "name": "stdout",
     "output_type": "stream",
     "text": [
      "{'W': 1, 'O': 1, 'N': 2, 'D': 2, 'E': 1, 'R': 1, 'L': 1, 'A': 1}\n"
     ]
    }
   ],
   "source": [
    "# słownik do zliczania liter\n",
    "letters = dict()\n",
    "# flaga wskazująca czy analizujemy tekst książki\n",
    "is_book = False\n",
    "# analizujemy plik linia po linii\n",
    "with open(\"11-0.txt\") as file:\n",
    "    for line in file:\n",
    "        # przełączenie flagi po napotkaniu znacznika nagłówka/końca książki\n",
    "        if line.startswith('*** '):\n",
    "            is_book = not is_book\n",
    "            continue\n",
    "        if not is_book:\n",
    "            continue\n",
    "        for char in line:\n",
    "            if not char.isalpha():\n",
    "                continue\n",
    "            char = char.upper()\n",
    "            if char in letters:\n",
    "                letters[char] += 1\n",
    "            else:\n",
    "                letters[char] = 1\n",
    "print(letters)"
   ]
  },
  {
   "cell_type": "markdown",
   "metadata": {},
   "source": [
    "1. Ile słów występuje w utworze?\n",
    "1. Zlicz wystąpienia unikalnych słów (skorzystaj z pakietu `re` i metody `findall`)\n",
    "1. Ile unikalnych słów występuje w utworze?\n",
    "1. Które słowo występuje najczęściej?\n",
    "1. Jakimi częściami tekstu (w procentach) jest kolejnych pięć najczęściej występujących słów?"
   ]
  },
  {
   "cell_type": "code",
   "execution_count": 5,
   "metadata": {},
   "outputs": [
    {
     "name": "stdout",
     "output_type": "stream",
     "text": [
      "26549\n"
     ]
    }
   ],
   "source": [
    "# zliczanie słów z użyciem split\n",
    "total_words = 0\n",
    "with open('11-0.txt') as file:\n",
    "    for line in file:\n",
    "        for word in line.strip().split():\n",
    "            total_words += 1\n",
    "print(total_words)"
   ]
  },
  {
   "cell_type": "code",
   "execution_count": 6,
   "metadata": {},
   "outputs": [
    {
     "name": "stdout",
     "output_type": "stream",
     "text": [
      "27463\n"
     ]
    }
   ],
   "source": [
    "import re\n",
    "# zliczanie słów\n",
    "total_words = 0\n",
    "with open(\"11-0.txt\") as file:\n",
    "    for line in file:\n",
    "        for word in re.findall(r'\\w+', line):\n",
    "            total_words += 1\n",
    "print(total_words)"
   ]
  },
  {
   "cell_type": "markdown",
   "metadata": {},
   "source": [
    "Metoda `split` nie radzi sobie z wyrażeniami w których użyte zostały znaki przystankowe (zostały one złączone ze słowami)."
   ]
  },
  {
   "cell_type": "code",
   "execution_count": 7,
   "metadata": {},
   "outputs": [
    {
     "name": "stdout",
     "output_type": "stream",
     "text": [
      "27463\n"
     ]
    }
   ],
   "source": [
    "import re\n",
    "# zliczanie słów bez dodatkowej pętli\n",
    "total_words = 0\n",
    "with open(\"11-0.txt\") as file:\n",
    "    for line in file:\n",
    "        total_words += len(re.findall(r'\\w+', line))\n",
    "print(total_words)"
   ]
  },
  {
   "cell_type": "code",
   "execution_count": 8,
   "metadata": {},
   "outputs": [
    {
     "name": "stdout",
     "output_type": "stream",
     "text": [
      "{'start': 1, 'of': 517, 'the': 1653, 'project': 2, 'gutenberg': 2, 'ebook': 2, 'alice': 400, 's': 202, 'adventures': 9, 'in': 371, 'wonderland': 5, 'illustration': 1, 'by': 59, 'lewis': 1, 'carroll': 1, 'millennium': 1, 'fulcrum': 1, 'edition': 1, '3': 1, '0': 1, 'contents': 1, 'chapter': 24, 'i': 524, 'down': 103, 'rabbit': 53, 'hole': 6, 'ii': 2, 'pool': 12, 'tears': 12, 'iii': 2, 'a': 637, 'caucus': 4, 'race': 7, 'and': 873, 'long': 33, 'tale': 5, 'iv': 2, 'sends': 2, 'little': 127, 'bill': 18, 'v': 2, 'advice': 3, 'from': 37, 'caterpillar': 29, 'vi': 2, 'pig': 12, 'pepper': 9, 'vii': 2, 'mad': 16, 'tea': 20, 'party': 11, 'viii': 2, 'queen': 76, 'croquet': 10, 'ground': 9, 'ix': 2, 'mock': 57, 'turtle': 59, 'story': 9, 'x': 2, 'lobster': 8, 'quadrille': 5, 'xi': 2, 'who': 64, 'stole': 3, 'tarts': 8, 'xii': 2, 'evidence': 8, 'was': 352, 'beginning': 14, 'to': 729, 'get': 46, 'very': 130, 'tired': 7, 'sitting': 10, 'her': 247, 'sister': 9, 'on': 193, 'bank': 3, 'having': 10, 'nothing': 34, 'do': 80, 'once': 34, 'or': 77, 'twice': 5, 'she': 549, 'had': 178, 'peeped': 3, 'into': 67, 'book': 11, 'reading': 3, 'but': 170, 'it': 592, 'no': 89, 'pictures': 4, 'conversations': 2, 'what': 134, 'is': 100, 'use': 18, 'thought': 74, 'without': 26, 'so': 152, 'considering': 3, 'own': 10, 'mind': 11, 'as': 263, 'well': 63, 'could': 74, 'for': 153, 'hot': 7, 'day': 29, 'made': 30, 'feel': 8, 'sleepy': 5, 'stupid': 6, 'whether': 11, 'pleasure': 2, 'making': 8, 'daisy': 1, 'chain': 1, 'would': 78, 'be': 148, 'worth': 4, 'trouble': 6, 'getting': 22, 'up': 100, 'picking': 2, 'daisies': 1, 'when': 79, 'suddenly': 13, 'white': 30, 'with': 180, 'pink': 1, 'eyes': 29, 'ran': 16, 'close': 13, 'there': 98, '_very_': 14, 'remarkable': 2, 'that': 300, 'nor': 3, 'did': 63, 'think': 49, 'much': 51, 'out': 117, 'way': 56, 'hear': 14, 'say': 51, 'itself': 14, 'oh': 45, 'dear': 29, 'shall': 25, 'late': 6, 'over': 40, 'afterwards': 2, 'occurred': 2, 'ought': 14, 'have': 76, 'wondered': 1, 'at': 211, 'this': 131, 'time': 71, 'all': 179, 'seemed': 27, 'quite': 53, 'natural': 4, 'actually': 1, '_took': 1, 'watch': 8, 'its': 57, 'waistcoat': 2, 'pocket_': 1, 'looked': 45, 'then': 93, 'hurried': 11, 'started': 2, 'feet': 19, 'flashed': 1, 'across': 5, 'never': 46, 'before': 37, 'seen': 15, 'either': 10, 'pocket': 6, 'take': 22, 'burning': 1, 'curiosity': 5, 'field': 1, 'after': 43, 'fortunately': 1, 'just': 52, 'see': 67, 'pop': 1, 'large': 33, 'under': 16, 'hedge': 2, 'another': 22, 'moment': 31, 'went': 83, 'how': 67, 'world': 7, 'again': 83, 'straight': 2, 'like': 85, 'tunnel': 1, 'some': 50, 'dipped': 2, 'not': 138, 'about': 94, 'stopping': 1, 'herself': 83, 'found': 32, 'falling': 2, 'deep': 7, 'fell': 6, 'slowly': 8, 'plenty': 1, 'look': 29, 'wonder': 18, 'going': 27, 'happen': 8, 'next': 30, 'first': 51, 'tried': 19, 'make': 27, 'coming': 9, 'too': 26, 'dark': 3, 'anything': 20, 'sides': 4, 'noticed': 8, 'they': 151, 'were': 85, 'filled': 3, 'cupboards': 2, 'shelves': 2, 'here': 49, 'saw': 14, 'maps': 1, 'hung': 1, 'upon': 26, 'pegs': 1, 'took': 23, 'jar': 2, 'one': 101, 'passed': 5, 'labelled': 1, 'orange': 1, 'marmalade': 1, 'great': 39, 'disappointment': 1, 'empty': 1, 'drop': 1, 'fear': 4, 'killing': 1, 'somebody': 6, 'underneath': 2, 'managed': 4, 'put': 31, 'past': 3, 'such': 41, 'fall': 7, 'tumbling': 2, 'stairs': 3, 'brave': 1, 'll': 56, 'me': 64, 'home': 5, 'why': 40, 'wouldn': 13, 't': 217, 'even': 18, 'if': 96, 'off': 73, 'top': 8, 'house': 18, 'which': 49, 'likely': 5, 'true': 3, '_never_': 2, 'come': 46, 'an': 57, 'end': 19, 'many': 12, 'miles': 3, 've': 43, 'fallen': 4, 'said': 460, 'aloud': 5, 'must': 41, 'somewhere': 2, 'near': 15, 'centre': 1, 'earth': 4, 'let': 22, 'four': 8, 'thousand': 2, 'you': 396, 'learnt': 2, 'several': 4, 'things': 31, 'sort': 20, 'lessons': 10, 'schoolroom': 1, 'though': 11, 'good': 27, 'opportunity': 8, 'showing': 2, 'knowledge': 3, 'listen': 7, 'still': 13, 'practice': 1, 'yes': 13, 'right': 32, 'distance': 8, 'latitude': 2, 'longitude': 2, 'got': 45, 'idea': 15, 'nice': 6, 'grand': 3, 'words': 21, 'presently': 2, 'began': 57, '_through_': 1, 'funny': 3, 'seem': 8, 'among': 12, 'people': 13, 'walk': 5, 'their': 51, 'heads': 10, 'downward': 1, 'antipathies': 1, 'rather': 25, 'glad': 11, '_was_': 5, 'listening': 3, 'didn': 14, 'sound': 4, 'word': 10, 'ask': 11, 'them': 88, 'name': 10, 'country': 1, 'know': 87, 'please': 18, 'ma': 3, 'am': 16, 'new': 5, 'zealand': 1, 'australia': 1, 'curtsey': 1, 'spoke': 17, 'fancy': 7, '_curtseying_': 1, 're': 38, 'through': 13, 'air': 15, 'manage': 7, 'ignorant': 1, 'girl': 4, 'asking': 5, 'perhaps': 17, 'written': 6, 'else': 12, 'soon': 25, 'talking': 17, 'dinah': 14, 'miss': 4, 'night': 5, 'should': 27, 'cat': 37, 'hope': 3, 'remember': 14, 'saucer': 1, 'milk': 2, 'my': 58, 'wish': 21, 'are': 50, 'mice': 4, 'm': 60, 'afraid': 12, 'might': 28, 'catch': 4, 'bat': 3, 'mouse': 44, 'cats': 13, 'eat': 18, 'bats': 4, 'saying': 15, 'dreamy': 1, 'sometimes': 5, 'couldn': 9, 'answer': 9, 'question': 17, 'matter': 9, 'felt': 23, 'dozing': 1, 'begun': 7, 'dream': 7, 'walking': 5, 'hand': 21, 'earnestly': 2, 'now': 60, 'tell': 32, 'truth': 1, 'ever': 20, 'thump': 2, 'came': 40, 'heap': 1, 'sticks': 1, 'dry': 8, 'leaves': 6, 'bit': 16, 'hurt': 3, 'jumped': 6, 'overhead': 1, 'passage': 4, 'sight': 10, 'hurrying': 1, 'lost': 3, 'away': 25, 'wind': 2, 'turned': 16, 'corner': 4, 'ears': 5, 'whiskers': 3, 'behind': 13, 'longer': 3, 'low': 15, 'hall': 9, 'lit': 1, 'row': 2, 'lamps': 1, 'hanging': 3, 'roof': 6, 'doors': 2, 'round': 41, 'locked': 1, 'been': 38, 'side': 17, 'other': 40, 'trying': 14, 'every': 12, 'door': 30, 'walked': 10, 'sadly': 5, 'middle': 7, 'wondering': 7, 'three': 28, 'legged': 2, 'table': 18, 'solid': 1, 'glass': 10, 'except': 4, 'tiny': 4, 'golden': 7, 'key': 9, 'belong': 1, 'alas': 4, 'locks': 2, 'small': 10, 'any': 39, 'rate': 9, 'open': 7, 'however': 20, 'second': 4, 'curtain': 1, 'fifteen': 1, 'inches': 6, 'high': 16, 'lock': 1, 'delight': 3, 'fitted': 1, 'opened': 10, 'led': 4, 'larger': 7, 'than': 24, 'rat': 1, 'knelt': 1, 'along': 6, 'loveliest': 1, 'garden': 15, 'longed': 2, 'wander': 1, 'those': 10, 'beds': 2, 'bright': 8, 'flowers': 2, 'cool': 2, 'fountains': 2, 'head': 50, 'doorway': 1, 'go': 50, 'poor': 27, 'shoulders': 4, 'shut': 5, 'telescope': 3, 'only': 50, 'knew': 15, 'begin': 13, 'happened': 7, 'lately': 1, 'few': 9, 'indeed': 16, 'really': 13, 'impossible': 3, 'waiting': 9, 'back': 39, 'half': 23, 'hoping': 3, 'find': 21, 'rules': 3, 'shutting': 2, 'telescopes': 1, 'bottle': 10, 'certainly': 14, 'neck': 7, 'paper': 4, 'label': 2, 'drink': 7, 'beautifully': 2, 'printed': 1, 'letters': 1, 'wise': 2, '_that_': 11, 'hurry': 11, 'marked': 6, '_poison_': 1, 'read': 11, 'histories': 1, 'children': 10, 'burnt': 1, 'eaten': 1, 'wild': 2, 'beasts': 2, 'unpleasant': 2, 'because': 15, '_would_': 5, 'simple': 5, 'friends': 2, 'taught': 4, 'red': 2, 'poker': 1, 'will': 30, 'burn': 2, 'hold': 10, 'cut': 5, 'your': 55, 'finger': 5, 'deeply': 4, 'knife': 3, 'usually': 2, 'bleeds': 1, 'forgotten': 6, 'poison': 2, 'almost': 6, 'certain': 3, 'disagree': 1, 'sooner': 2, 'later': 3, '_not_': 6, 'ventured': 4, 'taste': 2, 'finding': 3, 'fact': 8, 'mixed': 2, 'flavour': 1, 'cherry': 1, 'tart': 1, 'custard': 1, 'pine': 1, 'apple': 1, 'roast': 1, 'turkey': 1, 'toffee': 1, 'buttered': 1, 'toast': 1, 'finished': 12, 'curious': 19, 'feeling': 7, 'ten': 6, 'face': 15, 'brightened': 2, 'size': 13, 'lovely': 2, 'waited': 11, 'minutes': 11, 'shrink': 1, 'further': 3, 'nervous': 5, 'altogether': 5, 'candle': 3, 'flame': 1, 'blown': 1, 'thing': 49, 'while': 25, 'more': 48, 'decided': 3, 'possibly': 3, 'reach': 4, 'plainly': 1, 'best': 10, 'climb': 1, 'legs': 3, 'slippery': 1, 'sat': 17, 'cried': 20, 'crying': 2, 'sharply': 4, 'advise': 1, 'leave': 9, 'minute': 21, 'generally': 7, 'gave': 15, 'seldom': 1, 'followed': 8, 'scolded': 1, 'severely': 4, 'bring': 3, 'remembered': 5, 'box': 10, 'cheated': 1, 'game': 13, 'playing': 2, 'against': 9, 'child': 11, 'fond': 4, 'pretending': 1, 'two': 38, 'pretend': 1, 'hardly': 12, 'enough': 18, 'left': 14, '_one_': 3, 'respectable': 1, 'person': 4, 'eye': 7, 'lying': 8, 'cake': 3, 'currants': 1, 'makes': 11, 'grow': 13, 'can': 59, 'smaller': 3, 'creep': 1, 'don': 60, 'care': 4, 'happens': 5, 'ate': 1, 'anxiously': 14, 'holding': 3, 'growing': 11, 'surprised': 7, 'remained': 3, 'same': 24, 'sure': 24, 'eats': 1, 'expecting': 3, 'dull': 3, 'life': 12, 'common': 1, 'set': 14, 'work': 8, 'curiouser': 2, 'forgot': 2, 'speak': 15, 'english': 6, 'opening': 3, 'largest': 1, 'bye': 2, 'far': 13, 'shoes': 6, 'stockings': 1, 'dears': 3, '_i_': 15, 'shan': 6, 'able': 1, 'deal': 12, 'myself': 6, 'kind': 7, 'won': 26, 'want': 9, 'give': 12, 'pair': 5, 'boots': 4, 'christmas': 1, 'planning': 1, 'carrier': 1, 'sending': 2, 'presents': 2, 'odd': 1, 'directions': 3, '_alice': 1, 'foot': 10, 'esq': 1, 'hearthrug': 1, 'fender': 1, '_': 14, '_with': 1, 'love_': 1, 'nonsense': 7, 'struck': 2, 'nine': 5, 'hopeless': 1, 'cry': 3, 'ashamed': 2, 'yourself': 10, 'stop': 6, 'shedding': 1, 'gallons': 1, 'until': 5, 'reaching': 1, 'heard': 30, 'pattering': 3, 'hastily': 16, 'dried': 1, 'returning': 1, 'splendidly': 1, 'dressed': 1, 'kid': 5, 'gloves': 11, 'fan': 10, 'he': 122, 'trotting': 2, 'muttering': 3, 'himself': 6, 'duchess': 42, 'savage': 4, 'kept': 13, 'desperate': 1, 'ready': 8, 'help': 9, 'timid': 3, 'voice': 48, 'sir': 7, 'violently': 4, 'dropped': 5, 'skurried': 1, 'darkness': 1, 'hard': 8, 'fanning': 1, 'queer': 12, 'everything': 14, 'yesterday': 3, 'usual': 5, 'changed': 8, 'morning': 5, 'different': 9, 'ah': 5, '_that': 4, 's_': 4, 'puzzle': 1, 'thinking': 11, 'age': 4, 'ada': 1, 'hair': 7, 'goes': 7, 'ringlets': 2, 'mine': 8, 'doesn': 16, 'mabel': 4, 'sorts': 3, 'knows': 2, 'besides': 4, '_she': 1, '_i': 7, 'm_': 3, 'puzzling': 4, 'try': 12, 'used': 13, 'times': 6, 'five': 8, 'twelve': 4, 'six': 2, 'thirteen': 1, 'seven': 6, 'twenty': 3, 'multiplication': 1, 'signify': 1, 'geography': 1, 'london': 1, 'capital': 4, 'paris': 2, 'rome': 2, 'wrong': 5, '_how': 1, 'doth': 3, 'little_': 1, 'crossed': 3, 'hands': 12, 'lap': 2, 'repeat': 7, 'sounded': 5, 'hoarse': 3, 'strange': 5, 'crocodile': 1, 'improve': 1, 'his': 95, 'shining': 1, 'tail': 9, 'pour': 1, 'waters': 1, 'nile': 1, 'scale': 1, 'cheerfully': 1, 'seems': 5, 'grin': 6, 'neatly': 2, 'spread': 3, 'claws': 2, 'welcome': 1, 'fishes': 1, 'gently': 3, 'smiling': 2, 'jaws': 2, 'live': 8, 'poky': 1, 'toys': 1, 'play': 8, 'learn': 7, 'stay': 5, 'putting': 3, 'being': 19, 'till': 21, 'sudden': 5, 'burst': 1, 'alone': 4, '_can_': 4, 'done': 15, 'measure': 1, 'nearly': 11, 'guess': 3, 'shrinking': 4, 'rapidly': 2, 'cause': 3, 'avoid': 1, 'narrow': 2, 'escape': 4, 'frightened': 7, 'change': 14, 'existence': 1, 'speed': 1, 'worse': 3, 'declare': 2, 'bad': 2, 'these': 13, 'slipped': 3, 'splash': 1, 'chin': 7, 'salt': 2, 'water': 5, 'somehow': 1, 'sea': 14, 'case': 5, 'railway': 2, 'seaside': 1, 'general': 3, 'conclusion': 2, 'wherever': 2, 'coast': 1, 'number': 5, 'bathing': 1, 'machines': 1, 'digging': 4, 'sand': 1, 'wooden': 1, 'spades': 1, 'lodging': 1, 'houses': 1, 'station': 1, 'wept': 1, 'hadn': 8, 'swam': 5, 'punished': 1, 'suppose': 14, 'drowned': 1, '_will_': 3, 'something': 17, 'splashing': 2, 'nearer': 5, 'walrus': 1, 'hippopotamus': 1, 'talk': 14, 'harm': 1, 'o': 6, 'swimming': 2, 'speaking': 5, 'brother': 1, 'latin': 1, 'grammar': 1, 'inquisitively': 1, 'wink': 2, 'understand': 6, 'daresay': 1, 'french': 4, 'william': 6, 'conqueror': 2, 'history': 7, 'clear': 2, 'notion': 3, 'ago': 2, 'où': 1, 'est': 1, 'chatte': 1, 'sentence': 6, 'lesson': 3, 'leap': 1, 'quiver': 1, 'fright': 2, 'beg': 7, 'pardon': 6, 'animal': 2, 'feelings': 2, 'shrill': 5, 'passionate': 1, '_you_': 9, 'soothing': 1, 'tone': 40, 'angry': 5, 'yet': 24, 'show': 3, 'our': 8, 'd': 28, 'quiet': 2, 'lazily': 1, 'sits': 1, 'purring': 2, 'nicely': 2, 'fire': 4, 'licking': 1, 'paws': 4, 'washing': 2, 'soft': 1, 'nurse': 3, 'catching': 2, 'bristling': 1, 'offended': 10, 'we': 33, 'trembling': 6, 'subject': 6, 'family': 1, 'always': 13, '_hated_': 1, 'nasty': 1, 'vulgar': 1, 'conversation': 9, 'dogs': 3, 'eagerly': 8, 'dog': 3, 'eyed': 1, 'terrier': 1, 'curly': 1, 'brown': 2, 'fetch': 7, 'throw': 3, 'sit': 7, 'dinner': 2, 'belongs': 2, 'farmer': 1, 'says': 4, 'useful': 2, 'hundred': 1, 'pounds': 1, 'kills': 1, 'rats': 1, 'sorrowful': 2, 'commotion': 1, 'called': 15, 'softly': 1, 'pale': 4, 'passion': 3, 'us': 14, 'shore': 4, 'hate': 2, 'crowded': 5, 'birds': 10, 'animals': 4, 'duck': 4, 'dodo': 13, 'lory': 7, 'eaglet': 3, 'creatures': 10, 'whole': 13, 'looking': 32, 'assembled': 2, 'draggled': 1, 'feathers': 1, 'fur': 3, 'clinging': 1, 'dripping': 1, 'wet': 2, 'cross': 3, 'uncomfortable': 4, 'course': 26, 'consultation': 1, 'familiarly': 1, 'known': 1, 'argument': 4, 'last': 33, 'sulky': 3, 'older': 2, 'better': 14, 'allow': 3, 'knowing': 2, 'old': 19, 'positively': 1, 'refused': 1, 'authority': 2, 'll_': 1, 'ring': 2, 'fixed': 1, 'cold': 1, 'ahem': 1, 'important': 7, 'driest': 1, 'silence': 14, 'whose': 2, 'favoured': 1, 'pope': 1, 'submitted': 1, 'wanted': 4, 'leaders': 1, 'accustomed': 1, 'usurpation': 1, 'conquest': 1, 'edwin': 2, 'morcar': 2, 'earls': 2, 'mercia': 2, 'northumbria': 2, 'ugh': 2, 'shiver': 1, 'frowning': 4, 'politely': 6, 'proceed': 2, 'declared': 1, 'him': 42, 'stigand': 1, 'patriotic': 1, 'archbishop': 2, 'canterbury': 1, 'advisable': 2, '_what_': 3, '_it_': 2, 'replied': 29, 'crossly': 1, 'means': 5, 'frog': 3, 'worm': 1, 'notice': 5, 'hurriedly': 2, 'edgar': 1, 'atheling': 1, 'meet': 2, 'offer': 2, 'crown': 3, 'conduct': 1, 'moderate': 1, 'insolence': 1, 'normans': 1, 'continued': 9, 'turning': 12, 'melancholy': 6, 'solemnly': 4, 'rising': 1, 'move': 3, 'meeting': 1, 'adjourn': 1, 'immediate': 1, 'adoption': 1, 'energetic': 1, 'remedies': 1, 'meaning': 8, 'believe': 9, 'bent': 1, 'hide': 1, 'smile': 2, 'tittered': 1, 'audibly': 1, '_is_': 8, 'paused': 1, '_somebody_': 1, 'inclined': 1, 'explain': 10, 'winter': 1, 'circle': 1, 'exact': 1, 'shape': 1, 'placed': 1, 'running': 8, 'liked': 6, 'easy': 2, 'hour': 2, 'panting': 2, 'has': 7, 'pressed': 3, 'forehead': 2, 'position': 2, 'shakespeare': 1, 'rest': 10, '_everybody_': 1, 'prizes': 5, 'chorus': 6, 'voices': 3, 'asked': 17, '_she_': 3, 'pointing': 4, 'calling': 1, 'confused': 4, 'despair': 1, 'pulled': 1, 'comfits': 2, 'luckily': 2, 'handed': 3, 'exactly': 8, 'piece': 6, 'prize': 1, 'gravely': 3, 'thimble': 4, 'presented': 1, 'acceptance': 1, 'elegant': 1, 'short': 4, 'speech': 3, 'cheered': 3, 'absurd': 2, 'grave': 3, 'dare': 5, 'laugh': 1, 'simply': 3, 'bowed': 4, 'solemn': 3, 'caused': 2, 'noise': 3, 'confusion': 5, 'complained': 1, 'theirs': 1, 'ones': 1, 'choked': 3, 'patted': 1, 'begged': 1, 'promised': 1, 'c': 1, 'added': 23, 'whisper': 3, 'sad': 3, 'sighing': 3, 'call': 9, 'fury': 3, 'met': 3, 'both': 14, 'law': 2, 'prosecute': 1, 'denial': 1, 'trial': 10, 'cur': 1, 'jury': 22, 'judge': 4, 'wasting': 2, 'breath': 4, 'cunning': 1, 'condemn': 1, 'death': 1, 'attending': 3, 'humbly': 2, 'fifth': 1, 'bend': 2, '_not': 1, 'angrily': 9, 'knot': 2, 'undo': 1, 'insult': 1, 'mean': 10, 'pleaded': 3, 'easily': 3, 'growled': 1, 'reply': 5, 'finish': 5, 'others': 7, 'joined': 3, 'shook': 9, 'impatiently': 5, 'quicker': 1, 'pity': 3, 'sighed': 5, 'crab': 3, 'daughter': 1, 'lose': 1, '_your_': 7, 'temper': 5, 'tongue': 4, 'young': 5, 'snappishly': 1, 'patience': 1, 'oyster': 1, 'addressing': 1, 'nobody': 8, 'particular': 4, 'venture': 3, 'pet': 1, 'bird': 2, 'sensation': 2, 'magpie': 1, 'wrapping': 1, 'carefully': 3, 'remarking': 3, 'suit': 3, 'throat': 2, 'canary': 1, 'bed': 1, 'various': 1, 'pretexts': 1, 'moved': 5, 'mentioned': 3, 'lonely': 2, 'spirited': 1, 'footsteps': 2, 'executed': 6, 'ferrets': 2, 'where': 15, 'guessed': 3, 'naturedly': 1, 'hunting': 3, 'nowhere': 2, 'since': 4, 'swim': 4, 'vanished': 4, 'completely': 1, 'mary': 4, 'ann': 4, '_are_': 4, 'doing': 5, 'run': 4, 'quick': 2, 'direction': 5, 'pointed': 1, 'mistake': 3, 'housemaid': 1, 'finds': 1, 'neat': 1, 'brass': 1, 'plate': 3, 'w': 1, 'engraved': 1, 'knocking': 3, 'upstairs': 1, 'lest': 1, 'real': 3, 'messages': 2, 'fancying': 1, 'directly': 2, 'ordering': 2, 'tidy': 1, 'room': 13, 'window': 8, 'hoped': 1, 'pairs': 1, 'stood': 7, 'nevertheless': 1, 'uncorked': 1, 'lips': 1, '_something_': 1, 'interesting': 5, 'whenever': 1, 'does': 9, 'expected': 1, 'drunk': 2, 'pressing': 1, 'ceiling': 1, 'stoop': 2, 'save': 1, 'broken': 6, 'kneel': 1, 'floor': 3, 'effect': 3, 'elbow': 3, 'arm': 15, 'curled': 2, 'resource': 1, 'chimney': 6, 'whatever': 2, 'become': 5, 'magic': 1, 'full': 6, 'grew': 1, 'chance': 4, 'unhappy': 2, 'pleasanter': 1, 'wasn': 11, 'ordered': 4, 'rabbits': 1, 'gone': 13, 'fairy': 1, 'tales': 1, 'fancied': 2, 'write': 6, 'grown': 7, 'least': 9, '_here_': 2, 'comfort': 1, 'woman': 2, 'shouldn': 5, 'foolish': 1, 'answered': 4, 'books': 2, 'taking': 5, 'outside': 3, 'stopped': 3, 'trembled': 2, 'forgetting': 3, 'reason': 9, 'inwards': 1, 'attempt': 1, 'proved': 2, 'failure': 1, 'snatch': 2, 'shriek': 5, 'crash': 3, 'concluded': 2, 'possible': 1, 'cucumber': 2, 'frame': 1, 'pat': 3, 'apples': 2, 'yer': 4, 'honour': 4, '_this': 1, 'sounds': 4, 'pronounced': 1, 'arrum': 1, 'goose': 2, 'fills': 1, 'business': 7, 'whispers': 1, 'coward': 1, '_two_': 1, 'shrieks': 1, 'frames': 1, 'pulling': 1, '_could': 1, 'hearing': 4, 'rumbling': 1, 'cartwheels': 1, 'together': 9, 'ladder': 1, 'lad': 1, 'em': 3, 'tie': 1, 'rope': 1, 'bear': 2, 'loose': 1, 'slate': 4, 'below': 3, 'loud': 6, 'nay': 1, 'master': 4, 'shy': 1, 'place': 8, 'fireplace': 1, '_think_': 4, 'kick': 3, 'drew': 5, 'scratching': 1, 'scrambling': 1, 'above': 3, 'sharp': 6, 'brandy': 1, 'choke': 1, 'fellow': 4, 'feeble': 2, 'squeaking': 2, 'thank': 4, 'ye': 1, 'flustered': 1, 'comes': 2, 'jack': 1, 'sky': 5, 'rocket': 1, 'dead': 4, 'instantly': 5, 'sense': 3, 'moving': 3, 'barrowful': 2, '_what': 4, 'doubt': 4, 'shower': 2, 'pebbles': 2, 'rattling': 2, 'hit': 2, 'shouted': 9, 'produced': 1, 'surprise': 5, 'cakes': 3, 'lay': 4, '_some_': 1, 'swallowed': 1, 'delighted': 2, 'crowd': 4, 'lizard': 6, 'held': 4, 'guinea': 6, 'pigs': 6, 'giving': 2, 'rush': 2, 'appeared': 8, 'safe': 2, 'thick': 1, 'wood': 8, 'wandered': 2, 'plan': 4, 'excellent': 2, 'arranged': 1, 'difficulty': 4, 'smallest': 2, 'peering': 1, 'trees': 7, 'bark': 2, 'enormous': 1, 'puppy': 7, 'feebly': 1, 'stretching': 2, 'paw': 3, 'touch': 1, 'coaxing': 2, 'whistle': 1, 'terribly': 1, 'hungry': 3, 'spite': 1, 'picked': 3, 'stick': 4, 'whereupon': 1, 'yelp': 1, 'rushed': 1, 'worry': 1, 'dodged': 1, 'thistle': 2, 'keep': 11, 'tumbled': 1, 'heels': 1, 'cart': 1, 'horse': 1, 'trampled': 1, 'series': 1, 'charges': 1, 'forwards': 1, 'each': 8, 'barking': 1, 'hoarsely': 1, 'mouth': 10, 'faint': 1, 'leant': 1, 'buttercup': 1, 'fanned': 1, 'teaching': 1, 'tricks': 1, 'blades': 1, 'grass': 4, 'circumstances': 1, 'mushroom': 8, 'height': 5, 'stretched': 2, 'tiptoe': 2, 'edge': 3, 'immediately': 3, 'blue': 1, 'arms': 6, 'folded': 3, 'quietly': 5, 'smoking': 2, 'hookah': 5, 'addressed': 2, 'languid': 1, '_you': 5, 'encouraging': 2, 'shyly': 1, 'present': 3, 'sternly': 1, '_myself_': 1, 'clearly': 1, 'sizes': 1, 'confusing': 3, 'isn': 7, 'haven': 8, 'turn': 11, 'chrysalis': 1, 'butterfly': 1, 'may': 13, '_me_': 4, 'contemptuously': 2, 'brought': 3, 'irritated': 1, 'remarks': 3, 'state': 1, 'promising': 1, 'swallowing': 1, 'anger': 2, 'wait': 1, 'puffed': 1, 'unfolded': 2, 'busy': 2, 'bee': 1, 'father': 6, 'william_': 2, 'man': 5, 'incessantly': 1, 'stand': 6, 'youth': 6, 'son': 1, 'feared': 1, 'injure': 1, 'brain': 1, 'perfectly': 4, 'none': 4, 'most': 8, 'uncommonly': 1, 'fat': 1, 'somersault': 2, 'pray': 3, 'sage': 1, 'grey': 1, 'limbs': 1, 'supple': 1, 'ointment': 1, 'shilling': 1, 'sell': 2, 'couple': 1, 'weak': 2, 'tougher': 1, 'suet': 1, 'bones': 1, 'beak': 1, 'argued': 1, 'wife': 1, 'muscular': 1, 'strength': 1, 'jaw': 1, 'lasted': 2, 'steady': 1, 'balanced': 1, 'eel': 2, 'nose': 8, 'awfully': 1, 'clever': 2, 'questions': 4, 'airs': 1, 'stuff': 4, '_quite_': 2, 'timidly': 9, 'altered': 1, 'decidedly': 4, 'changing': 2, 'often': 5, '_don': 1, 't_': 1, 'contradicted': 1, 'losing': 1, 'content': 1, '_little_': 1, 'wretched': 2, 'rearing': 1, 'upright': 1, 'piteous': 1, 'patiently': 2, 'chose': 2, 'yawned': 2, 'crawled': 1, 'merely': 2, 'taller': 2, 'shorter': 2, 'thoughtfully': 4, 'difficult': 2, 'broke': 2, 'nibbled': 2, 'violent': 2, 'blow': 2, 'closely': 1, 'swallow': 1, 'morsel': 1, 'lefthand': 2, 'free': 3, 'alarm': 2, 'immense': 1, 'length': 1, 'rise': 1, 'stalk': 1, 'green': 4, '_have_': 4, 'result': 1, 'follow': 2, 'shaking': 3, 'distant': 2, 'serpent': 9, 'succeeded': 3, 'curving': 1, 'graceful': 1, 'zigzag': 1, 'dive': 1, 'tops': 1, 'wandering': 2, 'hiss': 1, 'draw': 7, 'pigeon': 12, 'flown': 1, 'beating': 2, 'wings': 1, 'screamed': 4, 'indignantly': 4, 'repeated': 10, 'subdued': 1, 'sob': 1, 'roots': 2, 'banks': 1, 'hedges': 1, 'serpents': 3, 'pleasing': 1, 'puzzled': 9, 'hatching': 1, 'eggs': 5, 'sleep': 6, 'weeks': 1, 'sorry': 1, 'annoyed': 1, 'taken': 4, 'highest': 1, 'tree': 9, 'raising': 1, 'needs': 1, 'wriggling': 1, 'invent': 1, 'doubtfully': 2, 'changes': 2, 'deepest': 1, 'contempt': 1, 'girls': 3, 'denying': 1, 'telling': 2, 'tasted': 3, 'egg': 1, 'truthful': 1, 'silent': 7, 'adding': 1, 'matters': 2, '_yours_': 1, 'raw': 1, 'settled': 3, 'nest': 1, 'crouched': 1, 'entangled': 2, 'branches': 2, 'untwist': 1, 'pieces': 3, 'nibbling': 3, 'bringing': 3, 'beautiful': 13, 'whoever': 1, 'lives': 4, '_this_': 2, 'frighten': 1, 'wits': 1, 'righthand': 1, 'footman': 14, 'livery': 3, 'considered': 3, 'otherwise': 4, 'judging': 1, 'fish': 8, 'rapped': 1, 'loudly': 3, 'knuckles': 1, 'footmen': 1, 'powdered': 1, 'crept': 1, 'producing': 1, 'letter': 3, 'invitation': 2, 'order': 3, 'curls': 1, 'laughed': 2, 'staring': 3, 'stupidly': 1, 'knocked': 1, 'reasons': 1, 'secondly': 2, 'inside': 1, 'extraordinary': 2, 'within': 2, 'constant': 2, 'howling': 3, 'sneezing': 6, 'dish': 4, 'kettle': 1, 'between': 6, 'instance': 3, '_inside_': 1, 'knock': 1, 'uncivil': 1, 'remarked': 10, 'tomorrow': 1, 'skimming': 1, 'grazed': 1, 'maybe': 2, 'louder': 1, 'told': 6, 'dreadful': 2, 'muttered': 2, 'argue': 1, 'drive': 2, 'crazy': 1, 'repeating': 3, 'remark': 10, 'variations': 1, 'days': 4, 'whistling': 1, 'desperately': 1, 'idiotic': 1, 'kitchen': 4, 'smoke': 1, 'stool': 1, 'nursing': 3, 'baby': 14, 'cook': 13, 'leaning': 2, 'stirring': 2, 'cauldron': 2, 'soup': 17, 'sneezed': 1, 'occasionally': 1, 'alternately': 1, 'pause': 2, 'sneeze': 2, 'hearth': 1, 'grinning': 1, 'ear': 6, 'manners': 1, 'grins': 1, 'cheshire': 7, 'violence': 1, 'courage': 3, 'grinned': 3, '_could_': 2, 'pleased': 7, 'introduce': 2, 'fix': 1, 'throwing': 2, 'irons': 1, 'saucepans': 1, 'plates': 2, 'dishes': 2, 'already': 2, 'blows': 1, '_please_': 1, 'jumping': 4, 'agony': 1, 'terror': 1, '_precious_': 1, 'unusually': 1, 'saucepan': 1, 'flew': 1, 'carried': 4, 'everybody': 7, 'minded': 1, 'growl': 3, 'faster': 3, 'advantage': 3, 'takes': 2, 'hours': 4, 'axis': 1, 'axes': 1, 'chop': 1, 'glanced': 1, 'meant': 5, 'hint': 2, 'busily': 4, 'bother': 1, 'abide': 1, 'figures': 1, 'singing': 2, 'lullaby': 1, 'shake': 1, 'line': 2, 'roughly': 1, 'boy': 3, 'beat': 4, 'sneezes': 2, 'annoy': 1, 'teases': 1, 'wow': 6, 'sang': 2, 'verse': 4, 'song': 7, 'tossing': 3, 'howled': 1, 'thoroughly': 2, 'enjoy': 1, 'pleases': 1, 'flinging': 1, 'threw': 2, 'frying': 1, 'pan': 1, 'missed': 2, 'caught': 3, 'shaped': 3, 'creature': 4, 'star': 1, 'snorting': 1, 'steam': 1, 'engine': 1, 'doubling': 1, 'straightening': 1, 'proper': 3, 'twist': 2, 'tight': 1, 'prevent': 1, 'undoing': 1, 'kill': 1, 'murder': 1, 'grunted': 4, 'grunt': 1, 'expressing': 1, 'snout': 1, 'also': 2, 'extremely': 2, 'sobbing': 3, 'seriously': 1, 'sobbed': 1, '_no_': 1, 'neither': 2, 'less': 3, 'carry': 1, 'relieved': 1, 'trot': 1, 'dreadfully': 6, 'ugly': 2, 'handsome': 1, 'startled': 2, 'seeing': 1, 'bough': 1, 'yards': 1, 'natured': 1, 'teeth': 1, 'treated': 1, 'respect': 1, 'puss': 1, 'wider': 1, 'depends': 1, '_somewhere_': 1, 'explanation': 2, 'denied': 2, 'waving': 5, 'hatter': 56, 'march': 34, 'hare': 31, 'visit': 1, 'grant': 1, 'growls': 1, 'wags': 1, 'wag': 1, 'therefore': 1, 'growling': 1, 'invited': 2, 'happening': 1, 'became': 2, 'appear': 2, 'hatters': 1, 'raving': 2, 'branch': 1, 'fig': 1, 'appearing': 1, 'vanishing': 1, 'giddy': 2, 'ending': 2, 'farther': 1, 'chimneys': 1, 'thatched': 1, 'raised': 2, 'towards': 1, 'instead': 3, 'front': 2, 'dormouse': 40, 'fast': 4, 'asleep': 8, 'using': 2, 'cushion': 2, 'resting': 2, 'elbows': 1, '_plenty_': 1, 'chair': 1, 'wine': 2, 'civil': 3, 'laid': 2, 'wants': 2, 'cutting': 1, 'personal': 2, 'severity': 1, 'rude': 2, 'wide': 2, '_said_': 1, 'raven': 1, 'writing': 6, 'desk': 1, 'fun': 3, 'riddles': 2, 'breathe': 3, 'ravens': 1, 'desks': 1, 'break': 2, 'month': 2, 'uneasily': 2, 'fourth': 1, 'butter': 9, 'works': 1, '_best_': 2, 'meekly': 2, 'crumbs': 4, 'grumbled': 1, 'bread': 7, 'gloomily': 1, 'cup': 2, 'shoulder': 4, 'tells': 2, 'clock': 5, 'year': 2, 'readily': 1, 'stays': 1, '_mine_': 2, 'poured': 1, 'riddle': 1, 'slightest': 1, 'wearily': 1, 'waste': 1, 'answers': 1, '_him_': 1, 'cautiously': 3, 'music': 3, 'accounts': 1, 'terms': 1, 'twinkling': 4, 'mournfully': 1, 'quarrelled': 1, '_he_': 3, 'spoon': 2, 'concert': 2, 'given': 1, 'hearts': 8, 'sing': 6, 'twinkle': 6, 'fly': 3, 'tray': 1, '_twinkle': 1, 'twinkle_': 1, 'pinch': 2, 'bawled': 1, 'murdering': 1, 'exclaimed': 6, 'mournful': 1, 'sigh': 4, 'wash': 2, 'whiles': 1, 'interrupted': 9, 'yawning': 2, 'vote': 1, 'lady': 3, 'alarmed': 1, 'proposal': 1, 'wake': 2, 'pinched': 2, 'fellows': 1, 'sisters': 2, 'names': 2, 'elsie': 1, 'lacie': 1, 'tillie': 1, 'lived': 3, 'bottom': 4, 'interest': 1, 'eating': 1, 'drinking': 1, 'treacle': 7, 'ill': 2, 'ways': 1, 'living': 2, '_less_': 1, '_more_': 1, 'opinion': 1, 'triumphantly': 2, 'helped': 1, 'sh': 2, 'sulkily': 2, 'interrupt': 1, 'consented': 1, 'learning': 2, 'promise': 1, 'clean': 1, 'unwillingly': 1, 'upset': 3, 'jug': 1, 'offend': 1, 'eh': 1, '_in_': 1, 'choosing': 1, 'interrupting': 2, 'rubbing': 2, 'manner': 2, 'begins': 4, 'closed': 2, 'doze': 1, 'woke': 1, 'traps': 1, 'moon': 1, 'memory': 1, 'muchness': 3, 'drawing': 1, 'rudeness': 1, 'disgust': 1, 'teapot': 1, '_there_': 1, 'stupidest': 1, 'leading': 1, 'today': 1, 'unlocking': 1, '_then_': 1, 'flower': 2, 'rose': 5, 'entrance': 1, 'roses': 3, 'gardeners': 8, 'painting': 2, 'paint': 1, 'jogged': 1, 'blame': 1, 'd_': 1, 'deserved': 1, 'beheaded': 3, 'spoken': 1, 'tulip': 1, 'onions': 1, 'flung': 1, 'brush': 1, 'unjust': 1, 'chanced': 1, 'watching': 3, 'checked': 3, '_red_': 1, 'afore': 1, 'themselves': 3, 'flat': 2, 'faces': 5, 'eager': 3, 'soldiers': 10, 'carrying': 2, 'clubs': 1, 'oblong': 1, 'corners': 1, 'courtiers': 2, 'ornamented': 2, 'diamonds': 1, 'royal': 2, 'merrily': 1, 'couples': 1, 'guests': 3, 'mostly': 2, 'kings': 1, 'queens': 1, 'recognised': 1, 'noticing': 1, 'knave': 9, 'king': 63, 'crimson': 2, 'velvet': 1, 'procession': 5, 'doubtful': 2, 'lie': 2, 'rule': 5, 'processions': 1, 'opposite': 1, 'smiled': 2, 'idiot': 1, 'majesty': 12, 'pack': 5, 'cards': 3, 'needn': 3, '_these': 1, 'pattern': 1, 'backs': 1, 'glaring': 1, 'beast': 1, 'consider': 4, 'bowing': 1, 'humble': 1, 'knee': 5, 'meanwhile': 1, 'examining': 1, 'remaining': 1, 'execute': 1, 'unfortunate': 3, 'protection': 1, 'pot': 1, 'marched': 1, 'evidently': 1, 'roared': 1, 'fine': 2, 'peeping': 1, 'hush': 3, 'whispered': 5, 'execution': 3, 'boxed': 1, 'scream': 2, 'laughter': 1, 'places': 2, 'thunder': 1, 'ridges': 1, 'furrows': 1, 'balls': 1, 'hedgehogs': 3, 'mallets': 1, 'flamingoes': 2, 'double': 1, 'arches': 4, 'chief': 1, 'managing': 1, 'flamingo': 5, 'body': 2, 'tucked': 3, 'comfortably': 1, 'straightened': 1, 'hedgehog': 7, 'expression': 1, 'bursting': 1, 'laughing': 2, 'provoking': 1, 'unrolled': 2, 'act': 1, 'crawling': 1, 'ridge': 1, 'furrow': 1, 'send': 1, 'doubled': 1, 'parts': 1, 'players': 4, 'played': 1, 'turns': 3, 'quarrelling': 2, 'fighting': 1, 'furious': 1, 'stamping': 2, 'shouting': 2, 'uneasy': 1, 'dispute': 2, 'beheading': 1, 'alive': 3, 'appearance': 1, 'nodded': 1, 'account': 1, 'someone': 1, 'fairly': 1, 'complaining': 1, 'quarrel': 1, 'oneself': 1, 'attends': 1, 'arch': 1, 'croqueted': 1, 'win': 1, 'finishing': 1, 'friend': 3, 'kiss': 1, 'likes': 1, 'impertinent': 1, 'removed': 2, 'passing': 1, 'settling': 1, 'difficulties': 1, 'executioner': 6, 'screaming': 1, 'search': 1, 'engaged': 1, 'fight': 2, 'croqueting': 1, 'helpless': 1, 'collected': 2, 'appealed': 1, 'settle': 1, 'arguments': 1, 'unless': 2, '_his_': 1, 'weren': 1, 'anxious': 3, '_her_': 1, 'prison': 1, 'arrow': 1, 'fading': 1, 'entirely': 2, 'disappeared': 2, 'wildly': 2, 'affectionately': 1, 'pleasant': 1, 'hopeful': 1, '_at': 1, 'all_': 1, 'tempered': 2, 'vinegar': 1, 'sour': 1, 'camomile': 1, 'bitter': 1, 'barley': 1, 'sugar': 2, 'sweet': 1, 'stingy': 1, 'forget': 2, 'moral': 8, 'hasn': 2, 'tut': 2, 'squeezed': 1, 'closer': 1, 'keeping': 2, 'uncomfortably': 1, 'bore': 1, 'tis': 4, 'love': 2, 'minding': 1, 'morals': 1, 'waist': 1, 'experiment': 2, 'bite': 2, 'mustard': 3, 'feather': 1, 'flock': 1, 'mineral': 1, 'agree': 2, 'yours': 2, 'attended': 1, 'vegetable': 1, 'imagine': 2, 'cheap': 1, 'birthday': 1, 'dig': 1, 'worried': 1, 'died': 1, 'favourite': 1, 'linked': 1, 'hers': 4, 'tremble': 1, 'thunderstorm': 1, 'fair': 1, 'warning': 1, 'choice': 2, 'absence': 1, 'shade': 1, 'delay': 1, 'cost': 1, 'whom': 1, 'sentenced': 1, 'custody': 2, 'company': 1, 'pardoned': 1, 'executions': 2, 'gryphon': 55, 'sun': 2, 'picture': 1, 'lazy': 1, 'leaving': 1, 'rubbed': 1, 'watched': 2, 'chuckled': 1, 'executes': 1, 'ledge': 1, 'rock': 1, 'heart': 2, 'pitied': 1, 'sorrow': 2, 'hollow': 1, '_ever_': 2, 'occasional': 1, 'exclamation': 1, 'hjckrrh': 1, 'heavy': 2, '_must_': 3, 'calmly': 1, 'school': 6, 'tortoise': 3, 'sink': 1, 'mayn': 1, 'educations': 1, 've_': 1, 'proud': 2, 'extras': 1, 'learned': 1, 'relief': 2, '_ours_': 1, '_and': 1, 'washing_': 1, 'extra': 1, 'afford': 1, 'regular': 2, 'inquired': 1, 'reeling': 1, 'writhing': 1, 'arithmetic': 1, 'ambition': 1, 'distraction': 1, 'uglification': 2, 'derision': 1, 'lifted': 1, 'uglifying': 1, 'beautify': 1, 'prettier': 1, 'uglify': 1, 'simpleton': 1, 'encouraged': 1, 'mystery': 2, 'counting': 1, 'subjects': 1, 'flappers': 1, 'ancient': 1, 'modern': 1, 'seaography': 1, 'drawling': 3, 'conger': 1, 'week': 3, 'fainting': 1, 'coils': 1, 'stiff': 1, 'classics': 1, 'grief': 1, 'hid': 1, 'lessen': 1, 'eleventh': 1, 'holiday': 1, 'twelfth': 1, 'games': 1, 'flapper': 1, 'sobs': 4, 'bone': 1, 'punching': 1, 'recovered': 2, 'cheeks': 1, 'introduced': 1, 'delightful': 2, 'dance': 13, 'form': 1, 'lines': 1, 'seals': 1, 'turtles': 2, 'salmon': 1, 'cleared': 1, 'jelly': 1, 'advance': 3, 'partner': 1, 'partners': 1, 'lobsters': 7, 'retire': 1, 'bound': 1, 'capering': 1, 'yelled': 1, 'land': 1, 'figure': 3, 'dropping': 1, 'pretty': 1, 'dancing': 2, 'treading': 2, 'toes': 3, 'forepaws': 1, 'mark': 3, 'whiting': 8, 'snail': 3, 'porpoise': 4, 'shingle': 1, 'join': 9, 'askance': 1, 'thanked': 1, 'kindly': 2, 'scaly': 1, 'england': 1, 'france': 1, 'beloved': 1, 'dinn': 2, 'tails': 3, 'mouths': 4, 'thrown': 1, '_it': 1, 'shoes_': 1, 'shiny': 1, 'blacking': 1, 'soles': 1, 'eels': 1, 'shrimp': 1, 'thoughts': 2, 'obliged': 3, 'anywhere': 1, 'journey': 1, 'purpose': 1, 'impatient': 1, 'explanations': 1, 'gained': 1, 'listeners': 1, 'part': 2, '_tis': 1, 'sluggard_': 1, 'baked': 1, 'eyelids': 1, 'trims': 1, 'belt': 1, 'buttons': 1, 'editions': 2, 'follows': 3, 'sands': 1, 'gay': 1, 'lark': 1, 'contemptuous': 1, 'tones': 2, 'shark': 1, 'tide': 1, 'rises': 1, 'sharks': 1, 'around': 3, 'tremulous': 1, 'uncommon': 1, 'explained': 1, 'persisted': 2, 'garden_': 1, 'disobey': 1, 'owl': 3, 'panther': 3, 'sharing': 1, 'pie': 3, 'crust': 1, 'gravy': 1, 'meat': 1, 'share': 1, 'treat': 1, 'boon': 1, 'permitted': 1, 'received': 1, 'fork': 1, 'banquet': 1, 'hm': 1, 'accounting': 1, 'tastes': 1, '_turtle': 1, 'soup_': 1, 'rich': 1, 'tureen': 1, 'dainties': 1, 'evening': 5, 'beau': 4, 'ootiful': 4, 'soo': 7, 'oop': 7, 'e': 6, 'cares': 2, 'p': 1, 'ennyworth': 1, 'pennyworth': 1, 'beauti': 1, 'ful': 1, 'panted': 1, 'faintly': 1, 'breeze': 1, 'seated': 1, 'throne': 1, 'arrived': 1, 'standing': 1, 'chains': 1, 'soldier': 1, 'guard': 1, 'trumpet': 3, 'scroll': 2, 'parchment': 2, 'court': 17, 'refreshments': 1, 'pass': 1, 'justice': 1, 'wig': 2, 'wore': 1, 'frontispiece': 1, 'comfortable': 1, 'becoming': 1, 'jurors': 4, 'rightly': 1, 'men': 1, 'slates': 8, 'indignant': 1, 'spectacles': 3, 'spell': 1, 'neighbour': 1, 'muddle': 1, 'pencil': 2, 'squeaked': 1, 'quickly': 2, 'juror': 1, 'herald': 1, 'accusation': 1, 'blew': 2, 'blasts': 2, 'summer': 2, 'verdict': 4, 'witness': 10, 'teacup': 3, 'sent': 2, 'fourteenth': 1, 'fifteenth': 1, 'sixteenth': 1, 'wrote': 3, 'dates': 1, 'reduced': 1, 'shillings': 1, 'pence': 1, 'hat': 1, '_stolen': 1, 'memorandum': 1, 'fidgeted': 1, 'spot': 1, 'encourage': 1, 'shifting': 1, 'remain': 1, 'squeeze': 1, 'boldly': 1, 'reasonable': 1, 'pace': 1, 'ridiculous': 1, 'fashion': 2, 'officers': 4, 'list': 3, 'singers': 2, 'thin': 1, '_began_': 1, 'dunce': 1, 'twinkled': 1, 'deny': 2, 'denies': 1, 'miserable': 2, '_speaker_': 1, 'suppressed': 4, 'canvas': 1, 'bag': 1, 'tied': 1, 'strings': 1, 'newspapers': 1, 'trials': 1, 'attempts': 1, 'applause': 1, 'understood': 1, 'lower': 1, '_sit_': 1, 'officer': 1, 'examine': 2, 'folding': 1, 'collar': 1, 'shrieked': 1, 'behead': 1, 'suppress': 1, 'undertone': 2, 'ache': 1, 'fumbled': 1, '_yet_': 1, 'flurry': 1, 'tipped': 1, 'skirt': 1, 'upsetting': 1, 'jurymen': 4, 'sprawling': 1, 'reminding': 1, 'globe': 1, 'goldfish': 2, 'accidentally': 1, '_beg_': 1, 'dismay': 1, 'accident': 2, 'vague': 1, 'die': 1, 'cannot': 1, '_all_': 1, 'emphasis': 1, 'haste': 1, 'downwards': 1, 'unable': 1, 'signifies': 1, 'shock': 1, 'pencils': 1, 'diligently': 1, 'overcome': 1, 'gazing': 1, '_whatever': 1, '_un_important': 2, 'respectful': 1, 'unimportant': 3, 'note': 2, 'cackled': 1, 'forty': 1, '_all': 1, 'persons': 1, 'mile': 2, 'court_': 1, 'invented': 1, 'oldest': 1, 'prisoner': 2, 'directed': 2, '_outside_': 1, 'verses': 4, 'handwriting': 1, 'queerest': 1, 'imitated': 1, 'prove': 1, 'signed': 2, 'sign': 1, 'mischief': 1, 'honest': 1, 'clapping': 1, '_proves_': 1, 'guilt': 1, 'proves': 1, 'character': 1, 'push': 1, 'returned': 2, 'involved': 1, 'affair': 1, 'trusts': 1, 'fit': 1, 'obstacle': 1, 'ourselves': 1, 'secret': 1, 'sixpence': 1, 'atom': 2, 'attempted': 1, 'saves': 1, 'spreading': 1, '_said': 1, 'swim_': 1, 'cardboard': 1, '_we': 1, 'true_': 1, 'two_': 1, '_they': 1, 'you_': 1, 'clearer': 1, '_before': 1, 'fit_': 1, 'fits': 1, 'furiously': 1, 'inkstand': 1, 'ink': 1, 'trickling': 1, '_fit_': 1, 'pun': 1, 'twentieth': 1, 'purple': 1, 'flying': 1, 'brushing': 1, 'fluttered': 1, 'kissed': 1, 'wonderful': 2, 'setting': 1, 'dreaming': 1, 'dreamed': 1, 'clasped': 1, 'toss': 1, 'listened': 1, 'rustled': 1, 'splashed': 1, 'neighbouring': 1, 'rattle': 1, 'teacups': 2, 'shared': 1, 'meal': 1, 'crashed': 1, 'choking': 1, 'believed': 1, 'reality': 1, 'rustling': 1, 'rippling': 1, 'reeds': 1, 'tinkling': 1, 'sheep': 1, 'bells': 1, 'cries': 1, 'shepherd': 1, 'noises': 1, 'clamour': 1, 'farm': 1, 'yard': 1, 'lowing': 1, 'cattle': 1, 'lastly': 1, 'pictured': 1, 'riper': 1, 'years': 1, 'loving': 1, 'childhood': 1, 'gather': 1, '_their_': 1, 'sorrows': 1, 'joys': 1, 'remembering': 1, 'happy': 1}\n",
      "2695\n",
      "27463\n",
      "1653\n",
      "the\n",
      "['the']\n"
     ]
    }
   ],
   "source": [
    "import re\n",
    "# słownik do zliczania unikalnych słów\n",
    "words = dict()\n",
    "with open(\"11-0.txt\") as file:\n",
    "    for line in file:\n",
    "        for word in re.findall(r'\\w+', line.lower()):\n",
    "            if word in words:\n",
    "                words[word] += 1\n",
    "            else:\n",
    "                words[word] = 1\n",
    "# słownik unikalnych słów\n",
    "print(words)\n",
    "# liczba wpisów (kluczy) w słowniku\n",
    "print(len(words))\n",
    "# suma wartości dla kluczy słownika\n",
    "print(sum(words.values()))\n",
    "# największa liczba wystąpień\n",
    "print(max(words.values()))\n",
    "# najczęściej występujące słowo\n",
    "print(list(words.keys())[list(words.values()).index(max(words.values()))])\n",
    "print([word for word, occurrences in words.items() if occurrences == max(words.values())])"
   ]
  },
  {
   "cell_type": "code",
   "execution_count": 9,
   "metadata": {},
   "outputs": [
    {
     "name": "stdout",
     "output_type": "stream",
     "text": [
      "[(1653, 'the'), (873, 'and'), (729, 'to'), (637, 'a'), (592, 'it')]\n",
      "the\t6.02%\n",
      "and\t3.18%\n",
      "to\t2.65%\n",
      "a\t2.32%\n",
      "it\t2.16%\n"
     ]
    }
   ],
   "source": [
    "# pięć najczęściej występujących słów (posortowania lista wartości i kluczy ze słownika)\n",
    "words_sorted = sorted([(value, key) for (key, value) in words.items()], reverse = True)\n",
    "five_common = words_sorted[:5]\n",
    "print(five_common)\n",
    "for word in five_common:\n",
    "    print(f'{word[1]}\\t{word[0]*100.0/total_words:.2f}%')"
   ]
  },
  {
   "cell_type": "markdown",
   "metadata": {},
   "source": [
    "Można zaznajomić się z pakietem [heapq](https://docs.python.org/3/library/heapq.html), który dostarcza implementacji funkcji `nlargest`. `sorted` umożliwia również bezpośrednie podanie klucza według którego mają być posortowane dane (parametr `key`), ale ta implementacja pozwoliła na uniknięcie użycia `lambda`, której jeszcze nie znamy."
   ]
  },
  {
   "cell_type": "markdown",
   "metadata": {},
   "source": [
    "1. Ile unikalnych słów wypełnia połowę całego tekstu?\n",
    "1. ★ Narysuj zależność w skali logarytmicznej pomiędzy rangą słowa a częstotliwością jego występowania (ranga to liczby 1, 2, 3, ... przyporządkowane kolejno najczęściej występującym słowom)"
   ]
  },
  {
   "cell_type": "code",
   "execution_count": 13,
   "metadata": {},
   "outputs": [
    {
     "name": "stdout",
     "output_type": "stream",
     "text": [
      "13773\n",
      "55\n"
     ]
    }
   ],
   "source": [
    "# ile słów wypełnia połowę całego tekstu\n",
    "# zlicza wystąpienia najczęściej występujących słów, aż do przekroczenia połowy\n",
    "total = 0\n",
    "i = 0\n",
    "for word in words_sorted:\n",
    "    total += word[0]\n",
    "    if (total > total_words / 2):\n",
    "        break\n",
    "    i += 1\n",
    "print(total)\n",
    "print(i)"
   ]
  },
  {
   "cell_type": "markdown",
   "metadata": {},
   "source": [
    "Nim przystąpimy do implementacji warto sprawdzić czy nie istnieje pakiet implementujący dany algorytm"
   ]
  },
  {
   "cell_type": "code",
   "execution_count": 16,
   "metadata": {},
   "outputs": [
    {
     "name": "stdout",
     "output_type": "stream",
     "text": [
      "27463\n"
     ]
    }
   ],
   "source": [
    "import re, urllib.request\n",
    "from collections import Counter\n",
    "# pobranie książki\n",
    "response = urllib.request.urlopen('http://www.gutenberg.org/files/11/11-0.txt')\n",
    "data = response.read()\n",
    "text = data.decode('utf-8')\n",
    "# lista słów\n",
    "words = re.findall(r'\\w+', text.lower())\n",
    "print(len(words))"
   ]
  },
  {
   "cell_type": "code",
   "execution_count": 17,
   "metadata": {},
   "outputs": [
    {
     "data": {
      "text/plain": [
       "[('the', 1653)]"
      ]
     },
     "execution_count": 17,
     "metadata": {},
     "output_type": "execute_result"
    }
   ],
   "source": [
    "# odnalezienie najczęstszego słowa\n",
    "Counter(words).most_common(1)"
   ]
  },
  {
   "cell_type": "code",
   "execution_count": 18,
   "metadata": {},
   "outputs": [
    {
     "name": "stdout",
     "output_type": "stream",
     "text": [
      "[('the', 1653), ('and', 873), ('to', 729), ('a', 637), ('it', 592)]\n",
      "the\t6.02%\n",
      "and\t3.18%\n",
      "to\t2.65%\n",
      "a\t2.32%\n",
      "it\t2.16%\n"
     ]
    }
   ],
   "source": [
    "# odnalezienie pięciu najczęstszych słów oraz częstotliwości ich występowania\n",
    "five_common = Counter(words).most_common(5)\n",
    "print(five_common)\n",
    "for word in five_common:\n",
    "    print(f'{word[0]}\\t{word[1]*100.0/len(words):.2f}%')"
   ]
  },
  {
   "cell_type": "code",
   "execution_count": null,
   "metadata": {},
   "outputs": [],
   "source": []
  }
 ],
 "metadata": {
  "kernelspec": {
   "display_name": "Python 3 (ipykernel)",
   "language": "python",
   "name": "python3"
  },
  "language_info": {
   "codemirror_mode": {
    "name": "ipython",
    "version": 3
   },
   "file_extension": ".py",
   "mimetype": "text/x-python",
   "name": "python",
   "nbconvert_exporter": "python",
   "pygments_lexer": "ipython3",
   "version": "3.12.3"
  }
 },
 "nbformat": 4,
 "nbformat_minor": 4
}
