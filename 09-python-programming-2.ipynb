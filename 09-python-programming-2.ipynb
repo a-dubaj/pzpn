{
 "cells": [
  {
   "cell_type": "markdown",
   "metadata": {},
   "source": [
    "# Python: programowanie"
   ]
  },
  {
   "cell_type": "markdown",
   "metadata": {},
   "source": [
    "Niekiedy o tym, jak będzie rozwijał się Python poinformuje nas odpowiedni pakiet 😉"
   ]
  },
  {
   "cell_type": "code",
   "execution_count": 1,
   "metadata": {},
   "outputs": [
    {
     "ename": "SyntaxError",
     "evalue": "not a chance (3905450354.py, line 1)",
     "output_type": "error",
     "traceback": [
      "\u001b[0;36m  Cell \u001b[0;32mIn[1], line 1\u001b[0;36m\u001b[0m\n\u001b[0;31m    from __future__ import braces\u001b[0m\n\u001b[0m    ^\u001b[0m\n\u001b[0;31mSyntaxError\u001b[0m\u001b[0;31m:\u001b[0m not a chance\n"
     ]
    }
   ],
   "source": [
    "from __future__ import braces"
   ]
  },
  {
   "cell_type": "markdown",
   "metadata": {},
   "source": [
    "## Klasy\n",
    "\n",
    "Python umożliwia programowanie obiektowe. Możliwe jest dziedziczenie. Wszystkie składowe klasy są publiczne (można je \"ukrywać\"), a funkcje podlegają wirtualizacji."
   ]
  },
  {
   "cell_type": "code",
   "execution_count": 2,
   "metadata": {},
   "outputs": [
    {
     "name": "stdout",
     "output_type": "stream",
     "text": [
      "ACME from Poland\n",
      "xyz from USA\n",
      "strange value\n",
      "_ oznacza \"nie dotykaj\", to wewnętrzny atrybut\n",
      "<__main__.Company object at 0x7d992c0a33d0>\n",
      "<class '__main__.Company'>\n",
      "<class 'int'>\n",
      "xyz -> Company\n"
     ]
    }
   ],
   "source": [
    "class Company():\n",
    "    # pole wspólne dla klasy Company i jej wszystkich instancji (statyczne, zmienna klasy)\n",
    "    country = 'Poland'\n",
    "\n",
    "    # metody __ mają \"specjalne znaczenie\"\n",
    "    def __init__(self, name, employees = 100):\n",
    "        # pola niezależne dla każdej instancji (inaczej atrybuty, właściwości, stany instancji)\n",
    "        self.__company_name = name  # pola __ są \"ukryte\" (pole raczej niezmienne: atrybut, właściwość)\n",
    "        self.employees = employees  # pole publiczne (pole, które się zmienia: stan)\n",
    "        self._dont_touch = '_ oznacza \"nie dotykaj\", to wewnętrzny atrybut'\n",
    "        \n",
    "    # metoda klasy (funkcja)\n",
    "    def description(self):\n",
    "        return f'{self.__company_name} from {Company.country}'\n",
    "    \n",
    "\n",
    "acme = Company('ACME', 100)\n",
    "print(acme.description())\n",
    "Company.country = 'USA'\n",
    "xyz = Company('xyz', 'strange value')\n",
    "print(xyz.description())\n",
    "print(xyz.employees)\n",
    "print(xyz._dont_touch)\n",
    "print(xyz)\n",
    "\n",
    "print(type(xyz))\n",
    "print(type(1))\n",
    "\n",
    "if isinstance(xyz, Company):\n",
    "    print('xyz -> Company')"
   ]
  },
  {
   "cell_type": "code",
   "execution_count": 3,
   "metadata": {},
   "outputs": [
    {
     "name": "stdout",
     "output_type": "stream",
     "text": [
      "Fast from USA\n",
      "30\n",
      "<class '__main__.Company'>\n",
      "fast -> TransportCompany\n",
      "fast -> Company\n"
     ]
    }
   ],
   "source": [
    "class TransportCompany(Company):\n",
    "    def __init__(self, name, vehicles, employees = 200):\n",
    "        # wywołanie __init__ z klasy nadrzędnej\n",
    "        super().__init__(name, employees)\n",
    "        self.vehicles = vehicles\n",
    "        \n",
    "    def add_vehicles(self, vehicles):\n",
    "        self.vehicles += vehicles\n",
    "        \n",
    "        \n",
    "fast = TransportCompany('Fast', 20)\n",
    "fast.add_vehicles(10)\n",
    "print(fast.description())\n",
    "print(fast.vehicles)\n",
    "\n",
    "print(type(xyz))\n",
    "\n",
    "if isinstance(xyz, TransportCompany):\n",
    "    print('xyz -> TransportCompany')\n",
    "    \n",
    "if isinstance(fast, TransportCompany):\n",
    "    print('fast -> TransportCompany')\n",
    "    \n",
    "if isinstance(fast, Company):\n",
    "    print('fast -> Company')"
   ]
  },
  {
   "cell_type": "markdown",
   "metadata": {},
   "source": [
    "Od Python w wersji 3.7 możliwe jest użycie [Data Classes](https://docs.python.org/3/library/dataclasses.html). Upraszcza to tworzenie klas, których głównym celem jest przechowywanie danych. Niektóre metody zostaną automatycznie zaimpementowane, kod jest czytelniejszy."
   ]
  },
  {
   "cell_type": "code",
   "execution_count": 4,
   "metadata": {},
   "outputs": [
    {
     "name": "stdout",
     "output_type": "stream",
     "text": [
      "ACME from Poland\n",
      "xyz from USA\n",
      "30\n",
      "Company(company_name='xyz', employees=30)\n"
     ]
    }
   ],
   "source": [
    "from dataclasses import dataclass\n",
    "from typing import ClassVar\n",
    "\n",
    "# dekorator\n",
    "@dataclass\n",
    "class Company:\n",
    "    company_name: str\n",
    "    employees: int = 100\n",
    "    country: ClassVar[str] = 'Poland'\n",
    "\n",
    "    def description(self):\n",
    "        return f'{self.company_name} from {Company.country}'\n",
    "    \n",
    "\n",
    "acme = Company('ACME', 'strange value')\n",
    "print(acme.description())\n",
    "Company.country = 'USA'\n",
    "xyz = Company('xyz', 30)\n",
    "print(xyz.description())\n",
    "print(xyz.employees)\n",
    "print(xyz)"
   ]
  },
  {
   "cell_type": "markdown",
   "metadata": {},
   "source": [
    "### Zadanie\n",
    "\n",
    "Utwórz klasę `Person` przechowującą imię i nazwisko wraz z metodą drukującą dane osoby w formacie Imię NAZWISKO (bez względu jak zostały wcześniej ustawione). Utwórz obiekt nowej klasy i wywołaj jego metodę. Wskazówka: skorzystaj z `title()` i `upper()`, domyślna metoda zwracająca obiekt w czytelnej formie ma zazwyczaj nazwę `__str__`."
   ]
  },
  {
   "cell_type": "code",
   "execution_count": 7,
   "metadata": {},
   "outputs": [],
   "source": [
    "class Person():\n",
    "    def __init__(self, name, surname):\n",
    "        self.name = name\n",
    "        self.surname = surname\n",
    "        \n",
    "    def __str__(self):\n",
    "        return f'{self.name.title()} {self.surname.upper()}'\n",
    "p = Person('Andrzej', 'Dubaj')\n"
   ]
  },
  {
   "cell_type": "code",
   "execution_count": 8,
   "metadata": {},
   "outputs": [
    {
     "name": "stdout",
     "output_type": "stream",
     "text": [
      "Andrzej DUBAJ\n"
     ]
    }
   ],
   "source": [
    "print(p)"
   ]
  },
  {
   "cell_type": "markdown",
   "metadata": {},
   "source": [
    "## Wyjątki\n",
    "\n",
    "Wyjątki to błędy, które mogą pojawić się podczas wykonania programu. Po wystąpieniu wyjątku program jest przerywany i wznawiany w miejscu, w którym przewidziano obsługę błędu. Python posiada wbudowanią [hierarchię typowych wyjątków](https://docs.python.org/3/library/exceptions.html#exception-hierarchy)."
   ]
  },
  {
   "cell_type": "code",
   "execution_count": 9,
   "metadata": {},
   "outputs": [
    {
     "ename": "ZeroDivisionError",
     "evalue": "division by zero",
     "output_type": "error",
     "traceback": [
      "\u001b[0;31m---------------------------------------------------------------------------\u001b[0m",
      "\u001b[0;31mZeroDivisionError\u001b[0m                         Traceback (most recent call last)",
      "Cell \u001b[0;32mIn[9], line 1\u001b[0m\n\u001b[0;32m----> 1\u001b[0m \u001b[38;5;241;43m1\u001b[39;49m\u001b[43m \u001b[49m\u001b[38;5;241;43m/\u001b[39;49m\u001b[43m \u001b[49m\u001b[38;5;241;43m0\u001b[39;49m\n",
      "\u001b[0;31mZeroDivisionError\u001b[0m: division by zero"
     ]
    }
   ],
   "source": [
    "1 / 0"
   ]
  },
  {
   "cell_type": "code",
   "execution_count": 10,
   "metadata": {},
   "outputs": [],
   "source": [
    "def divide(x, y):\n",
    "    try:\n",
    "        result = x / y\n",
    "        print('divided')\n",
    "    except ZeroDivisionError as e:\n",
    "        print('zero')\n",
    "        print(e)\n",
    "        print(str(e))  # czytelny opis wyjątku\n",
    "        print(repr(e)) # programistyczny opis wyjątku\n",
    "    else:\n",
    "        print('result = ', result)\n",
    "    finally:\n",
    "        print('finished')"
   ]
  },
  {
   "cell_type": "code",
   "execution_count": 11,
   "metadata": {},
   "outputs": [
    {
     "name": "stdout",
     "output_type": "stream",
     "text": [
      "divided\n",
      "result =  1.0\n",
      "finished\n"
     ]
    }
   ],
   "source": [
    "divide(1, 1)"
   ]
  },
  {
   "cell_type": "code",
   "execution_count": 12,
   "metadata": {},
   "outputs": [
    {
     "ename": "BadData",
     "evalue": "bad input for divide",
     "output_type": "error",
     "traceback": [
      "\u001b[0;31m---------------------------------------------------------------------------\u001b[0m",
      "\u001b[0;31mBadData\u001b[0m                                   Traceback (most recent call last)",
      "Cell \u001b[0;32mIn[12], line 13\u001b[0m\n\u001b[1;32m      9\u001b[0m         \u001b[38;5;28;01mraise\u001b[39;00m BadData(\u001b[38;5;124m'\u001b[39m\u001b[38;5;124mbad input for divide\u001b[39m\u001b[38;5;124m'\u001b[39m)\n\u001b[1;32m     10\u001b[0m     \u001b[38;5;28;01mreturn\u001b[39;00m x \u001b[38;5;241m/\u001b[39m y\n\u001b[0;32m---> 13\u001b[0m \u001b[43mdivide\u001b[49m\u001b[43m(\u001b[49m\u001b[38;5;241;43m1\u001b[39;49m\u001b[43m,\u001b[49m\u001b[43m \u001b[49m\u001b[38;5;241;43m0\u001b[39;49m\u001b[43m)\u001b[49m\n",
      "Cell \u001b[0;32mIn[12], line 9\u001b[0m, in \u001b[0;36mdivide\u001b[0;34m(x, y)\u001b[0m\n\u001b[1;32m      6\u001b[0m \u001b[38;5;28;01mdef\u001b[39;00m \u001b[38;5;21mdivide\u001b[39m(x, y):\n\u001b[1;32m      7\u001b[0m     \u001b[38;5;28;01mif\u001b[39;00m y \u001b[38;5;241m==\u001b[39m \u001b[38;5;241m0\u001b[39m:\n\u001b[1;32m      8\u001b[0m         \u001b[38;5;66;03m# zgłoszenie wyjątku\u001b[39;00m\n\u001b[0;32m----> 9\u001b[0m         \u001b[38;5;28;01mraise\u001b[39;00m BadData(\u001b[38;5;124m'\u001b[39m\u001b[38;5;124mbad input for divide\u001b[39m\u001b[38;5;124m'\u001b[39m)\n\u001b[1;32m     10\u001b[0m     \u001b[38;5;28;01mreturn\u001b[39;00m x \u001b[38;5;241m/\u001b[39m y\n",
      "\u001b[0;31mBadData\u001b[0m: bad input for divide"
     ]
    }
   ],
   "source": [
    "# klasa reprezentująca wyjątek\n",
    "class BadData(Exception):\n",
    "    pass\n",
    "\n",
    "\n",
    "def divide(x, y):\n",
    "    if y == 0:\n",
    "        # zgłoszenie wyjątku\n",
    "        raise BadData('bad input for divide')\n",
    "    return x / y\n",
    "\n",
    "        \n",
    "divide(1, 0)"
   ]
  },
  {
   "cell_type": "markdown",
   "metadata": {},
   "source": [
    "### Zadanie\n",
    "\n",
    "Zmodyfikuj powyższy kod, aby obsłużyć wyjątek `BadData`."
   ]
  },
  {
   "cell_type": "code",
   "execution_count": 13,
   "metadata": {},
   "outputs": [
    {
     "ename": "NameError",
     "evalue": "name 'names' is not defined",
     "output_type": "error",
     "traceback": [
      "\u001b[0;31m---------------------------------------------------------------------------\u001b[0m",
      "\u001b[0;31mNameError\u001b[0m                                 Traceback (most recent call last)",
      "Cell \u001b[0;32mIn[13], line 1\u001b[0m\n\u001b[0;32m----> 1\u001b[0m \u001b[38;5;28mset\u001b[39m(\u001b[38;5;28mfilter\u001b[39m(\u001b[38;5;28;01mlambda\u001b[39;00m x: x\u001b[38;5;241m.\u001b[39mstartswith(\u001b[38;5;124m'\u001b[39m\u001b[38;5;124mA\u001b[39m\u001b[38;5;124m'\u001b[39m), \u001b[43mnames\u001b[49m))\n",
      "\u001b[0;31mNameError\u001b[0m: name 'names' is not defined"
     ]
    }
   ],
   "source": [
    "set(filter(lambda x: x.startswith('A'), names))\n"
   ]
  },
  {
   "cell_type": "markdown",
   "metadata": {},
   "source": [
    "## Wyrażenia lambda"
   ]
  },
  {
   "cell_type": "code",
   "execution_count": 14,
   "metadata": {},
   "outputs": [
    {
     "name": "stdout",
     "output_type": "stream",
     "text": [
      "[1, 4, 9, 16, 25]\n"
     ]
    }
   ],
   "source": [
    "# tworzenie listy kwadratów liczb\n",
    "items = [1, 2, 3, 4, 5]\n",
    "squared = []\n",
    "for i in items:\n",
    "    squared.append(i**2)\n",
    "print(squared)"
   ]
  },
  {
   "cell_type": "code",
   "execution_count": 15,
   "metadata": {},
   "outputs": [
    {
     "name": "stdout",
     "output_type": "stream",
     "text": [
      "[1, 4, 9, 16, 25]\n"
     ]
    }
   ],
   "source": [
    "# funkcja map\n",
    "items = [1, 2, 3, 4, 5]\n",
    "\n",
    "def square(x):\n",
    "    return x**2\n",
    "\n",
    "\n",
    "squared = list(map(square, items))\n",
    "print(squared)"
   ]
  },
  {
   "cell_type": "code",
   "execution_count": 16,
   "metadata": {},
   "outputs": [
    {
     "name": "stdout",
     "output_type": "stream",
     "text": [
      "[1, 4, 9, 16, 25]\n"
     ]
    }
   ],
   "source": [
    "# wyrażenie listowe\n",
    "items = [1, 2, 3, 4, 5]\n",
    "squared = [ x**2 for x in items ]\n",
    "print(squared)"
   ]
  },
  {
   "cell_type": "markdown",
   "metadata": {},
   "source": [
    "Wyrażenia lambda nazywane są inaczej funkcjami anonimowymi."
   ]
  },
  {
   "cell_type": "code",
   "execution_count": 17,
   "metadata": {},
   "outputs": [
    {
     "name": "stdout",
     "output_type": "stream",
     "text": [
      "[1, 4, 9, 16, 25]\n"
     ]
    }
   ],
   "source": [
    "items = [1, 2, 3, 4, 5]\n",
    "square = lambda x: x**2\n",
    "squared = list(map(square, items))\n",
    "print(squared)"
   ]
  },
  {
   "cell_type": "code",
   "execution_count": 18,
   "metadata": {},
   "outputs": [
    {
     "name": "stdout",
     "output_type": "stream",
     "text": [
      "[1, 4, 9, 16, 25]\n"
     ]
    }
   ],
   "source": [
    "items = [1, 2, 3, 4, 5]\n",
    "squared = list(map(lambda x: x**2, items))\n",
    "print(squared)"
   ]
  },
  {
   "cell_type": "code",
   "execution_count": 19,
   "metadata": {},
   "outputs": [
    {
     "data": {
      "text/plain": [
       "['PIOTR', 'MARCIN']"
      ]
     },
     "execution_count": 19,
     "metadata": {},
     "output_type": "execute_result"
    }
   ],
   "source": [
    "list(map(lambda x: x.upper(), {'Piotr', 'Marcin'}))"
   ]
  },
  {
   "cell_type": "markdown",
   "metadata": {},
   "source": [
    "Funkcja anonimowa może mieć kilka argumentów. Wywołaj funkcję `process` w celu wykonania dodawania i mnożenia dwóch liczb wykorzystując wyrażenia lambda."
   ]
  },
  {
   "cell_type": "code",
   "execution_count": 20,
   "metadata": {},
   "outputs": [],
   "source": [
    "def process(operation, a, b):\n",
    "    print(a)\n",
    "    print(b)\n",
    "    return operation(a, b)"
   ]
  },
  {
   "cell_type": "markdown",
   "metadata": {},
   "source": [
    "### Zadanie\n",
    "\n",
    "Utwórz strukturę zawierającą unikalne imiona zaczynające się na 'A'. Skorzystaj z funkcji `filter`, która przyjmuje jako kolejne parametry:\n",
    "- funkcję zwracającą dla danego argumentu prawdę lub fałsz, w zależności czy argument ten spełnia warunki czy też nie\n",
    "- przetwarzaną kolekcję"
   ]
  },
  {
   "cell_type": "code",
   "execution_count": null,
   "metadata": {},
   "outputs": [],
   "source": [
    "names = ['Katarzyna', 'Aldona', 'Adam', 'Piotr', 'Małgorzata', 'Aleksandra', 'Anna', 'Zofia', 'Anna', 'Rafał']\n"
   ]
  },
  {
   "cell_type": "markdown",
   "metadata": {},
   "source": [
    "### Zadanie\n",
    "\n",
    "Znajdź sumę pierwszych 10 liczb. Skorzystaj z funkcji `reduce`. Wskazówka: funkcja lambda przyjmuje jako argument dotychczas wyznaczoną wartość i kolejny element."
   ]
  },
  {
   "cell_type": "code",
   "execution_count": 22,
   "metadata": {},
   "outputs": [
    {
     "ename": "NameError",
     "evalue": "name 'names' is not defined",
     "output_type": "error",
     "traceback": [
      "\u001b[0;31m---------------------------------------------------------------------------\u001b[0m",
      "\u001b[0;31mNameError\u001b[0m                                 Traceback (most recent call last)",
      "Cell \u001b[0;32mIn[22], line 2\u001b[0m\n\u001b[1;32m      1\u001b[0m \u001b[38;5;28;01mfrom\u001b[39;00m \u001b[38;5;21;01mfunctools\u001b[39;00m \u001b[38;5;28;01mimport\u001b[39;00m reduce\n\u001b[0;32m----> 2\u001b[0m \u001b[38;5;28mset\u001b[39m(\u001b[38;5;28mfilter\u001b[39m(\u001b[38;5;28;01mlambda\u001b[39;00m x: x\u001b[38;5;241m.\u001b[39mstartswith(\u001b[38;5;124m'\u001b[39m\u001b[38;5;124mA\u001b[39m\u001b[38;5;124m'\u001b[39m), \u001b[43mnames\u001b[49m))\n",
      "\u001b[0;31mNameError\u001b[0m: name 'names' is not defined"
     ]
    }
   ],
   "source": [
    "from functools import reduce\n",
    "set(filter(lambda x: x.startswith('A'), names))"
   ]
  },
  {
   "cell_type": "markdown",
   "metadata": {},
   "source": [
    "## Generatory\n",
    "\n",
    "Generatory to funkcje, które mogą zwrócić kolejny element zachowując swój stan."
   ]
  },
  {
   "cell_type": "code",
   "execution_count": null,
   "metadata": {},
   "outputs": [],
   "source": [
    "file_name = '/usr/share/dict/words' # jeśli brakuje można doinstalować pakiet wbritish, wpolish lub inny za pomocą apt lub wybrać inny plik do testu\n",
    "# file_name = '/usr/share/dict/linux.words'\n",
    "# file_name = '/usr/share/dict/cracklib-small'\n",
    "\n",
    "def reader(file_name):\n",
    "    # odczytuje całą zawartość pliku\n",
    "    with open(file_name) as file:\n",
    "        data = file.read().split('\\n')\n",
    "    return data\n",
    "\n",
    "\n",
    "# używamy tylko trzech elementów, ale czytamy wszystko\n",
    "reader(file_name)[:3]"
   ]
  },
  {
   "cell_type": "code",
   "execution_count": null,
   "metadata": {},
   "outputs": [],
   "source": [
    "def reader(file_name):\n",
    "    with open(file_name, 'r') as file:\n",
    "        for row in file:\n",
    "            # zwraca aktualnie odczytany wiersz i nie czyta dalej\n",
    "            yield row.strip()\n",
    "            \n",
    "            \n",
    "# używamy tylko trzech elementów\n",
    "words_reader = reader(file_name)\n",
    "print(next(words_reader))\n",
    "print(next(words_reader))\n",
    "print(next(words_reader))\n",
    "\n",
    "# za pomocą _ oznaczamy \"techniczne\" zmienne\n",
    "[next(words_reader) for _ in range(3)]"
   ]
  },
  {
   "cell_type": "code",
   "execution_count": null,
   "metadata": {},
   "outputs": [],
   "source": [
    "from itertools import islice\n",
    "\n",
    "# wyrażenie generatorowe\n",
    "words_reader = (row.strip() for row in open(file_name))\n",
    "\n",
    "[x for x in islice(words_reader, 0, 3)]"
   ]
  },
  {
   "cell_type": "markdown",
   "metadata": {},
   "source": [
    "Utwórz listę pierwszych 10 kwadratów liczb."
   ]
  },
  {
   "cell_type": "code",
   "execution_count": null,
   "metadata": {},
   "outputs": [],
   "source": [
    "def squared():\n",
    "    i = 1\n",
    "    while True:\n",
    "        yield i ** 2\n",
    "        i += 1\n",
    "        \n",
    "        \n",
    "s = squared()"
   ]
  },
  {
   "cell_type": "markdown",
   "metadata": {},
   "source": [
    "Typowymi operacjami przy przetwarzaniu danych w Python są:\n",
    "- przetwarzanie list (wyrażenia listowe, funkcje lambda)\n",
    "- łączenie list (`zip`)\n",
    "- iteracje (`enumerate`)"
   ]
  },
  {
   "cell_type": "markdown",
   "metadata": {},
   "source": [
    "## Sortowanie\n",
    "\n",
    "Listy w Pythonie mogą być sortowane w miejscu."
   ]
  },
  {
   "cell_type": "code",
   "execution_count": null,
   "metadata": {},
   "outputs": [],
   "source": [
    "names = ['Katarzyna', 'Aldona', 'Adam', 'Piotr', 'Małgorzata', 'Aleksandra', 'Anna', 'Zofia', 'Elżbieta', 'Rafał']\n",
    "names.sort()\n",
    "print(names)\n",
    "names.sort(reverse = True)\n",
    "print(names)\n",
    "names.sort(key = lambda x: len(x))\n",
    "print(names)"
   ]
  },
  {
   "cell_type": "markdown",
   "metadata": {},
   "source": [
    "Można również wykorzystać funkcję `sorted`, która zwróci nową strukturę."
   ]
  },
  {
   "cell_type": "code",
   "execution_count": null,
   "metadata": {},
   "outputs": [],
   "source": [
    "names = ['Katarzyna', 'Aldona', 'Adam', 'Piotr', 'Małgorzata', 'Aleksandra', 'Anna', 'Zofia', 'Elżbieta', 'Rafał']\n",
    "sorted_names = sorted(names)\n",
    "print(names)\n",
    "print(sorted_names)"
   ]
  },
  {
   "cell_type": "code",
   "execution_count": null,
   "metadata": {},
   "outputs": [],
   "source": [
    "people = [ { 'name': 'Anna', 'age': 18},\n",
    "           { 'name': 'Rafał', 'age': 20},\n",
    "           { 'name': 'Tomasz', 'age': 34},\n",
    "           { 'name': 'Maja', 'age': 28} ]\n",
    "sorted(people, key = lambda x: x['age'])"
   ]
  },
  {
   "cell_type": "markdown",
   "metadata": {},
   "source": [
    "Sortowanie domyślnie wykorzystuje kolejność znaków UTF-8, która nie odpowiada kolejności znaków w danym języku. Ustawiając `LC_COLLATE` dla wybranego języka i sortowanie z kluczem `strxfrm` uwzględnia układ wybranego alfabetu. Można również zdefiniować własną funkcję dla klucza uwzględniającą wybrany alfabet.\n",
    "\n",
    "Działanie poniższej komórki zależy od zainstalowanych ustawień językowych w Linux. Jeśli brak języka polskiego należy wywołać\n",
    "\n",
    "    sudo locale-gen pl_PL.UTF-8\n",
    "    sudo update-locale"
   ]
  },
  {
   "cell_type": "code",
   "execution_count": null,
   "metadata": {},
   "outputs": [],
   "source": [
    "import locale\n",
    "locale.setlocale(locale.LC_COLLATE, \"pl_PL.UTF-8\")\n",
    "\n",
    "names = ['Lucjan', 'Ścibor', 'Zbyszek', 'Żaneta', 'Łukasz']\n",
    "print(sorted(names))\n",
    "print(sorted(names, key = locale.strxfrm))"
   ]
  },
  {
   "cell_type": "markdown",
   "metadata": {},
   "source": [
    "### Zadanie\n",
    "\n",
    "Utwórz listę imion osób w kolejności od najstarszej do najmłodszej. Lista ma zawierać wyłącznie imiona."
   ]
  },
  {
   "cell_type": "code",
   "execution_count": null,
   "metadata": {},
   "outputs": [],
   "source": [
    "people = [ { 'name': 'Anna', 'age': 18},\n",
    "           { 'name': 'Rafał', 'age': 20},\n",
    "           { 'name': 'Tomasz', 'age': 34},\n",
    "           { 'name': 'Maja', 'age': 28} ]"
   ]
  },
  {
   "cell_type": "markdown",
   "metadata": {},
   "source": [
    "### Zadanie\n",
    "\n",
    "Posortuj listę obiektów `Car` od najmniejszego przebiegu do największego."
   ]
  },
  {
   "cell_type": "code",
   "execution_count": null,
   "metadata": {},
   "outputs": [],
   "source": [
    "from pprint import pprint\n",
    "\n",
    "class Car:\n",
    "    def __init__(self, name, mileage):\n",
    "        self.name = name\n",
    "        self.mileage = mileage\n",
    "    \n",
    "    def __repr__(self):\n",
    "        return self.name + ' (' + str(self.mileage) + ')'\n",
    "\n",
    "    \n",
    "cars = [ Car('Tico', 10010),\n",
    "         Car('Audi', 20000),\n",
    "         Car('Skoda', 54000), \n",
    "         Car('Polonez', 6700) ]\n",
    "cars.sort(key = lambda c: c.mileage)\n",
    "print(cars)\n",
    "pprint(cars, width=20)"
   ]
  },
  {
   "cell_type": "markdown",
   "metadata": {},
   "source": [
    "Rozszerz klasę Car o metodę `__lt__(self, other)` i wykorzystaj `sort` bez żadnych dodatkowych argumentów."
   ]
  },
  {
   "cell_type": "code",
   "execution_count": null,
   "metadata": {},
   "outputs": [],
   "source": []
  }
 ],
 "metadata": {
  "kernelspec": {
   "display_name": "Python 3 (ipykernel)",
   "language": "python",
   "name": "python3"
  },
  "language_info": {
   "codemirror_mode": {
    "name": "ipython",
    "version": 3
   },
   "file_extension": ".py",
   "mimetype": "text/x-python",
   "name": "python",
   "nbconvert_exporter": "python",
   "pygments_lexer": "ipython3",
   "version": "3.10.12"
  }
 },
 "nbformat": 4,
 "nbformat_minor": 4
}
