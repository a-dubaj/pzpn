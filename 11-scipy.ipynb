{
 "cells": [
  {
   "cell_type": "markdown",
   "metadata": {},
   "source": [
    "# SciPy\n",
    "\n",
    "Biblioteka [SciPy](https://scipy.org/) zawiera implementację wielu algorytmów z dziedziny obliczeń numerycznych. Zbudowana jest z zastosowaniem biblioteki NumPy.\n",
    "\n",
    "W jej skład wchodzą między innymi pakiety do obliczeń statystycznych, przetwarzania sygnałów, grafiki czy optymalizacji."
   ]
  },
  {
   "cell_type": "markdown",
   "metadata": {},
   "source": [
    "### Przetwarzanie obrazów"
   ]
  },
  {
   "cell_type": "code",
   "metadata": {
    "ExecuteTime": {
     "end_time": "2024-10-15T10:54:05.093702Z",
     "start_time": "2024-10-15T10:54:05.046214Z"
    }
   },
   "source": [
    "%matplotlib inline\n",
    "import matplotlib.pyplot as plt\n",
    "import scipy\n",
    "\n",
    "# face = scipy.misc.face # starsze wersje SciPy\n",
    "face = scipy.datasets.face() # wbudowane zdjęcie (zostanie pobrane), może wymagać instalacji pakietu pooch i restartu notatników\n",
    "plt.imshow(face)\n",
    "plt.show()"
   ],
   "outputs": [
    {
     "ename": "ImportError",
     "evalue": "Missing optional dependency 'pooch' required for scipy.datasets module. Please use pip or conda to install 'pooch'.",
     "output_type": "error",
     "traceback": [
      "\u001B[0;31m---------------------------------------------------------------------------\u001B[0m",
      "\u001B[0;31mImportError\u001B[0m                               Traceback (most recent call last)",
      "Cell \u001B[0;32mIn[6], line 6\u001B[0m\n\u001B[1;32m      3\u001B[0m \u001B[38;5;28;01mimport\u001B[39;00m \u001B[38;5;21;01mscipy\u001B[39;00m\n\u001B[1;32m      5\u001B[0m \u001B[38;5;66;03m# face = scipy.misc.face # starsze wersje SciPy\u001B[39;00m\n\u001B[0;32m----> 6\u001B[0m face \u001B[38;5;241m=\u001B[39m \u001B[43mscipy\u001B[49m\u001B[38;5;241;43m.\u001B[39;49m\u001B[43mdatasets\u001B[49m\u001B[38;5;241;43m.\u001B[39;49m\u001B[43mface\u001B[49m\u001B[43m(\u001B[49m\u001B[43m)\u001B[49m \u001B[38;5;66;03m# wbudowane zdjęcie (zostanie pobrane), może wymagać instalacji pakietu pooch i restartu notatników\u001B[39;00m\n\u001B[1;32m      7\u001B[0m plt\u001B[38;5;241m.\u001B[39mimshow(face)\n\u001B[1;32m      8\u001B[0m plt\u001B[38;5;241m.\u001B[39mshow()\n",
      "File \u001B[0;32m~/Programming/Github/pzpn/venv/lib/python3.12/site-packages/scipy/datasets/_fetchers.py:212\u001B[0m, in \u001B[0;36mface\u001B[0;34m(gray)\u001B[0m\n\u001B[1;32m    178\u001B[0m \u001B[38;5;250m\u001B[39m\u001B[38;5;124;03m\"\"\"\u001B[39;00m\n\u001B[1;32m    179\u001B[0m \u001B[38;5;124;03mGet a 1024 x 768, color image of a raccoon face.\u001B[39;00m\n\u001B[1;32m    180\u001B[0m \n\u001B[0;32m   (...)\u001B[0m\n\u001B[1;32m    209\u001B[0m \n\u001B[1;32m    210\u001B[0m \u001B[38;5;124;03m\"\"\"\u001B[39;00m\n\u001B[1;32m    211\u001B[0m \u001B[38;5;28;01mimport\u001B[39;00m \u001B[38;5;21;01mbz2\u001B[39;00m\n\u001B[0;32m--> 212\u001B[0m fname \u001B[38;5;241m=\u001B[39m \u001B[43mfetch_data\u001B[49m\u001B[43m(\u001B[49m\u001B[38;5;124;43m\"\u001B[39;49m\u001B[38;5;124;43mface.dat\u001B[39;49m\u001B[38;5;124;43m\"\u001B[39;49m\u001B[43m)\u001B[49m\n\u001B[1;32m    213\u001B[0m \u001B[38;5;28;01mwith\u001B[39;00m \u001B[38;5;28mopen\u001B[39m(fname, \u001B[38;5;124m'\u001B[39m\u001B[38;5;124mrb\u001B[39m\u001B[38;5;124m'\u001B[39m) \u001B[38;5;28;01mas\u001B[39;00m f:\n\u001B[1;32m    214\u001B[0m     rawdata \u001B[38;5;241m=\u001B[39m f\u001B[38;5;241m.\u001B[39mread()\n",
      "File \u001B[0;32m~/Programming/Github/pzpn/venv/lib/python3.12/site-packages/scipy/datasets/_fetchers.py:27\u001B[0m, in \u001B[0;36mfetch_data\u001B[0;34m(dataset_name, data_fetcher)\u001B[0m\n\u001B[1;32m     25\u001B[0m \u001B[38;5;28;01mdef\u001B[39;00m \u001B[38;5;21mfetch_data\u001B[39m(dataset_name, data_fetcher\u001B[38;5;241m=\u001B[39mdata_fetcher):\n\u001B[1;32m     26\u001B[0m     \u001B[38;5;28;01mif\u001B[39;00m data_fetcher \u001B[38;5;129;01mis\u001B[39;00m \u001B[38;5;28;01mNone\u001B[39;00m:\n\u001B[0;32m---> 27\u001B[0m         \u001B[38;5;28;01mraise\u001B[39;00m \u001B[38;5;167;01mImportError\u001B[39;00m(\u001B[38;5;124m\"\u001B[39m\u001B[38;5;124mMissing optional dependency \u001B[39m\u001B[38;5;124m'\u001B[39m\u001B[38;5;124mpooch\u001B[39m\u001B[38;5;124m'\u001B[39m\u001B[38;5;124m required \u001B[39m\u001B[38;5;124m\"\u001B[39m\n\u001B[1;32m     28\u001B[0m                           \u001B[38;5;124m\"\u001B[39m\u001B[38;5;124mfor scipy.datasets module. Please use pip or \u001B[39m\u001B[38;5;124m\"\u001B[39m\n\u001B[1;32m     29\u001B[0m                           \u001B[38;5;124m\"\u001B[39m\u001B[38;5;124mconda to install \u001B[39m\u001B[38;5;124m'\u001B[39m\u001B[38;5;124mpooch\u001B[39m\u001B[38;5;124m'\u001B[39m\u001B[38;5;124m.\u001B[39m\u001B[38;5;124m\"\u001B[39m)\n\u001B[1;32m     30\u001B[0m     \u001B[38;5;66;03m# The \"fetch\" method returns the full path to the downloaded data file.\u001B[39;00m\n\u001B[1;32m     31\u001B[0m     \u001B[38;5;28;01mreturn\u001B[39;00m data_fetcher\u001B[38;5;241m.\u001B[39mfetch(dataset_name)\n",
      "\u001B[0;31mImportError\u001B[0m: Missing optional dependency 'pooch' required for scipy.datasets module. Please use pip or conda to install 'pooch'."
     ]
    }
   ],
   "execution_count": 6
  },
  {
   "cell_type": "code",
   "metadata": {
    "ExecuteTime": {
     "end_time": "2024-10-15T10:54:07.215094Z",
     "start_time": "2024-10-15T10:54:06.996377Z"
    }
   },
   "source": [
    "from scipy import ndimage\n",
    "rotated = ndimage.rotate(face, 45)\n",
    "plt.imshow(rotated)\n",
    "plt.show()"
   ],
   "outputs": [
    {
     "ename": "NameError",
     "evalue": "name 'face' is not defined",
     "output_type": "error",
     "traceback": [
      "\u001B[0;31m---------------------------------------------------------------------------\u001B[0m",
      "\u001B[0;31mNameError\u001B[0m                                 Traceback (most recent call last)",
      "Cell \u001B[0;32mIn[7], line 2\u001B[0m\n\u001B[1;32m      1\u001B[0m \u001B[38;5;28;01mfrom\u001B[39;00m \u001B[38;5;21;01mscipy\u001B[39;00m \u001B[38;5;28;01mimport\u001B[39;00m ndimage\n\u001B[0;32m----> 2\u001B[0m rotated \u001B[38;5;241m=\u001B[39m ndimage\u001B[38;5;241m.\u001B[39mrotate(\u001B[43mface\u001B[49m, \u001B[38;5;241m45\u001B[39m)\n\u001B[1;32m      3\u001B[0m plt\u001B[38;5;241m.\u001B[39mimshow(rotated)\n\u001B[1;32m      4\u001B[0m plt\u001B[38;5;241m.\u001B[39mshow()\n",
      "\u001B[0;31mNameError\u001B[0m: name 'face' is not defined"
     ]
    }
   ],
   "execution_count": 7
  },
  {
   "cell_type": "code",
   "metadata": {
    "ExecuteTime": {
     "end_time": "2024-10-15T10:54:12.958351Z",
     "start_time": "2024-10-15T10:54:12.934513Z"
    }
   },
   "source": [
    "uniform = ndimage.uniform_filter(face)\n",
    "plt.imshow(uniform)\n",
    "plt.show()"
   ],
   "outputs": [
    {
     "ename": "NameError",
     "evalue": "name 'face' is not defined",
     "output_type": "error",
     "traceback": [
      "\u001B[0;31m---------------------------------------------------------------------------\u001B[0m",
      "\u001B[0;31mNameError\u001B[0m                                 Traceback (most recent call last)",
      "Cell \u001B[0;32mIn[8], line 1\u001B[0m\n\u001B[0;32m----> 1\u001B[0m uniform \u001B[38;5;241m=\u001B[39m ndimage\u001B[38;5;241m.\u001B[39muniform_filter(\u001B[43mface\u001B[49m)\n\u001B[1;32m      2\u001B[0m plt\u001B[38;5;241m.\u001B[39mimshow(uniform)\n\u001B[1;32m      3\u001B[0m plt\u001B[38;5;241m.\u001B[39mshow()\n",
      "\u001B[0;31mNameError\u001B[0m: name 'face' is not defined"
     ]
    }
   ],
   "execution_count": 8
  },
  {
   "cell_type": "markdown",
   "metadata": {},
   "source": [
    "### Algebra liniowa\n",
    "\n",
    "Suma cyfr pewnej liczby trzycyfrowej wynosi 18. Cyfra dziesiątek jest o 1 większa od cyfry jedności. Jeśli zamienimy miejscami cyfrę setek i dziesiątek, to otrzymamy liczbę o 180 większą od początkowej. Wyznacz liczbę początkową.\n",
    "\n",
    "$$\\left\\{\\begin{array}{rcl}\n",
    "x + y + z & = & 18\\\\\n",
    "y - z     & = & 1\\\\\n",
    "100x + 10y + z + 180 & = & 100y + 10x + z\n",
    "\\end{array} \\right.$$\n",
    "\n",
    "$$\\left\\{\\begin{array}{rcl}\n",
    "x + y + z & = & 18\\\\\n",
    "y - z     & = & 1\\\\\n",
    "90x - 90y & = & -180\n",
    "\\end{array} \\right.$$"
   ]
  },
  {
   "cell_type": "code",
   "execution_count": 5,
   "metadata": {},
   "outputs": [
    {
     "name": "stdout",
     "output_type": "stream",
     "text": [
      "[5. 7. 6.]\n"
     ]
    }
   ],
   "source": [
    "from scipy import linalg\n",
    "import numpy as np\n",
    "\n",
    "# zapis macierzowy\n",
    "a = np.array([[1, 1, 1], [0, 1, -1], [90, -90, 0]])\n",
    "b = np.array([18, 1, -180])\n",
    "\n",
    "x = linalg.solve(a, b)\n",
    "\n",
    "print(x)"
   ]
  },
  {
   "cell_type": "markdown",
   "metadata": {},
   "source": [
    "### Kombinatoryka\n",
    "\n",
    "Ile haseł ośmioznakowych można utworzyć używając małych i wielkich liter oraz cyfr przy założeniu, że się nie powtarzają.\n"
   ]
  },
  {
   "cell_type": "code",
   "execution_count": 6,
   "metadata": {},
   "outputs": [
    {
     "name": "stdout",
     "output_type": "stream",
     "text": [
      "136325893334400.0\n"
     ]
    }
   ],
   "source": [
    "from scipy.special import perm\n",
    "res = perm(26 + 26 + 10, 8)\n",
    "print(res)"
   ]
  },
  {
   "cell_type": "markdown",
   "metadata": {},
   "source": [
    "### Optymalizacja\n",
    "\n",
    "Obliczenia numeryczne np. wyszukiwanie miejsc zerowych funkcji."
   ]
  },
  {
   "cell_type": "code",
   "execution_count": 7,
   "metadata": {},
   "outputs": [
    {
     "name": "stdout",
     "output_type": "stream",
     "text": [
      " message: The solution converged.\n",
      " success: True\n",
      "  status: 1\n",
      "     fun: [ 0.000e+00]\n",
      "       x: [ 1.000e+00]\n",
      "  method: hybr\n",
      "    nfev: 6\n",
      "    fjac: [[-1.000e+00]]\n",
      "       r: [-2.000e+00]\n",
      "     qtf: [ 2.682e-08]\n"
     ]
    }
   ],
   "source": [
    "from scipy.optimize import root\n",
    "import numpy as np\n",
    "\n",
    "def func(x):\n",
    "    return 2*x - 2\n",
    "\n",
    "\n",
    "sol = root(func, 0.1)\n",
    "print(sol)"
   ]
  },
  {
   "cell_type": "code",
   "execution_count": 8,
   "metadata": {},
   "outputs": [
    {
     "name": "stdout",
     "output_type": "stream",
     "text": [
      " message: The solution converged.\n",
      " success: True\n",
      "  status: 1\n",
      "     fun: [ 0.000e+00]\n",
      "       x: [ 1.000e+00]\n",
      "  method: hybr\n",
      "    nfev: 6\n",
      "    fjac: [[-1.000e+00]]\n",
      "       r: [-2.000e+00]\n",
      "     qtf: [ 2.682e-08]\n"
     ]
    }
   ],
   "source": [
    "# z wykorzystaniem wyrażenia lambda\n",
    "sol = root(lambda x: 2*x - 2, 0.1)\n",
    "print(sol)"
   ]
  },
  {
   "cell_type": "markdown",
   "metadata": {},
   "source": [
    "### Algorytmy grafowe\n",
    "\n",
    "Możliwe jest np. wyznaczanie najkrótszych ścieżek w grafie."
   ]
  },
  {
   "cell_type": "code",
   "execution_count": 9,
   "metadata": {},
   "outputs": [
    {
     "name": "stdout",
     "output_type": "stream",
     "text": [
      "[[  0 100  90]\n",
      " [100   0   9]\n",
      " [ 90   9   0]]\n"
     ]
    },
    {
     "data": {
      "text/plain": [
       "array([[ 0., 99., 90.],\n",
       "       [99.,  0.,  9.],\n",
       "       [90.,  9.,  0.]])"
      ]
     },
     "execution_count": 9,
     "metadata": {},
     "output_type": "execute_result"
    }
   ],
   "source": [
    "from scipy.sparse.csgraph import shortest_path\n",
    "import numpy as np\n",
    "# macierz sąsiedztwa z odległościami\n",
    "graph = np.array([\n",
    "   [0, 100, 90],\n",
    "   [100, 0, 9],\n",
    "   [90, 9, 0]])\n",
    "print(graph)\n",
    "shortest_path(graph) # macierz z najkrótszymi odległościami"
   ]
  },
  {
   "cell_type": "markdown",
   "metadata": {},
   "source": [
    "## SymPy\n",
    "\n",
    "[SymPy](https://www.sympy.org) to biblioteką do obsługi obliczeń symbolicznych."
   ]
  },
  {
   "cell_type": "code",
   "execution_count": 10,
   "metadata": {},
   "outputs": [
    {
     "name": "stdout",
     "output_type": "stream",
     "text": [
      "x**2 + 2*x + 1\n",
      "(x + 1)**2\n",
      "(x*y + 1)**2\n"
     ]
    }
   ],
   "source": [
    "from sympy import Symbol, factor\n",
    "x = Symbol('x')\n",
    "y = Symbol('y')\n",
    "print(y + x + x + 1 + x * x - y) # uproszczenie wyrażenia\n",
    "print(factor(x + x + 1 + x * x)) # zamiana na iloczyn\n",
    "print(factor(x * y + y * x + 1 + x ** 2 * y ** 2))"
   ]
  }
 ],
 "metadata": {
  "kernelspec": {
   "display_name": "Python 3 (ipykernel)",
   "language": "python",
   "name": "python3"
  },
  "language_info": {
   "codemirror_mode": {
    "name": "ipython",
    "version": 3
   },
   "file_extension": ".py",
   "mimetype": "text/x-python",
   "name": "python",
   "nbconvert_exporter": "python",
   "pygments_lexer": "ipython3",
   "version": "3.12.3"
  }
 },
 "nbformat": 4,
 "nbformat_minor": 4
}
