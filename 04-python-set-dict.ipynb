{
 "cells": [
  {
   "cell_type": "markdown",
   "metadata": {},
   "source": [
    "# Python: zbiory i słowniki"
   ]
  },
  {
   "cell_type": "markdown",
   "metadata": {},
   "source": [
    "## Zbiór\n",
    "\n",
    "Zbiór jest typem reprezentującym kolekcję nieuporządkowaną, która:\n",
    "- zawiera unikalne wartości\n",
    "- jest tworzona za pomocą nawiasów klamrowych `{ elementy }` (wyłącznie z elementami) lub `set`\n",
    "- może przechowywać wyłącznie typy niemutowalne (nie da się utworzyć zbioru list lub zbioru zbiorów)\n",
    "- cechuje się szybkim wyszukiwaniem"
   ]
  },
  {
   "cell_type": "code",
   "execution_count": 1,
   "metadata": {
    "ExecuteTime": {
     "end_time": "2024-09-19T11:49:37.958595Z",
     "start_time": "2024-09-19T11:49:37.954697Z"
    }
   },
   "outputs": [
    {
     "name": "stdout",
     "output_type": "stream",
     "text": [
      "set()\n"
     ]
    }
   ],
   "source": [
    "empty_set = set()\n",
    "print(empty_set)"
   ]
  },
  {
   "cell_type": "code",
   "execution_count": 2,
   "metadata": {
    "ExecuteTime": {
     "end_time": "2024-06-15T15:17:18.695346Z",
     "start_time": "2024-06-15T15:17:18.690388Z"
    }
   },
   "outputs": [
    {
     "name": "stdout",
     "output_type": "stream",
     "text": [
      "4\n"
     ]
    }
   ],
   "source": [
    "# utworzenie zbioru\n",
    "miscs = {'Python', 16, 3.14, True}\n",
    "print(len(miscs))"
   ]
  },
  {
   "cell_type": "code",
   "execution_count": 3,
   "metadata": {
    "ExecuteTime": {
     "end_time": "2024-06-15T15:17:19.596972Z",
     "start_time": "2024-06-15T15:17:19.592863Z"
    }
   },
   "outputs": [
    {
     "name": "stdout",
     "output_type": "stream",
     "text": [
      "{None, True, 2.71, 3.14, 'Jupyter', 16, 'Python'}\n"
     ]
    }
   ],
   "source": [
    "# dodanie elementu do zbioru\n",
    "miscs.add('Python')\n",
    "miscs.add(None)\n",
    "miscs.add(16)\n",
    "miscs |= {'Jupyter', 2.71} # lub miscs.update({'Jupyter', 2.71})\n",
    "print(miscs)"
   ]
  },
  {
   "cell_type": "code",
   "execution_count": 4,
   "metadata": {
    "ExecuteTime": {
     "end_time": "2024-06-15T15:17:20.166238Z",
     "start_time": "2024-06-15T15:17:20.162303Z"
    }
   },
   "outputs": [
    {
     "name": "stdout",
     "output_type": "stream",
     "text": [
      "None\n",
      "{True, 2.71, 3.14, 'Jupyter', 16, 'Python'}\n"
     ]
    }
   ],
   "source": [
    "# wyciągnięcie i usunięcie elementu\n",
    "last = miscs.pop()\n",
    "print(last)\n",
    "print(miscs)"
   ]
  },
  {
   "cell_type": "code",
   "execution_count": 5,
   "metadata": {
    "ExecuteTime": {
     "end_time": "2024-06-15T15:17:20.738082Z",
     "start_time": "2024-06-15T15:17:20.733244Z"
    }
   },
   "outputs": [
    {
     "name": "stdout",
     "output_type": "stream",
     "text": [
      "{True, 2.71, 3.14, 'Jupyter', 16}\n"
     ]
    }
   ],
   "source": [
    "# usunięcie elementu\n",
    "miscs.remove('Python')\n",
    "print(miscs)"
   ]
  },
  {
   "cell_type": "code",
   "execution_count": 6,
   "metadata": {
    "ExecuteTime": {
     "end_time": "2024-06-15T15:17:21.167354Z",
     "start_time": "2024-06-15T15:17:21.160884Z"
    }
   },
   "outputs": [
    {
     "name": "stdout",
     "output_type": "stream",
     "text": [
      "{1, 2, 3, 4}\n",
      "{1, 2}\n",
      "{3}\n",
      "{1, 2, 4}\n",
      "True\n",
      "False\n",
      "True\n",
      "False\n"
     ]
    }
   ],
   "source": [
    "# operacje na zbiorach\n",
    "print({1, 2, 3} | {3, 4})\n",
    "print({1, 2, 3} - {3, 4})\n",
    "print({1, 2, 3} & {3, 4})\n",
    "print({1, 2, 3} ^ {3, 4})\n",
    "print({1, 2, 3} > {1, 2})\n",
    "print({1, 2, 3} <= {1, 2})\n",
    "print({1, 2, 3} != {1, 2})\n",
    "print({1, 2, 3} == {1, 2})"
   ]
  },
  {
   "cell_type": "markdown",
   "metadata": {},
   "source": [
    "Typ `frozenset` to niemutowalna wersja `set`."
   ]
  },
  {
   "cell_type": "code",
   "execution_count": 7,
   "metadata": {
    "ExecuteTime": {
     "end_time": "2024-06-15T15:17:22.407763Z",
     "start_time": "2024-06-15T15:17:22.403647Z"
    }
   },
   "outputs": [
    {
     "name": "stdout",
     "output_type": "stream",
     "text": [
      "frozenset({'Celina', 'Jan', 'Anna'})\n"
     ]
    }
   ],
   "source": [
    "frozen_names = frozenset(['Anna', 'Celina', 'Jan'])\n",
    "print(frozen_names)"
   ]
  },
  {
   "cell_type": "markdown",
   "metadata": {},
   "source": [
    "## Słownik\n",
    "\n",
    "Słownik jest typem reprezentującym kolekcję, która:\n",
    "- przechowuje pary *klucz* - *wartość*\n",
    "- jest tworzony za pomocą nawiasów klamrowych `{}` lub `dict`\n",
    "- jest mutowalny, można zmieniać jego zawartość\n",
    "- cechuje się szybkim wyszukiwaniem według klucza (musi być niemutowalny)\n"
   ]
  },
  {
   "cell_type": "code",
   "execution_count": 8,
   "metadata": {
    "ExecuteTime": {
     "end_time": "2024-06-15T15:17:23.410576Z",
     "start_time": "2024-06-15T15:17:23.406714Z"
    }
   },
   "outputs": [
    {
     "name": "stdout",
     "output_type": "stream",
     "text": [
      "{}\n",
      "{}\n"
     ]
    }
   ],
   "source": [
    "empty_dict = dict()\n",
    "print(empty_dict)\n",
    "empty_dict = {}\n",
    "print(empty_dict)"
   ]
  },
  {
   "cell_type": "code",
   "execution_count": 9,
   "metadata": {
    "ExecuteTime": {
     "end_time": "2024-06-15T15:17:23.853750Z",
     "start_time": "2024-06-15T15:17:23.849575Z"
    }
   },
   "outputs": [
    {
     "name": "stdout",
     "output_type": "stream",
     "text": [
      "{'name': 'John', 'surname': 'Smith'}\n",
      "{'name': 'John', 'surname': 'Smith', 'age': 30}\n"
     ]
    }
   ],
   "source": [
    "# utworzenie słownika i dodanie elementu\n",
    "person = {'name': 'John', 'surname': 'Smith'}\n",
    "print(person)\n",
    "person['age'] = 30\n",
    "print(person)"
   ]
  },
  {
   "cell_type": "code",
   "execution_count": 10,
   "metadata": {
    "ExecuteTime": {
     "end_time": "2024-06-15T15:17:24.469466Z",
     "start_time": "2024-06-15T15:17:24.465678Z"
    }
   },
   "outputs": [
    {
     "name": "stdout",
     "output_type": "stream",
     "text": [
      "John\n",
      "Smith\n"
     ]
    }
   ],
   "source": [
    "# pobieranie wartości\n",
    "print(person.get('name'))\n",
    "print(person['surname'])"
   ]
  },
  {
   "cell_type": "code",
   "execution_count": 11,
   "metadata": {
    "ExecuteTime": {
     "end_time": "2024-06-15T15:17:25.076119Z",
     "start_time": "2024-06-15T15:17:25.072101Z"
    }
   },
   "outputs": [
    {
     "name": "stdout",
     "output_type": "stream",
     "text": [
      "dict_keys(['name', 'surname', 'age'])\n",
      "dict_values(['John', 'Smith', 30])\n",
      "dict_items([('name', 'John'), ('surname', 'Smith'), ('age', 30)])\n"
     ]
    }
   ],
   "source": [
    "# klucze, wartości i pary\n",
    "print(person.keys())\n",
    "print(person.values())\n",
    "print(person.items())"
   ]
  },
  {
   "cell_type": "code",
   "execution_count": 12,
   "metadata": {
    "ExecuteTime": {
     "end_time": "2024-06-15T15:17:25.472028Z",
     "start_time": "2024-06-15T15:17:25.464880Z"
    }
   },
   "outputs": [
    {
     "name": "stdout",
     "output_type": "stream",
     "text": [
      "30\n",
      "{'name': 'John', 'surname': 'Smith'}\n",
      "{'name': 'John'}\n"
     ]
    }
   ],
   "source": [
    "# usuwanie wartości\n",
    "item = person.pop('age')\n",
    "print(item)\n",
    "print(person)\n",
    "del person['surname']\n",
    "print(person)"
   ]
  },
  {
   "cell_type": "code",
   "execution_count": null,
   "metadata": {},
   "outputs": [],
   "source": []
  }
 ],
 "metadata": {
  "kernelspec": {
   "display_name": "Python 3 (ipykernel)",
   "language": "python",
   "name": "python3"
  },
  "language_info": {
   "codemirror_mode": {
    "name": "ipython",
    "version": 3
   },
   "file_extension": ".py",
   "mimetype": "text/x-python",
   "name": "python",
   "nbconvert_exporter": "python",
   "pygments_lexer": "ipython3",
   "version": "3.12.3"
  }
 },
 "nbformat": 4,
 "nbformat_minor": 4
}
