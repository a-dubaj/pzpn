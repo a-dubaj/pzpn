{
 "cells": [
  {
   "cell_type": "markdown",
   "metadata": {},
   "source": [
    "# Python: zbiory i słowniki"
   ]
  },
  {
   "cell_type": "markdown",
   "metadata": {},
   "source": [
    "## Zbiór\n",
    "\n",
    "Zbiór jest typem reprezentującym kolekcję nieuporządkowaną, która:\n",
    "- zawiera unikalne wartości\n",
    "- jest tworzona za pomocą nawiasów klamrowych `{ elementy }` (wyłącznie z elementami) lub `set`\n",
    "- może przechowywać wyłącznie typy niemutowalne (nie da się utworzyć zbioru list lub zbioru zbiorów)\n",
    "- cechuje się szybkim wyszukiwaniem"
   ]
  },
  {
   "cell_type": "code",
   "metadata": {
    "ExecuteTime": {
     "end_time": "2024-06-15T15:17:17.749915Z",
     "start_time": "2024-06-15T15:17:17.744227Z"
    }
   },
   "source": [
    "empty_set = set()\n",
    "print(empty_set)"
   ],
   "outputs": [
    {
     "name": "stdout",
     "output_type": "stream",
     "text": [
      "set()\n"
     ]
    }
   ],
   "execution_count": 1
  },
  {
   "cell_type": "code",
   "metadata": {
    "ExecuteTime": {
     "end_time": "2024-06-15T15:17:18.695346Z",
     "start_time": "2024-06-15T15:17:18.690388Z"
    }
   },
   "source": [
    "# utworzenie zbioru\n",
    "miscs = {'Python', 16, 3.14, True}\n",
    "print(len(miscs))"
   ],
   "outputs": [
    {
     "name": "stdout",
     "output_type": "stream",
     "text": [
      "4\n"
     ]
    }
   ],
   "execution_count": 2
  },
  {
   "cell_type": "code",
   "metadata": {
    "ExecuteTime": {
     "end_time": "2024-06-15T15:17:19.596972Z",
     "start_time": "2024-06-15T15:17:19.592863Z"
    }
   },
   "source": [
    "# dodanie elementu do zbioru\n",
    "miscs.add('Python')\n",
    "miscs.add(None)\n",
    "miscs.add(16)\n",
    "miscs |= {'Jupyter', 2.71} # lub miscs.update({'Jupyter', 2.71})\n",
    "print(miscs)"
   ],
   "outputs": [
    {
     "name": "stdout",
     "output_type": "stream",
     "text": [
      "{True, 2.71, 3.14, 'Python', 'Jupyter', 16, None}\n"
     ]
    }
   ],
   "execution_count": 3
  },
  {
   "cell_type": "code",
   "metadata": {
    "ExecuteTime": {
     "end_time": "2024-06-15T15:17:20.166238Z",
     "start_time": "2024-06-15T15:17:20.162303Z"
    }
   },
   "source": [
    "# wyciągnięcie i usunięcie elementu\n",
    "last = miscs.pop()\n",
    "print(last)\n",
    "print(miscs)"
   ],
   "outputs": [
    {
     "name": "stdout",
     "output_type": "stream",
     "text": [
      "True\n",
      "{2.71, 3.14, 'Python', 'Jupyter', 16, None}\n"
     ]
    }
   ],
   "execution_count": 4
  },
  {
   "cell_type": "code",
   "metadata": {
    "ExecuteTime": {
     "end_time": "2024-06-15T15:17:20.738082Z",
     "start_time": "2024-06-15T15:17:20.733244Z"
    }
   },
   "source": [
    "# usunięcie elementu\n",
    "miscs.remove('Python')\n",
    "print(miscs)"
   ],
   "outputs": [
    {
     "name": "stdout",
     "output_type": "stream",
     "text": [
      "{2.71, 3.14, 'Jupyter', 16, None}\n"
     ]
    }
   ],
   "execution_count": 5
  },
  {
   "cell_type": "code",
   "metadata": {
    "ExecuteTime": {
     "end_time": "2024-06-15T15:17:21.167354Z",
     "start_time": "2024-06-15T15:17:21.160884Z"
    }
   },
   "source": [
    "# operacje na zbiorach\n",
    "print({1, 2, 3} | {3, 4})\n",
    "print({1, 2, 3} - {3, 4})\n",
    "print({1, 2, 3} & {3, 4})\n",
    "print({1, 2, 3} ^ {3, 4})\n",
    "print({1, 2, 3} > {1, 2})\n",
    "print({1, 2, 3} <= {1, 2})\n",
    "print({1, 2, 3} != {1, 2})\n",
    "print({1, 2, 3} == {1, 2})"
   ],
   "outputs": [
    {
     "name": "stdout",
     "output_type": "stream",
     "text": [
      "{1, 2, 3, 4}\n",
      "{1, 2}\n",
      "{3}\n",
      "{1, 2, 4}\n",
      "True\n",
      "False\n",
      "True\n",
      "False\n"
     ]
    }
   ],
   "execution_count": 6
  },
  {
   "cell_type": "markdown",
   "metadata": {},
   "source": [
    "Typ `frozenset` to niemutowalna wersja `set`."
   ]
  },
  {
   "cell_type": "code",
   "metadata": {
    "ExecuteTime": {
     "end_time": "2024-06-15T15:17:22.407763Z",
     "start_time": "2024-06-15T15:17:22.403647Z"
    }
   },
   "source": [
    "frozen_names = frozenset(['Anna', 'Celina', 'Jan'])\n",
    "print(frozen_names)"
   ],
   "outputs": [
    {
     "name": "stdout",
     "output_type": "stream",
     "text": [
      "frozenset({'Celina', 'Anna', 'Jan'})\n"
     ]
    }
   ],
   "execution_count": 7
  },
  {
   "cell_type": "markdown",
   "metadata": {},
   "source": [
    "## Słownik\n",
    "\n",
    "Słownik jest typem reprezentującym kolekcję, która:\n",
    "- przechowuje pary *klucz* - *wartość*\n",
    "- jest tworzony za pomocą nawiasów klamrowych `{}` lub `dict`\n",
    "- jest mutowalny, można zmieniać jego zawartość\n",
    "- cechuje się szybkim wyszukiwaniem według klucza (musi być niemutowalny)\n"
   ]
  },
  {
   "cell_type": "code",
   "metadata": {
    "ExecuteTime": {
     "end_time": "2024-06-15T15:17:23.410576Z",
     "start_time": "2024-06-15T15:17:23.406714Z"
    }
   },
   "source": [
    "empty_dict = dict()\n",
    "print(empty_dict)\n",
    "empty_dict = {}\n",
    "print(empty_dict)"
   ],
   "outputs": [
    {
     "name": "stdout",
     "output_type": "stream",
     "text": [
      "{}\n",
      "{}\n"
     ]
    }
   ],
   "execution_count": 8
  },
  {
   "cell_type": "code",
   "metadata": {
    "ExecuteTime": {
     "end_time": "2024-06-15T15:17:23.853750Z",
     "start_time": "2024-06-15T15:17:23.849575Z"
    }
   },
   "source": [
    "# utworzenie słownika i dodanie elementu\n",
    "person = {'name': 'John', 'surname': 'Smith'}\n",
    "print(person)\n",
    "person['age'] = 30\n",
    "print(person)"
   ],
   "outputs": [
    {
     "name": "stdout",
     "output_type": "stream",
     "text": [
      "{'name': 'John', 'surname': 'Smith'}\n",
      "{'name': 'John', 'surname': 'Smith', 'age': 30}\n"
     ]
    }
   ],
   "execution_count": 9
  },
  {
   "cell_type": "code",
   "metadata": {
    "ExecuteTime": {
     "end_time": "2024-06-15T15:17:24.469466Z",
     "start_time": "2024-06-15T15:17:24.465678Z"
    }
   },
   "source": [
    "# pobieranie wartości\n",
    "print(person.get('name'))\n",
    "print(person['surname'])"
   ],
   "outputs": [
    {
     "name": "stdout",
     "output_type": "stream",
     "text": [
      "John\n",
      "Smith\n"
     ]
    }
   ],
   "execution_count": 10
  },
  {
   "cell_type": "code",
   "metadata": {
    "ExecuteTime": {
     "end_time": "2024-06-15T15:17:25.076119Z",
     "start_time": "2024-06-15T15:17:25.072101Z"
    }
   },
   "source": [
    "# klucze, wartości i pary\n",
    "print(person.keys())\n",
    "print(person.values())\n",
    "print(person.items())"
   ],
   "outputs": [
    {
     "name": "stdout",
     "output_type": "stream",
     "text": [
      "dict_keys(['name', 'surname', 'age'])\n",
      "dict_values(['John', 'Smith', 30])\n",
      "dict_items([('name', 'John'), ('surname', 'Smith'), ('age', 30)])\n"
     ]
    }
   ],
   "execution_count": 11
  },
  {
   "cell_type": "code",
   "metadata": {
    "ExecuteTime": {
     "end_time": "2024-06-15T15:17:25.472028Z",
     "start_time": "2024-06-15T15:17:25.464880Z"
    }
   },
   "source": [
    "# usuwanie wartości\n",
    "item = person.pop('age')\n",
    "print(item)\n",
    "print(person)\n",
    "del person['surname']\n",
    "print(person)"
   ],
   "outputs": [
    {
     "name": "stdout",
     "output_type": "stream",
     "text": [
      "30\n",
      "{'name': 'John', 'surname': 'Smith'}\n",
      "{'name': 'John'}\n"
     ]
    }
   ],
   "execution_count": 12
  },
  {
   "metadata": {},
   "cell_type": "code",
   "outputs": [],
   "execution_count": null,
   "source": ""
  }
 ],
 "metadata": {
  "kernelspec": {
   "display_name": "Python 3 (ipykernel)",
   "language": "python",
   "name": "python3"
  },
  "language_info": {
   "codemirror_mode": {
    "name": "ipython",
    "version": 3
   },
   "file_extension": ".py",
   "mimetype": "text/x-python",
   "name": "python",
   "nbconvert_exporter": "python",
   "pygments_lexer": "ipython3",
   "version": "3.11.7"
  }
 },
 "nbformat": 4,
 "nbformat_minor": 4
}
